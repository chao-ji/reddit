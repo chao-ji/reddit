{
 "cells": [
  {
   "cell_type": "code",
   "execution_count": 2,
   "metadata": {
    "collapsed": false
   },
   "outputs": [
    {
     "data": {
      "text/html": [
       "<div>\n",
       "<table border=\"1\" class=\"dataframe\">\n",
       "  <thead>\n",
       "    <tr style=\"text-align: right;\">\n",
       "      <th>Test</th>\n",
       "      <th>F2M_PreCP_F</th>\n",
       "      <th>F2M_PostCP_F</th>\n",
       "      <th>F2M_PostCP_M</th>\n",
       "      <th>F_Only</th>\n",
       "    </tr>\n",
       "    <tr>\n",
       "      <th>Train</th>\n",
       "      <th></th>\n",
       "      <th></th>\n",
       "      <th></th>\n",
       "      <th></th>\n",
       "    </tr>\n",
       "  </thead>\n",
       "  <tbody>\n",
       "    <tr>\n",
       "      <th>F2M_PreCP_F</th>\n",
       "      <td>NaN</td>\n",
       "      <td>-7.187181</td>\n",
       "      <td>-7.214050</td>\n",
       "      <td>-7.126711</td>\n",
       "    </tr>\n",
       "    <tr>\n",
       "      <th>F2M_PostCP_F</th>\n",
       "      <td>-6.920193</td>\n",
       "      <td>NaN</td>\n",
       "      <td>-7.109825</td>\n",
       "      <td>-7.049650</td>\n",
       "    </tr>\n",
       "    <tr>\n",
       "      <th>F2M_PostCP_M</th>\n",
       "      <td>-6.879710</td>\n",
       "      <td>-7.028195</td>\n",
       "      <td>NaN</td>\n",
       "      <td>-6.992669</td>\n",
       "    </tr>\n",
       "    <tr>\n",
       "      <th>F_Only</th>\n",
       "      <td>-6.786466</td>\n",
       "      <td>-6.947195</td>\n",
       "      <td>-6.993046</td>\n",
       "      <td>NaN</td>\n",
       "    </tr>\n",
       "  </tbody>\n",
       "</table>\n",
       "</div>"
      ],
      "text/plain": [
       "Test          F2M_PreCP_F  F2M_PostCP_F  F2M_PostCP_M    F_Only\n",
       "Train                                                          \n",
       "F2M_PreCP_F           NaN     -7.187181     -7.214050 -7.126711\n",
       "F2M_PostCP_F    -6.920193           NaN     -7.109825 -7.049650\n",
       "F2M_PostCP_M    -6.879710     -7.028195           NaN -6.992669\n",
       "F_Only          -6.786466     -6.947195     -6.993046       NaN"
      ]
     },
     "execution_count": 2,
     "metadata": {},
     "output_type": "execute_result"
    }
   ],
   "source": [
    "import pickle\n",
    "import sys\n",
    "from collections import Counter\n",
    "import numpy as np\n",
    "from scipy import spatial\n",
    "from pandas import DataFrame\n",
    "\n",
    "sys.path.append(\"/home/jichao/Desktop/reddit/language_model\")\n",
    "from language_model import *\n",
    "\n",
    "tokens_fem2men_pre_cp = pickle.load(open(\"tokens_fem2men_pre_cp.pickle\"))\n",
    "tokens_fem2men_post_cp_fem = pickle.load(open(\"tokens_fem2men_post_cp_fem.pickle\"))\n",
    "tokens_fem2men_post_cp_men = pickle.load(open(\"tokens_fem2men_post_cp_men.pickle\"))\n",
    "tokens_fem_only = pickle.load(open(\"tokens_fem_only.pickle\"))\n",
    "\n",
    "d = [tokens_fem2men_pre_cp,\n",
    "    tokens_fem2men_post_cp_fem,\n",
    "    tokens_fem2men_post_cp_men,\n",
    "    tokens_fem_only]\n",
    "\n",
    "logprob = np.empty((4, 4))\n",
    "\n",
    "for i in range(len(d)):\n",
    "    train = d[i]\n",
    "    train_tokens = set(list(itertools.chain(*train)))\n",
    "\n",
    "    for j in range(len(d)):\n",
    "        if j != i:\n",
    "            test = d[j]\n",
    "            test_tokens = list(itertools.chain(*test))\n",
    "\n",
    "            bigram = Bigram(train, special_token=True)\n",
    "            oov = filter(lambda token: token not in train_tokens, test_tokens)\n",
    "            oov = len(set(oov))\n",
    "\n",
    "            bigram.fit(oov)\n",
    "            data = map(lambda tokens: bigram.predict(tokens), test)\n",
    "            logprob[i][j] = np.mean(data)\n",
    "        else:\n",
    "            logprob[i][j] = np.nan\n",
    "\n",
    "logprob = DataFrame(logprob,\n",
    "                    index=[\"F2M_PreCP_F\", \"F2M_PostCP_F\", \"F2M_PostCP_M\", \"F_Only\"],\n",
    "                    columns=[\"F2M_PreCP_F\", \"F2M_PostCP_F\", \"F2M_PostCP_M\", \"F_Only\"])\n",
    "logprob.index.name = \"Train\"\n",
    "logprob.columns.name = \"Test\"\n",
    "logprob\n"
   ]
  },
  {
   "cell_type": "code",
   "execution_count": null,
   "metadata": {
    "collapsed": true
   },
   "outputs": [],
   "source": []
  }
 ],
 "metadata": {
  "anaconda-cloud": {},
  "kernelspec": {
   "display_name": "Python [conda root]",
   "language": "python",
   "name": "conda-root-py"
  },
  "language_info": {
   "codemirror_mode": {
    "name": "ipython",
    "version": 2
   },
   "file_extension": ".py",
   "mimetype": "text/x-python",
   "name": "python",
   "nbconvert_exporter": "python",
   "pygments_lexer": "ipython2",
   "version": "2.7.12"
  }
 },
 "nbformat": 4,
 "nbformat_minor": 1
}
