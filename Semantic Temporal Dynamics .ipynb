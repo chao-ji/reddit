{
 "cells": [
  {
   "cell_type": "code",
   "execution_count": 1,
   "metadata": {
    "collapsed": true
   },
   "outputs": [],
   "source": [
    "import re\n",
    "import datetime\n",
    "import itertools\n",
    "import pickle\n",
    "from collections import Counter\n",
    "\n",
    "import pandas as pd\n",
    "import numpy as np\n",
    "import pymongo\n",
    "import matplotlib.pyplot as plt\n",
    "import matplotlib.pylab as pylab\n",
    "import seaborn as sns\n",
    "from pymongo import MongoClient\n",
    "\n",
    "import pyLDAvis\n",
    "from wordcloud import WordCloud\n",
    "from sklearn.manifold import TSNE\n",
    "from nltk.corpus import stopwords\n",
    "from sklearn.manifold import TSNE\n",
    "from pyLDAvis import gensim\n",
    "from scipy.spatial import distance\n",
    "\n",
    "client = MongoClient(\"localhost\", 27017)\n",
    "db = client[\"reddit_polarization\"]\n",
    "sw = pickle.load(open(\"stoplist.pickle\"))\n",
    "sw.update(stopwords.words(\"english\"))"
   ]
  },
  {
   "cell_type": "code",
   "execution_count": 2,
   "metadata": {
    "collapsed": true
   },
   "outputs": [],
   "source": [
    "import warnings\n",
    "warnings.simplefilter('ignore')\n",
    "    \n",
    "from gensim import models\n",
    "model = models.Doc2Vec.load(\"doc2vec_dbow_d100_n5_w15_mc5_s1e_05_t6.model\")"
   ]
  },
  {
   "cell_type": "code",
   "execution_count": 3,
   "metadata": {
    "collapsed": false
   },
   "outputs": [],
   "source": [
    "X_men_specific_word, X_fem_specific_word = pickle.load(open(\"polar_words.pickle\"))"
   ]
  },
  {
   "cell_type": "code",
   "execution_count": 4,
   "metadata": {
    "collapsed": false
   },
   "outputs": [
    {
     "data": {
      "text/plain": [
       "((500, 100), (500, 100))"
      ]
     },
     "execution_count": 4,
     "metadata": {},
     "output_type": "execute_result"
    }
   ],
   "source": [
    "X_men_specific_word.shape, X_fem_specific_word.shape"
   ]
  },
  {
   "cell_type": "code",
   "execution_count": 80,
   "metadata": {
    "collapsed": true
   },
   "outputs": [],
   "source": [
    "men_posts = pd.DataFrame(list(db[\"MensRights\"].find({}, {\"date\": 1, \"created_utc\": 1, \"_id\": 1})))\n",
    "fem_posts = pd.DataFrame(list(db[\"Feminism\"].find({}, {\"date\": 1, \"created_utc\": 1, \"_id\": 1})))"
   ]
  },
  {
   "cell_type": "code",
   "execution_count": 81,
   "metadata": {
    "collapsed": false
   },
   "outputs": [
    {
     "data": {
      "text/plain": [
       "((2452716, 3), (213100, 3))"
      ]
     },
     "execution_count": 81,
     "metadata": {},
     "output_type": "execute_result"
    }
   ],
   "source": [
    "men_posts.shape, fem_posts.shape"
   ]
  },
  {
   "cell_type": "code",
   "execution_count": 82,
   "metadata": {
    "collapsed": true
   },
   "outputs": [],
   "source": [
    "men_posts = men_posts[men_posts[\"_id\"].map(lambda x: str(x) in model.docvecs.doctags)]\n",
    "fem_posts = fem_posts[fem_posts[\"_id\"].map(lambda x: str(x) in model.docvecs.doctags)]"
   ]
  },
  {
   "cell_type": "code",
   "execution_count": 83,
   "metadata": {
    "collapsed": false
   },
   "outputs": [
    {
     "data": {
      "text/plain": [
       "((1334802, 3), (132789, 3))"
      ]
     },
     "execution_count": 83,
     "metadata": {},
     "output_type": "execute_result"
    }
   ],
   "source": [
    "men_posts.shape, fem_posts.shape"
   ]
  },
  {
   "cell_type": "code",
   "execution_count": 84,
   "metadata": {
    "collapsed": false
   },
   "outputs": [],
   "source": [
    "men_posts = men_posts.sort_values(\"created_utc\")\n",
    "men_posts = men_posts.reset_index(drop=True)\n",
    "men_posts = men_posts.set_index(\"date\")"
   ]
  },
  {
   "cell_type": "code",
   "execution_count": 85,
   "metadata": {
    "collapsed": false
   },
   "outputs": [],
   "source": [
    "fem_posts = fem_posts.sort_values(\"created_utc\")\n",
    "fem_posts = fem_posts.reset_index(drop=True)\n",
    "fem_posts = fem_posts.set_index(\"date\")"
   ]
  },
  {
   "cell_type": "code",
   "execution_count": 86,
   "metadata": {
    "collapsed": false
   },
   "outputs": [],
   "source": [
    "common_dates = sorted(list(set(men_posts.index) & set(fem_posts.index)))"
   ]
  },
  {
   "cell_type": "code",
   "execution_count": 87,
   "metadata": {
    "collapsed": false
   },
   "outputs": [
    {
     "data": {
      "text/plain": [
       "2148"
      ]
     },
     "execution_count": 87,
     "metadata": {},
     "output_type": "execute_result"
    }
   ],
   "source": [
    "len(common_dates)"
   ]
  },
  {
   "cell_type": "code",
   "execution_count": 148,
   "metadata": {
    "collapsed": false
   },
   "outputs": [],
   "source": [
    "def semantic_dist_between(date):\n",
    "    if date.month == 1 and date.day == 1:\n",
    "        print date\n",
    "    \n",
    "    l1 = men_posts.ix[men_posts.index == date, \"_id\"]\n",
    "    l2 = fem_posts.ix[fem_posts.index == date, \"_id\"]\n",
    "    \n",
    "    X1 = np.array([model.docvecs[str(one_id)] for one_id in l1])\n",
    "    X2 = np.array([model.docvecs[str(one_id)] for one_id in l2])\n",
    "    \n",
    "    return cosine_distances(X1, X2).mean()"
   ]
  },
  {
   "cell_type": "code",
   "execution_count": 192,
   "metadata": {
    "collapsed": false
   },
   "outputs": [
    {
     "name": "stdout",
     "output_type": "stream",
     "text": [
      "2010-01-01 00:00:00\n",
      "2011-01-01 00:00:00\n",
      "2012-01-01 00:00:00\n",
      "2013-01-01 00:00:00\n",
      "2014-01-01 00:00:00\n",
      "2015-01-01 00:00:00\n",
      "2016-01-01 00:00:00\n"
     ]
    }
   ],
   "source": [
    "a = map(lambda x: (x, semantic_dist_between(x)), common_dates)"
   ]
  },
  {
   "cell_type": "code",
   "execution_count": 193,
   "metadata": {
    "collapsed": false
   },
   "outputs": [],
   "source": [
    "a = pd.DataFrame(a)\n",
    "a.columns = [\"date\", \"dist\"]\n",
    "a = a.set_index(\"date\")"
   ]
  },
  {
   "cell_type": "code",
   "execution_count": 195,
   "metadata": {
    "collapsed": false
   },
   "outputs": [
    {
     "data": {
      "image/png": "[encoded data removed]",
      "text/plain": [
       "<matplotlib.figure.Figure at 0x7f6547b99ad0>"
      ]
     },
     "metadata": {},
     "output_type": "display_data"
    }
   ],
   "source": [
    "pd.rolling_mean(a, window=60).plot()\n",
    "plt.show()"
   ]
  },
  {
   "cell_type": "code",
   "execution_count": 41,
   "metadata": {
    "collapsed": true
   },
   "outputs": [],
   "source": [
    "from sklearn.metrics.pairwise import paired_distances, cosine_distances"
   ]
  },
  {
   "cell_type": "code",
   "execution_count": 42,
   "metadata": {
    "collapsed": true
   },
   "outputs": [],
   "source": [
    "a = np.random.randint(1, 10, size=(5, 10))\n",
    "b = np.random.randint(1, 10, size=(5, 10))"
   ]
  },
  {
   "cell_type": "code",
   "execution_count": 43,
   "metadata": {
    "collapsed": false
   },
   "outputs": [
    {
     "data": {
      "text/plain": [
       "array([[1, 1, 8, 8, 7, 8, 7, 7, 1, 6],\n",
       "       [4, 6, 6, 4, 2, 4, 6, 9, 3, 8],\n",
       "       [9, 5, 9, 7, 8, 6, 2, 1, 5, 1],\n",
       "       [4, 9, 5, 1, 4, 7, 8, 3, 3, 9],\n",
       "       [2, 6, 3, 9, 5, 8, 3, 2, 3, 4]])"
      ]
     },
     "execution_count": 43,
     "metadata": {},
     "output_type": "execute_result"
    }
   ],
   "source": [
    "a"
   ]
  },
  {
   "cell_type": "code",
   "execution_count": 44,
   "metadata": {
    "collapsed": false
   },
   "outputs": [
    {
     "data": {
      "text/plain": [
       "array([[6, 4, 9, 2, 3, 8, 9, 7, 9, 7],\n",
       "       [4, 1, 8, 5, 4, 3, 1, 5, 5, 4],\n",
       "       [8, 2, 9, 9, 6, 3, 4, 9, 5, 4],\n",
       "       [1, 1, 5, 6, 3, 2, 6, 9, 9, 3],\n",
       "       [6, 2, 5, 5, 6, 9, 1, 2, 6, 8]])"
      ]
     },
     "execution_count": 44,
     "metadata": {},
     "output_type": "execute_result"
    }
   ],
   "source": [
    "b"
   ]
  },
  {
   "cell_type": "code",
   "execution_count": 45,
   "metadata": {
    "collapsed": false
   },
   "outputs": [
    {
     "data": {
      "text/plain": [
       "array([ 12.489996  ,   9.79795897,  10.19803903,  15.3622915 ,   9.11043358])"
      ]
     },
     "execution_count": 45,
     "metadata": {},
     "output_type": "execute_result"
    }
   ],
   "source": [
    "paired_distances(a, b)"
   ]
  },
  {
   "cell_type": "code",
   "execution_count": 46,
   "metadata": {
    "collapsed": false
   },
   "outputs": [
    {
     "data": {
      "text/plain": [
       "9.1104335791442992"
      ]
     },
     "execution_count": 46,
     "metadata": {},
     "output_type": "execute_result"
    }
   ],
   "source": [
    "np.linalg.norm(a[-1]- b[-1])"
   ]
  },
  {
   "cell_type": "code",
   "execution_count": 56,
   "metadata": {
    "collapsed": false
   },
   "outputs": [
    {
     "data": {
      "text/plain": [
       "0.094130805715259003"
      ]
     },
     "execution_count": 56,
     "metadata": {},
     "output_type": "execute_result"
    }
   ],
   "source": [
    "distance.cosine(a[1], b[0])"
   ]
  },
  {
   "cell_type": "code",
   "execution_count": 50,
   "metadata": {
    "collapsed": false
   },
   "outputs": [
    {
     "data": {
      "text/plain": [
       "array([[ 0.17911698,  0.15197337,  0.1394859 ,  0.20811768,  0.19340306],\n",
       "       [ 0.09413081,  0.1658082 ,  0.13916118,  0.17476609,  0.23322292],\n",
       "       [ 0.23432378,  0.13193903,  0.13182227,  0.36079381,  0.14889693],\n",
       "       [ 0.11858479,  0.31341799,  0.31974588,  0.3685975 ,  0.20526033],\n",
       "       [ 0.26341228,  0.24195157,  0.22957187,  0.32143523,  0.14185156]])"
      ]
     },
     "execution_count": 50,
     "metadata": {},
     "output_type": "execute_result"
    }
   ],
   "source": [
    "cosine_distances(a, b)"
   ]
  },
  {
   "cell_type": "code",
   "execution_count": null,
   "metadata": {
    "collapsed": true
   },
   "outputs": [],
   "source": []
  },
  {
   "cell_type": "code",
   "execution_count": null,
   "metadata": {
    "collapsed": true
   },
   "outputs": [],
   "source": []
  },
  {
   "cell_type": "code",
   "execution_count": 17,
   "metadata": {
    "collapsed": false
   },
   "outputs": [
    {
     "data": {
      "text/plain": [
       "Timestamp('2009-05-12 00:00:00')"
      ]
     },
     "execution_count": 17,
     "metadata": {},
     "output_type": "execute_result"
    }
   ],
   "source": [
    "common_dates[0]"
   ]
  },
  {
   "cell_type": "code",
   "execution_count": 18,
   "metadata": {
    "collapsed": false
   },
   "outputs": [
    {
     "data": {
      "text/plain": [
       "(43, 2)"
      ]
     },
     "execution_count": 18,
     "metadata": {},
     "output_type": "execute_result"
    }
   ],
   "source": [
    "semantic_dist_between(common_dates[0])"
   ]
  },
  {
   "cell_type": "code",
   "execution_count": null,
   "metadata": {
    "collapsed": true
   },
   "outputs": [],
   "source": []
  },
  {
   "cell_type": "code",
   "execution_count": 45,
   "metadata": {
    "collapsed": true
   },
   "outputs": [],
   "source": [
    "radius = 5\n",
    "\n",
    "def trend(row, df, center):\n",
    "\n",
    "    date = row.name\n",
    "    days = [date + datetime.timedelta(days=d) for d in range(-radius, radius)]\n",
    "\n",
    "    ids = []\n",
    "    \n",
    "    for d in days:\n",
    "        if d in df.index:\n",
    "            ids.extend(list(df.ix[d, \"ids\"]))\n",
    "    \n",
    "    dist = [distance.cosine(model.docvecs[str(one_id)], center) for one_id in ids if str(one_id) in model.docvecs.doctags]\n",
    "    \n",
    "    if date.day == 1 and date.month == 1:\n",
    "        print date\n",
    "    \n",
    "    return np.mean(dist)    \n",
    "#            if author_groupby_day.ix[d, \"men_author\"] is not np.nan:\n",
    "#                men_author.extend(list(author_groupby_day.ix[d, \"men_author\"]))\n",
    "#            if author_groupby_day.ix[d, \"fem_author\"] is not np.nan:\n",
    "#                fem_author.extend(list(author_groupby_day.ix[d, \"fem_author\"]))"
   ]
  },
  {
   "cell_type": "code",
   "execution_count": null,
   "metadata": {
    "collapsed": true
   },
   "outputs": [],
   "source": []
  }
 ],
 "metadata": {
  "anaconda-cloud": {},
  "kernelspec": {
   "display_name": "Python [conda root]",
   "language": "python",
   "name": "conda-root-py"
  },
  "language_info": {
   "codemirror_mode": {
    "name": "ipython",
    "version": 2
   },
   "file_extension": ".py",
   "mimetype": "text/x-python",
   "name": "python",
   "nbconvert_exporter": "python",
   "pygments_lexer": "ipython2",
   "version": "2.7.12"
  }
 },
 "nbformat": 4,
 "nbformat_minor": 1
}
