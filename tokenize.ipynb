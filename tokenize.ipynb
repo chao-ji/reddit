{
 "cells": [
  {
   "cell_type": "code",
   "execution_count": 1,
   "metadata": {
    "collapsed": true
   },
   "outputs": [],
   "source": [
    "import pickle"
   ]
  },
  {
   "cell_type": "code",
   "execution_count": 9,
   "metadata": {
    "collapsed": false
   },
   "outputs": [],
   "source": [
    "tokens = pickle.load(open(\"2010_5_F.pickle\"))"
   ]
  },
  {
   "cell_type": "code",
   "execution_count": 10,
   "metadata": {
    "collapsed": false
   },
   "outputs": [
    {
     "data": {
      "text/plain": [
       "75896         [[the, title, confused, me, for, a, moment]]\n",
       "75903                                [[d], [nicely, done]]\n",
       "76195                                         [[oh, dear]]\n",
       "76229                                                   []\n",
       "76418    [[i, just, ordered, five, cups, for, friends, ...\n",
       "Name: body, dtype: object"
      ]
     },
     "execution_count": 10,
     "metadata": {},
     "output_type": "execute_result"
    }
   ],
   "source": [
    "tokens.head()"
   ]
  },
  {
   "cell_type": "code",
   "execution_count": 11,
   "metadata": {
    "collapsed": false
   },
   "outputs": [
    {
     "data": {
      "text/plain": [
       "[['obviously', 'yes'],\n",
       " ['it',\n",
       "  'would',\n",
       "  'also',\n",
       "  'be',\n",
       "  'better',\n",
       "  'the',\n",
       "  'bias',\n",
       "  'was',\n",
       "  \"n't\",\n",
       "  'there',\n",
       "  'in',\n",
       "  'the',\n",
       "  'first',\n",
       "  'place'],\n",
       " ['sadly',\n",
       "  'it',\n",
       "  'is',\n",
       "  'and',\n",
       "  'that',\n",
       "  'requires',\n",
       "  'a',\n",
       "  'temporary',\n",
       "  'bias',\n",
       "  'in',\n",
       "  'the',\n",
       "  'opposite',\n",
       "  'direction',\n",
       "  'to',\n",
       "  'correct',\n",
       "  'the',\n",
       "  'cultural',\n",
       "  'problems',\n",
       "  'that',\n",
       "  'have',\n",
       "  'lead',\n",
       "  'to',\n",
       "  'current',\n",
       "  'lack',\n",
       "  'of',\n",
       "  'equality'],\n",
       " ['when',\n",
       "  'people',\n",
       "  'stop',\n",
       "  'being',\n",
       "  'sexist',\n",
       "  'jerks',\n",
       "  'we',\n",
       "  'can',\n",
       "  'start',\n",
       "  'talking',\n",
       "  'about',\n",
       "  'not',\n",
       "  'giving',\n",
       "  'women',\n",
       "  'specific',\n",
       "  'incentives',\n",
       "  'to',\n",
       "  'compete']]"
      ]
     },
     "execution_count": 11,
     "metadata": {},
     "output_type": "execute_result"
    }
   ],
   "source": [
    "tokens[79438]"
   ]
  },
  {
   "cell_type": "code",
   "execution_count": null,
   "metadata": {
    "collapsed": true
   },
   "outputs": [],
   "source": []
  }
 ],
 "metadata": {
  "kernelspec": {
   "display_name": "Python 2",
   "language": "python",
   "name": "python2"
  },
  "language_info": {
   "codemirror_mode": {
    "name": "ipython",
    "version": 2
   },
   "file_extension": ".py",
   "mimetype": "text/x-python",
   "name": "python",
   "nbconvert_exporter": "python",
   "pygments_lexer": "ipython2",
   "version": "2.7.12"
  }
 },
 "nbformat": 4,
 "nbformat_minor": 1
}
