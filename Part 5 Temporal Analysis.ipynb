{
 "cells": [
  {
   "cell_type": "markdown",
   "metadata": {},
   "source": [
    "In part 3, we computed the linguistic divergence between two corpora consisting of texts from **r/MensRights** and **r/Feminism** respectively, and we had some idea about how the linguistic distance between the two subreddits has evolved over time.\n",
    "\n",
    "Note that in part 3 the corpus from **r/MensRights** or **r/Feminism** was represented as counters of words (e.g. `{\"apple\": 2, \"pen\": 3, \"pineapple\": 1, ...}`), which is essentially the same as unigram language model.\n",
    "\n",
    "In this part we'll perform further analysis to quantitatively measure the linguistic distance between the two subreddits. First we'll train a bigram language model ([language_model.py](https://github.com/chao-ji/reddit/blob/master/language_model.py)) using the corpus from one subreddit, which will be used to evaluate the sentence probabilities within different time intervals from the other subreddit. Then we'll extend the analysis to the semantic level: we'll make use of the vector representation of text and compute the linguistic distance based on vector arithmetics."
   ]
  },
  {
   "cell_type": "code",
   "execution_count": 1,
   "metadata": {
    "collapsed": true
   },
   "outputs": [],
   "source": [
    "import datetime\n",
    "import itertools\n",
    "import pickle\n",
    "\n",
    "import pandas as pd\n",
    "import numpy as np\n",
    "import pymongo\n",
    "import matplotlib.pyplot as plt\n",
    "import seaborn as sns\n",
    "from pymongo import MongoClient\n",
    "\n",
    "from nltk.corpus import stopwords\n",
    "from sklearn.metrics.pairwise import cosine_distances\n",
    "\n",
    "from language_model import *\n",
    "\n",
    "client = MongoClient(\"localhost\", 27017)\n",
    "db = client[\"reddit_polarization\"]\n",
    "sw = pickle.load(open(\"stoplist.pickle\"))\n",
    "sw.update(stopwords.words(\"english\"))"
   ]
  },
  {
   "cell_type": "markdown",
   "metadata": {},
   "source": [
    "First we need to create a generator for the text data. The text data is too large to fit in memory. To train and evaluate the the bigram model, we only need traverse the data in one pass."
   ]
  },
  {
   "cell_type": "code",
   "execution_count": 2,
   "metadata": {
    "collapsed": true
   },
   "outputs": [],
   "source": [
    "def men_corpus():\n",
    "    for doc in db[\"MensRights\"].find({}, {\"created_utc\": 1, \"tokens\": 1, \"_id\": 0}).sort(\"created_utc\", pymongo.ASCENDING):\n",
    "        tokens = doc[\"tokens\"].split()\n",
    "        if len(tokens) >= 30:\n",
    "            yield tokens\n",
    "            \n",
    "def fem_corpus():\n",
    "    for doc in db[\"Feminism\"].find({}, {\"created_utc\": 1, \"tokens\": 1, \"_id\": 0}).sort(\"created_utc\", pymongo.ASCENDING):\n",
    "        tokens = doc[\"tokens\"].split()\n",
    "        if len(tokens) >= 2:\n",
    "            yield tokens       "
   ]
  },
  {
   "cell_type": "markdown",
   "metadata": {},
   "source": [
    "The probabilities computed in bigram model was smoothed using Good-Turing method, for which we need to find the number of words in the testing corpus that do not show up in the training corpus (aka *out-of-vocabulary* words). \n",
    "\n",
    "Because we'll swtich the roles of two corpora, we'll compute the number of *out-of-vocabulary* words separately for **r/MensRights** and **r/Feminism**."
   ]
  },
  {
   "cell_type": "code",
   "execution_count": 3,
   "metadata": {
    "collapsed": false
   },
   "outputs": [],
   "source": [
    "corpus_men_tokens = set()\n",
    "\n",
    "for tokens in men_corpus():\n",
    "        corpus_men_tokens.update(tokens)\n",
    "        \n",
    "corpus_fem_tokens = set()\n",
    "\n",
    "for tokens in fem_corpus():\n",
    "        corpus_fem_tokens.update(tokens)\n",
    "\n",
    "# out-of-vocabulary for rMR: words in rFem that are not present in rMR\n",
    "oov_men = len(corpus_fem_tokens - corpus_men_tokens)\n",
    "# out-of-vocabulary for rFem: words in rMR that are not present in rFem\n",
    "oov_fem = len(corpus_men_tokens - corpus_fem_tokens)\n",
    "del corpus_fem_tokens, corpus_men_tokens"
   ]
  },
  {
   "cell_type": "code",
   "execution_count": 4,
   "metadata": {
    "collapsed": false
   },
   "outputs": [],
   "source": [
    "# Train bigram model on rMR corpus\n",
    "bigram_men = Bigram(special_token=False)\n",
    "bigram_men = bigram_men.fit(men_corpus(), oov_men)"
   ]
  },
  {
   "cell_type": "code",
   "execution_count": 5,
   "metadata": {
    "collapsed": true
   },
   "outputs": [],
   "source": [
    "# Define helper function that computes the avearge of the log-transformed\n",
    "# probabilities of posts in subreddit `subreddit` and in date `d`\n",
    "\n",
    "def eval_sentprob(subreddit, model, d):\n",
    "    if d.month == 1 and d.day == 1:\n",
    "        print d\n",
    "        \n",
    "    docs = db[subreddit].find({\"date\": d}, {\"date\": 1, \"tokens\": 1, \"_id\": 0})\n",
    "    test_corpus = map(lambda d: d[\"tokens\"].split(), docs)\n",
    "    test_corpus = filter(lambda x: len(x) >= 2, test_corpus)\n",
    "    probs = np.array(map(lambda x: model.predict(x), test_corpus))\n",
    "    probs = probs[~np.isnan(probs)]\n",
    "    if len(probs) > 0:\n",
    "        return np.mean(probs)\n",
    "    else:\n",
    "        return np.nan"
   ]
  },
  {
   "cell_type": "code",
   "execution_count": 6,
   "metadata": {
    "collapsed": false
   },
   "outputs": [
    {
     "name": "stdout",
     "output_type": "stream",
     "text": [
      "2010-01-01 00:00:00\n",
      "2011-01-01 00:00:00\n",
      "2012-01-01 00:00:00\n",
      "2013-01-01 00:00:00\n",
      "2014-01-01 00:00:00\n",
      "2015-01-01 00:00:00\n",
      "2016-01-01 00:00:00\n"
     ]
    }
   ],
   "source": [
    "# Compute the average of log-probabilities of sentenfce \n",
    "\n",
    "dates = map(lambda d: d[\"date\"], db[\"Feminism\"].find({}, {\"date\": 1, \"_id\": 0}))\n",
    "dates = sorted(list(set(dates)))\n",
    "test_probs = map(lambda x: eval_sentprob(\"Feminism\", bigram_men, x), dates)"
   ]
  },
  {
   "cell_type": "code",
   "execution_count": 7,
   "metadata": {
    "collapsed": false
   },
   "outputs": [],
   "source": [
    "# Build series object with dates as the index\n",
    "ser = pd.Series(test_probs, index=dates)\n",
    "ser = ser[ser.notnull()]\n",
    "ser[-10:]"
   ]
  },
  {
   "cell_type": "markdown",
   "metadata": {},
   "source": [
    "Plot the average of log-probabilities over all posts in rFem for each day"
   ]
  },
  {
   "cell_type": "code",
   "execution_count": 9,
   "metadata": {
    "collapsed": false
   },
   "outputs": [
    {
     "data": {
      "image/png": "[encoded data removed]",
      "text/plain": [
       "<matplotlib.figure.Figure at 0x7f4b93d5fa90>"
      ]
     },
     "metadata": {},
     "output_type": "display_data"
    }
   ],
   "source": [
    "ser = ser.rolling(window=30).mean()\n",
    "ser.plot()\n",
    "plt.title(\"log-prob of rFem sentences on Bigram model trained on rMR\")\n",
    "plt.ylabel(\"Avg. $log(prob)$ of sentence per day\")\n",
    "plt.xlabel(\"Time\")\n",
    "plt.show()"
   ]
  },
  {
   "cell_type": "code",
   "execution_count": 10,
   "metadata": {
    "collapsed": false
   },
   "outputs": [],
   "source": [
    "del bigram_men\n",
    "# Train bigram model on rMR corpus\n",
    "\n",
    "bigram_fem = Bigram(special_token=False)\n",
    "bigram_fem = bigram_fem.fit(fem_corpus(), oov_fem)"
   ]
  },
  {
   "cell_type": "code",
   "execution_count": 11,
   "metadata": {
    "collapsed": false
   },
   "outputs": [
    {
     "name": "stdout",
     "output_type": "stream",
     "text": [
      "2009-01-01 00:00:00\n",
      "2010-01-01 00:00:00\n",
      "2011-01-01 00:00:00\n",
      "2012-01-01 00:00:00\n",
      "2013-01-01 00:00:00\n",
      "2014-01-01 00:00:00\n",
      "2015-01-01 00:00:00\n",
      "2016-01-01 00:00:00\n"
     ]
    }
   ],
   "source": [
    "# Compute the average of log-probabilities of sentenfce \n",
    "\n",
    "dates = map(lambda d: d[\"date\"], db[\"MensRights\"].find({}, {\"date\": 1, \"_id\": 0}))\n",
    "dates = sorted(list(set(dates)))\n",
    "test_probs = map(lambda x: eval_sentprob(\"MensRights\", bigram_fem, x), dates)"
   ]
  },
  {
   "cell_type": "code",
   "execution_count": 12,
   "metadata": {
    "collapsed": false
   },
   "outputs": [],
   "source": [
    "# Build series object with dates as the index\n",
    "\n",
    "ser = pd.Series(test_probs, index=dates)\n",
    "ser = ser[ser.notnull()]\n",
    "ser[-10:]"
   ]
  },
  {
   "cell_type": "markdown",
   "metadata": {},
   "source": [
    "Plot the average of log-probabilities over all posts in rFem for each day"
   ]
  },
  {
   "cell_type": "code",
   "execution_count": 14,
   "metadata": {
    "collapsed": false
   },
   "outputs": [
    {
     "data": {
      "image/png": "[encoded data removed]",
      "text/plain": [
       "<matplotlib.figure.Figure at 0x7f4b5d5c4e50>"
      ]
     },
     "metadata": {},
     "output_type": "display_data"
    }
   ],
   "source": [
    "ser = ser.rolling(window=30).mean()\n",
    "ser = ser[120:]\n",
    "ser.plot()\n",
    "plt.title(\"log-prob of rMR sentences on Bigram model trained on rFem\")\n",
    "plt.ylabel(\"Avg. $log(prob)$ of sentence per day\")\n",
    "plt.xlabel(\"Time\")\n",
    "plt.show()"
   ]
  },
  {
   "cell_type": "markdown",
   "metadata": {
    "collapsed": true
   },
   "source": [
    "Note that we don't have as many posts in earlier "
   ]
  },
  {
   "cell_type": "code",
   "execution_count": null,
   "metadata": {
    "collapsed": true
   },
   "outputs": [],
   "source": []
  },
  {
   "cell_type": "code",
   "execution_count": null,
   "metadata": {
    "collapsed": true
   },
   "outputs": [],
   "source": []
  },
  {
   "cell_type": "code",
   "execution_count": null,
   "metadata": {
    "collapsed": true
   },
   "outputs": [],
   "source": []
  },
  {
   "cell_type": "code",
   "execution_count": null,
   "metadata": {
    "collapsed": true
   },
   "outputs": [],
   "source": []
  },
  {
   "cell_type": "code",
   "execution_count": null,
   "metadata": {
    "collapsed": true
   },
   "outputs": [],
   "source": []
  },
  {
   "cell_type": "code",
   "execution_count": 15,
   "metadata": {
    "collapsed": true
   },
   "outputs": [],
   "source": [
    "del bigram_fem\n",
    "\n",
    "import warnings\n",
    "warnings.simplefilter('ignore')\n",
    "    \n",
    "from gensim import models\n",
    "model = models.Doc2Vec.load(\"doc2vec_dbow_d100_n5_w15_mc5_s1e_05_t6.model\")"
   ]
  },
  {
   "cell_type": "code",
   "execution_count": 16,
   "metadata": {
    "collapsed": true
   },
   "outputs": [],
   "source": [
    "def thread(df):\n",
    "    s = df.groupby(\"author\").apply(lambda author_df: set(author_df[\"link_id\"].unique()))\n",
    "    return s.to_dict()"
   ]
  },
  {
   "cell_type": "code",
   "execution_count": 17,
   "metadata": {
    "collapsed": false
   },
   "outputs": [],
   "source": [
    "men_posts = pd.DataFrame(list(db[\"MensRights\"].find({}, {\"date\": 1, \"created_utc\": 1, \"link_id\": 1,\n",
    "                                                         \"author\": 1, \"_id\": 1}).sort(\"created_utc\",\n",
    "                                                                                      pymongo.ASCENDING)))\n",
    "\n",
    "fem_posts = pd.DataFrame(list(db[\"Feminism\"].find({}, {\"date\": 1, \"created_utc\": 1, \"link_id\": 1,\n",
    "                                                       \"author\": 1, \"_id\": 1}).sort(\"created_utc\",\n",
    "                                                                                    pymongo.ASCENDING)))\n",
    "\n",
    "men_posts = men_posts[men_posts[\"_id\"].map(lambda x: str(x) in model.docvecs)]\n",
    "fem_posts = fem_posts[fem_posts[\"_id\"].map(lambda x: str(x) in model.docvecs)]"
   ]
  },
  {
   "cell_type": "code",
   "execution_count": 18,
   "metadata": {
    "collapsed": false
   },
   "outputs": [
    {
     "data": {
      "text/html": [
       "<div>\n",
       "<table border=\"1\" class=\"dataframe\">\n",
       "  <thead>\n",
       "    <tr style=\"text-align: right;\">\n",
       "      <th></th>\n",
       "      <th>_id</th>\n",
       "      <th>author</th>\n",
       "      <th>created_utc</th>\n",
       "      <th>date</th>\n",
       "      <th>link_id</th>\n",
       "    </tr>\n",
       "  </thead>\n",
       "  <tbody>\n",
       "    <tr>\n",
       "      <th>0</th>\n",
       "      <td>57c657db79a3030ce0379124</td>\n",
       "      <td>kanuk876</td>\n",
       "      <td>2008-03-21 15:35:09</td>\n",
       "      <td>2008-03-21</td>\n",
       "      <td>t3_6cx14</td>\n",
       "    </tr>\n",
       "    <tr>\n",
       "      <th>1</th>\n",
       "      <td>57c657dc79a3030ce0380a72</td>\n",
       "      <td>WorcesterM</td>\n",
       "      <td>2008-03-24 09:05:47</td>\n",
       "      <td>2008-03-24</td>\n",
       "      <td>t3_6d4ku</td>\n",
       "    </tr>\n",
       "    <tr>\n",
       "      <th>2</th>\n",
       "      <td>57c657dc79a3030ce0385021</td>\n",
       "      <td>WorcesterM</td>\n",
       "      <td>2008-03-25 11:54:29</td>\n",
       "      <td>2008-03-25</td>\n",
       "      <td>t3_6db9x</td>\n",
       "    </tr>\n",
       "    <tr>\n",
       "      <th>3</th>\n",
       "      <td>57c657dc79a3030ce03855c1</td>\n",
       "      <td>linuxlass</td>\n",
       "      <td>2008-03-25 13:27:03</td>\n",
       "      <td>2008-03-25</td>\n",
       "      <td>t3_6db9x</td>\n",
       "    </tr>\n",
       "    <tr>\n",
       "      <th>4</th>\n",
       "      <td>57c657dd79a3030ce0388c35</td>\n",
       "      <td>Xiphorian</td>\n",
       "      <td>2008-03-26 09:41:00</td>\n",
       "      <td>2008-03-26</td>\n",
       "      <td>t3_6cv4i</td>\n",
       "    </tr>\n",
       "    <tr>\n",
       "      <th>11</th>\n",
       "      <td>57c657e579a3030ce03cc184</td>\n",
       "      <td>andymikey</td>\n",
       "      <td>2008-04-13 15:53:04</td>\n",
       "      <td>2008-04-13</td>\n",
       "      <td>t3_6flx4</td>\n",
       "    </tr>\n",
       "    <tr>\n",
       "      <th>13</th>\n",
       "      <td>57c657e979a3030ce03eb88d</td>\n",
       "      <td>Xiphorian</td>\n",
       "      <td>2008-04-21 23:41:30</td>\n",
       "      <td>2008-04-21</td>\n",
       "      <td>t3_6gm6f</td>\n",
       "    </tr>\n",
       "    <tr>\n",
       "      <th>15</th>\n",
       "      <td>57c657ea79a3030ce03ee833</td>\n",
       "      <td>Xiphorian</td>\n",
       "      <td>2008-04-22 16:31:14</td>\n",
       "      <td>2008-04-22</td>\n",
       "      <td>t3_6gq5w</td>\n",
       "    </tr>\n",
       "    <tr>\n",
       "      <th>16</th>\n",
       "      <td>57c657ea79a3030ce03f3b1d</td>\n",
       "      <td>yojustkeepitreal</td>\n",
       "      <td>2008-04-23 19:27:39</td>\n",
       "      <td>2008-04-23</td>\n",
       "      <td>t3_6gu4k</td>\n",
       "    </tr>\n",
       "    <tr>\n",
       "      <th>18</th>\n",
       "      <td>57c657ee79a3030ce040b25c</td>\n",
       "      <td>linuxlass</td>\n",
       "      <td>2008-04-29 17:18:57</td>\n",
       "      <td>2008-04-29</td>\n",
       "      <td>t3_6hh45</td>\n",
       "    </tr>\n",
       "  </tbody>\n",
       "</table>\n",
       "</div>"
      ],
      "text/plain": [
       "                         _id            author         created_utc       date  \\\n",
       "0   57c657db79a3030ce0379124          kanuk876 2008-03-21 15:35:09 2008-03-21   \n",
       "1   57c657dc79a3030ce0380a72        WorcesterM 2008-03-24 09:05:47 2008-03-24   \n",
       "2   57c657dc79a3030ce0385021        WorcesterM 2008-03-25 11:54:29 2008-03-25   \n",
       "3   57c657dc79a3030ce03855c1         linuxlass 2008-03-25 13:27:03 2008-03-25   \n",
       "4   57c657dd79a3030ce0388c35         Xiphorian 2008-03-26 09:41:00 2008-03-26   \n",
       "11  57c657e579a3030ce03cc184         andymikey 2008-04-13 15:53:04 2008-04-13   \n",
       "13  57c657e979a3030ce03eb88d         Xiphorian 2008-04-21 23:41:30 2008-04-21   \n",
       "15  57c657ea79a3030ce03ee833         Xiphorian 2008-04-22 16:31:14 2008-04-22   \n",
       "16  57c657ea79a3030ce03f3b1d  yojustkeepitreal 2008-04-23 19:27:39 2008-04-23   \n",
       "18  57c657ee79a3030ce040b25c         linuxlass 2008-04-29 17:18:57 2008-04-29   \n",
       "\n",
       "     link_id  \n",
       "0   t3_6cx14  \n",
       "1   t3_6d4ku  \n",
       "2   t3_6db9x  \n",
       "3   t3_6db9x  \n",
       "4   t3_6cv4i  \n",
       "11  t3_6flx4  \n",
       "13  t3_6gm6f  \n",
       "15  t3_6gq5w  \n",
       "16  t3_6gu4k  \n",
       "18  t3_6hh45  "
      ]
     },
     "execution_count": 18,
     "metadata": {},
     "output_type": "execute_result"
    }
   ],
   "source": [
    "men_posts[:10]"
   ]
  },
  {
   "cell_type": "code",
   "execution_count": 19,
   "metadata": {
    "collapsed": false
   },
   "outputs": [
    {
     "data": {
      "text/html": [
       "<div>\n",
       "<table border=\"1\" class=\"dataframe\">\n",
       "  <thead>\n",
       "    <tr style=\"text-align: right;\">\n",
       "      <th></th>\n",
       "      <th>_id</th>\n",
       "      <th>author</th>\n",
       "      <th>created_utc</th>\n",
       "      <th>date</th>\n",
       "      <th>link_id</th>\n",
       "    </tr>\n",
       "  </thead>\n",
       "  <tbody>\n",
       "    <tr>\n",
       "      <th>4</th>\n",
       "      <td>57c655e779a3030ce04be7d5</td>\n",
       "      <td>cyborg_selkie</td>\n",
       "      <td>2009-05-12 23:39:24</td>\n",
       "      <td>2009-05-12</td>\n",
       "      <td>t3_8k0db</td>\n",
       "    </tr>\n",
       "    <tr>\n",
       "      <th>7</th>\n",
       "      <td>57c6562979a3030ce06b6c95</td>\n",
       "      <td>Cassio</td>\n",
       "      <td>2009-07-02 19:02:15</td>\n",
       "      <td>2009-07-02</td>\n",
       "      <td>t3_8k0db</td>\n",
       "    </tr>\n",
       "    <tr>\n",
       "      <th>8</th>\n",
       "      <td>57c6563479a3030ce0701e1f</td>\n",
       "      <td>AnnArchist</td>\n",
       "      <td>2009-07-09 17:27:42</td>\n",
       "      <td>2009-07-09</td>\n",
       "      <td>t3_8zsla</td>\n",
       "    </tr>\n",
       "    <tr>\n",
       "      <th>9</th>\n",
       "      <td>57c6563579a3030ce0705285</td>\n",
       "      <td>Kowai03</td>\n",
       "      <td>2009-07-09 23:01:30</td>\n",
       "      <td>2009-07-09</td>\n",
       "      <td>t3_8zsla</td>\n",
       "    </tr>\n",
       "    <tr>\n",
       "      <th>11</th>\n",
       "      <td>57c6563679a3030ce0713754</td>\n",
       "      <td>nuuur32</td>\n",
       "      <td>2009-07-11 02:47:08</td>\n",
       "      <td>2009-07-11</td>\n",
       "      <td>t3_8g9mx</td>\n",
       "    </tr>\n",
       "    <tr>\n",
       "      <th>14</th>\n",
       "      <td>57c6565f79a3030ce0857526</td>\n",
       "      <td>Cassio</td>\n",
       "      <td>2009-08-07 06:55:32</td>\n",
       "      <td>2009-08-07</td>\n",
       "      <td>t3_98ds7</td>\n",
       "    </tr>\n",
       "    <tr>\n",
       "      <th>15</th>\n",
       "      <td>57c6566579a3030ce0882abf</td>\n",
       "      <td>SwampGass</td>\n",
       "      <td>2009-08-10 18:19:39</td>\n",
       "      <td>2009-08-10</td>\n",
       "      <td>t3_98scn</td>\n",
       "    </tr>\n",
       "    <tr>\n",
       "      <th>16</th>\n",
       "      <td>57c6566579a3030ce0882c6a</td>\n",
       "      <td>SwampGass</td>\n",
       "      <td>2009-08-10 18:27:49</td>\n",
       "      <td>2009-08-10</td>\n",
       "      <td>t3_977zr</td>\n",
       "    </tr>\n",
       "    <tr>\n",
       "      <th>17</th>\n",
       "      <td>57c6566679a3030ce088ea23</td>\n",
       "      <td>Aerik</td>\n",
       "      <td>2009-08-11 15:11:40</td>\n",
       "      <td>2009-08-11</td>\n",
       "      <td>t3_8x7nn</td>\n",
       "    </tr>\n",
       "    <tr>\n",
       "      <th>24</th>\n",
       "      <td>57c6568179a3030ce0948ad9</td>\n",
       "      <td>Naughtymonkey</td>\n",
       "      <td>2009-08-24 18:43:46</td>\n",
       "      <td>2009-08-24</td>\n",
       "      <td>t3_9dqpz</td>\n",
       "    </tr>\n",
       "  </tbody>\n",
       "</table>\n",
       "</div>"
      ],
      "text/plain": [
       "                         _id         author         created_utc       date  \\\n",
       "4   57c655e779a3030ce04be7d5  cyborg_selkie 2009-05-12 23:39:24 2009-05-12   \n",
       "7   57c6562979a3030ce06b6c95         Cassio 2009-07-02 19:02:15 2009-07-02   \n",
       "8   57c6563479a3030ce0701e1f     AnnArchist 2009-07-09 17:27:42 2009-07-09   \n",
       "9   57c6563579a3030ce0705285        Kowai03 2009-07-09 23:01:30 2009-07-09   \n",
       "11  57c6563679a3030ce0713754        nuuur32 2009-07-11 02:47:08 2009-07-11   \n",
       "14  57c6565f79a3030ce0857526         Cassio 2009-08-07 06:55:32 2009-08-07   \n",
       "15  57c6566579a3030ce0882abf      SwampGass 2009-08-10 18:19:39 2009-08-10   \n",
       "16  57c6566579a3030ce0882c6a      SwampGass 2009-08-10 18:27:49 2009-08-10   \n",
       "17  57c6566679a3030ce088ea23          Aerik 2009-08-11 15:11:40 2009-08-11   \n",
       "24  57c6568179a3030ce0948ad9  Naughtymonkey 2009-08-24 18:43:46 2009-08-24   \n",
       "\n",
       "     link_id  \n",
       "4   t3_8k0db  \n",
       "7   t3_8k0db  \n",
       "8   t3_8zsla  \n",
       "9   t3_8zsla  \n",
       "11  t3_8g9mx  \n",
       "14  t3_98ds7  \n",
       "15  t3_98scn  \n",
       "16  t3_977zr  \n",
       "17  t3_8x7nn  \n",
       "24  t3_9dqpz  "
      ]
     },
     "execution_count": 19,
     "metadata": {},
     "output_type": "execute_result"
    }
   ],
   "source": [
    "fem_posts[:10]"
   ]
  },
  {
   "cell_type": "code",
   "execution_count": 20,
   "metadata": {
    "collapsed": true
   },
   "outputs": [],
   "source": [
    "common_date = sorted(list(set(men_posts[\"date\"]) & set(fem_posts[\"date\"])))"
   ]
  },
  {
   "cell_type": "code",
   "execution_count": 21,
   "metadata": {
    "collapsed": false
   },
   "outputs": [
    {
     "data": {
      "text/plain": [
       "2148"
      ]
     },
     "execution_count": 21,
     "metadata": {},
     "output_type": "execute_result"
    }
   ],
   "source": [
    "len(common_date)"
   ]
  },
  {
   "cell_type": "code",
   "execution_count": 22,
   "metadata": {
    "collapsed": false
   },
   "outputs": [],
   "source": [
    "men_by_date = men_posts.groupby(\"date\").apply(lambda df: df.groupby(\"author\").apply(lambda x: list(x[\"_id\"])).to_dict())\n",
    "fem_by_date = fem_posts.groupby(\"date\").apply(lambda df: df.groupby(\"author\").apply(lambda x: list(x[\"_id\"])).to_dict())"
   ]
  },
  {
   "cell_type": "code",
   "execution_count": 23,
   "metadata": {
    "collapsed": false
   },
   "outputs": [
    {
     "data": {
      "text/plain": [
       "((2982,), (2148,))"
      ]
     },
     "execution_count": 23,
     "metadata": {},
     "output_type": "execute_result"
    }
   ],
   "source": [
    "men_by_date.shape, fem_by_date.shape"
   ]
  },
  {
   "cell_type": "code",
   "execution_count": 24,
   "metadata": {
    "collapsed": true
   },
   "outputs": [],
   "source": [
    "def semantic_dist_between(date):\n",
    "    if date.month == 1 and date.day == 1:\n",
    "        print date\n",
    "\n",
    "    radius = 15\n",
    "    dates = [date + datetime.timedelta(days=d) for d in range(-radius, radius)]\n",
    "\n",
    "    l1 = [list(itertools.chain(*men_by_date[d].values()) ) for d in dates if d in men_by_date]\n",
    "    l2 = [list(itertools.chain(*fem_by_date[d].values()) ) for d in dates if d in fem_by_date]\n",
    "    l1 = list(itertools.chain(*l1))\n",
    "    l2 = list(itertools.chain(*l2))\n",
    "    \n",
    "    X1 = np.array([model.docvecs[str(one_id)] for one_id in l1])\n",
    "    X2 = np.array([model.docvecs[str(one_id)] for one_id in l2])\n",
    "    \n",
    "    return cosine_distances(X1, X2).mean()"
   ]
  },
  {
   "cell_type": "code",
   "execution_count": 25,
   "metadata": {
    "collapsed": false
   },
   "outputs": [
    {
     "name": "stdout",
     "output_type": "stream",
     "text": [
      "2010-01-01 00:00:00\n",
      "2011-01-01 00:00:00\n",
      "2012-01-01 00:00:00\n",
      "2013-01-01 00:00:00\n",
      "2014-01-01 00:00:00\n",
      "2015-01-01 00:00:00\n",
      "2016-01-01 00:00:00\n"
     ]
    }
   ],
   "source": [
    "a = map(lambda d: semantic_dist_between(d), common_date)"
   ]
  },
  {
   "cell_type": "code",
   "execution_count": 26,
   "metadata": {
    "collapsed": false
   },
   "outputs": [
    {
     "data": {
      "image/png": "[encoded data removed]",
      "text/plain": [
       "<matplotlib.figure.Figure at 0x7f4b2bf8aa90>"
      ]
     },
     "metadata": {},
     "output_type": "display_data"
    }
   ],
   "source": [
    "s = pd.Series(a, index=common_date)\n",
    "s = pd.rolling_mean(s, window=30)\n",
    "s.plot()\n",
    "plt.show()"
   ]
  },
  {
   "cell_type": "code",
   "execution_count": 27,
   "metadata": {
    "collapsed": false
   },
   "outputs": [],
   "source": [
    "del men_posts, fem_posts, men_by_date, fem_by_date, model"
   ]
  },
  {
   "cell_type": "code",
   "execution_count": null,
   "metadata": {
    "collapsed": true
   },
   "outputs": [],
   "source": []
  }
 ],
 "metadata": {
  "anaconda-cloud": {},
  "kernelspec": {
   "display_name": "Python [conda root]",
   "language": "python",
   "name": "conda-root-py"
  },
  "language_info": {
   "codemirror_mode": {
    "name": "ipython",
    "version": 2
   },
   "file_extension": ".py",
   "mimetype": "text/x-python",
   "name": "python",
   "nbconvert_exporter": "python",
   "pygments_lexer": "ipython2",
   "version": "2.7.13"
  }
 },
 "nbformat": 4,
 "nbformat_minor": 1
}
