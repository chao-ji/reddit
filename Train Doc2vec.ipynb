{
 "cells": [
  {
   "cell_type": "code",
   "execution_count": 1,
   "metadata": {
    "collapsed": true
   },
   "outputs": [],
   "source": [
    "from pymongo import MongoClient\n",
    "import datetime\n",
    "import pandas as pd\n",
    "import numpy as np\n",
    "import itertools\n",
    "import pymongo\n",
    "from wordcloud import WordCloud\n",
    "\n",
    "from collections import Counter\n",
    "import pickle\n",
    "from gensim.models.doc2vec import Doc2Vec, LabeledSentence\n",
    "import matplotlib.pyplot as plt\n",
    "import seaborn as sns\n",
    "\n",
    "client = MongoClient(\"localhost\", 27017)\n",
    "db = client[\"reddit_polarization\"]"
   ]
  },
  {
   "cell_type": "code",
   "execution_count": 2,
   "metadata": {
    "collapsed": true
   },
   "outputs": [],
   "source": [
    "class RedditPost(object):\n",
    "    def __init__(self, db, collections, field, min_words):\n",
    "        self.db = db\n",
    "        self.collections = collections\n",
    "        self.field = field\n",
    "        self.min_words = min_words\n",
    "    def __iter__(self):        \n",
    "        for collection in self.collections:\n",
    "            corpus = db[collection].find({}, {self.field: 1, \"_id\": 1})\n",
    "            for post in corpus:\n",
    "                text = post[self.field].split()\n",
    "                tag = str(post[\"_id\"])\n",
    "                if len(text) >= self.min_words:\n",
    "                    yield LabeledSentence(text, [tag])"
   ]
  },
  {
   "cell_type": "code",
   "execution_count": 3,
   "metadata": {
    "collapsed": true
   },
   "outputs": [],
   "source": [
    "reddit_post = RedditPost(db, [\"MensRights\", \"Feminism\"], \"tokens\", 30)"
   ]
  },
  {
   "cell_type": "code",
   "execution_count": 4,
   "metadata": {
    "collapsed": true
   },
   "outputs": [],
   "source": [
    "models = [Doc2Vec(dm=0, dbow_words=1, min_count=5, window=15,\n",
    "                  size=100, sample=1e-5, iter=10, workers=6), # Distributed BOW\n",
    "          Doc2Vec(dm=1, dm_mean=1, min_count=5, window=15,\n",
    "                  size=100, sample=1e-5, iter=10, workers=6)] # Distributed Memory\n",
    "\n",
    "names = [\"Distributed BOW\", \"Distributed Memory\"]\n",
    "model = models[0]\n",
    "name = names[0]"
   ]
  },
  {
   "cell_type": "code",
   "execution_count": 5,
   "metadata": {
    "collapsed": false
   },
   "outputs": [
    {
     "name": "stdout",
     "output_type": "stream",
     "text": [
      "Distributed BOW: Doc2Vec(dbow+w,d100,n5,w15,mc5,s1e-05,t6)\n"
     ]
    },
    {
     "data": {
      "text/plain": [
       "345140207"
      ]
     },
     "execution_count": 5,
     "metadata": {},
     "output_type": "execute_result"
    }
   ],
   "source": [
    "print \"%s: %s\" % (name, str(model))\n",
    "reddit_post = RedditPost(db, [\"MensRights\", \"Feminism\"], \"tokens\", 30)\n",
    "model.build_vocab(reddit_post)\n",
    "reddit_post = RedditPost(db, [\"MensRights\", \"Feminism\"], \"tokens\", 30)\n",
    "model.train(reddit_post)"
   ]
  },
  {
   "cell_type": "code",
   "execution_count": 6,
   "metadata": {
    "collapsed": true
   },
   "outputs": [],
   "source": [
    "model.save(\"doc2vec_d100_n5_w15_mc5_s1e_05_t6.model\")"
   ]
  }
 ],
 "metadata": {
  "anaconda-cloud": {},
  "kernelspec": {
   "display_name": "Python [conda root]",
   "language": "python",
   "name": "conda-root-py"
  },
  "language_info": {
   "codemirror_mode": {
    "name": "ipython",
    "version": 2
   },
   "file_extension": ".py",
   "mimetype": "text/x-python",
   "name": "python",
   "nbconvert_exporter": "python",
   "pygments_lexer": "ipython2",
   "version": "2.7.12"
  }
 },
 "nbformat": 4,
 "nbformat_minor": 1
}
