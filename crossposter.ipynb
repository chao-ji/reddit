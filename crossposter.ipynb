{
 "cells": [
  {
   "cell_type": "code",
   "execution_count": 1,
   "metadata": {
    "collapsed": true
   },
   "outputs": [],
   "source": [
    "import pandas as pd\n",
    "import datetime\n",
    "\n",
    "from pandas import DataFrame, Series\n",
    "\n",
    "def countPosts(df, sr):\n",
    "    return len(df.ix[df[\"subreddit\"] == sr, :])\n",
    "\n",
    "def firstPosts(df, sr):\n",
    "    return df.ix[df[\"subreddit\"] == sr, \"created_utc\"].min()\n",
    "\n",
    "def lastPosts(df, sr):\n",
    "    return df.ix[df[\"subreddit\"] == sr, \"created_utc\"].max()\n",
    "\n",
    "threshold = 10"
   ]
  },
  {
   "cell_type": "code",
   "execution_count": 2,
   "metadata": {
    "collapsed": false
   },
   "outputs": [
    {
     "data": {
      "text/plain": [
       "(3181792, 5)"
      ]
     },
     "execution_count": 2,
     "metadata": {},
     "output_type": "execute_result"
    }
   ],
   "source": [
    "reddit = pd.read_csv(\"fem_mr_comments.csv\", usecols=[\"subreddit\", \"body\", \"created_utc\", \"author\"])\n",
    "reddit = reddit.reset_index()\n",
    "reddit[\"created_utc\"] = reddit[\"created_utc\"].astype(int)\n",
    "reddit[\"author\"] = reddit[\"author\"].astype(str)\n",
    "reddit[\"subreddit\"] = reddit[\"subreddit\"].astype(str)\n",
    "reddit[\"created_utc\"] = reddit[\"created_utc\"].map(lambda x: datetime.datetime.fromtimestamp(x))\n",
    "\n",
    "reddit.shape"
   ]
  },
  {
   "cell_type": "code",
   "execution_count": 3,
   "metadata": {
    "collapsed": false
   },
   "outputs": [
    {
     "data": {
      "text/plain": [
       "(2555622, 5)"
      ]
     },
     "execution_count": 3,
     "metadata": {},
     "output_type": "execute_result"
    }
   ],
   "source": [
    "reddit = reddit.ix[reddit[\"author\"] != \"[deleted]\", :]\n",
    "reddit = reddit.ix[reddit[\"body\"] != \"[deleted]\", :]\n",
    "\n",
    "reddit.shape"
   ]
  },
  {
   "cell_type": "code",
   "execution_count": 4,
   "metadata": {
    "collapsed": false
   },
   "outputs": [
    {
     "data": {
      "text/plain": [
       "(2438174, 5)"
      ]
     },
     "execution_count": 4,
     "metadata": {},
     "output_type": "execute_result"
    }
   ],
   "source": [
    "start = datetime.datetime(year=2009,month=1,day=1,hour=0,minute=0,second=0)\n",
    "end = datetime.datetime(year=2015,month=12,day=31,hour=23,minute=59,second=59)\n",
    "reddit = reddit.ix[(reddit[\"created_utc\"] >= start) & (reddit[\"created_utc\"] <= end)]\n",
    "\n",
    "reddit.shape"
   ]
  },
  {
   "cell_type": "code",
   "execution_count": 5,
   "metadata": {
    "collapsed": true
   },
   "outputs": [],
   "source": [
    "menCount = reddit.groupby(\"author\").apply(lambda x: countPosts(x, \"MensRights\"))\n",
    "femCount = reddit.groupby(\"author\").apply(lambda x: countPosts(x, \"Feminism\"))\n",
    "menFirst = reddit.groupby(\"author\").apply(lambda x: firstPosts(x, \"MensRights\"))\n",
    "femFirst = reddit.groupby(\"author\").apply(lambda x: firstPosts(x, \"Feminism\"))"
   ]
  },
  {
   "cell_type": "code",
   "execution_count": 7,
   "metadata": {
    "collapsed": false
   },
   "outputs": [
    {
     "data": {
      "text/plain": [
       "(125525, 4)"
      ]
     },
     "execution_count": 7,
     "metadata": {},
     "output_type": "execute_result"
    }
   ],
   "source": [
    "authorInfo = DataFrame({\"MenPostCount\": menCount,\n",
    "                        \"FemPostCount\": femCount,\n",
    "                        \"MenFirstPost\": menFirst,\n",
    "                        \"FemFirstPost\": femFirst},\n",
    "                       columns=[\"MenPostCount\", \"FemPostCount\", \"MenFirstPost\", \"FemFirstPost\"])\n",
    "\n",
    "authorInfo.shape"
   ]
  },
  {
   "cell_type": "code",
   "execution_count": 8,
   "metadata": {
    "collapsed": false
   },
   "outputs": [
    {
     "data": {
      "text/plain": [
       "(1035, 4)"
      ]
     },
     "execution_count": 8,
     "metadata": {},
     "output_type": "execute_result"
    }
   ],
   "source": [
    "crossposter = authorInfo.ix[(authorInfo[\"MenPostCount\"] >= threshold) \n",
    "                            & (authorInfo[\"FemPostCount\"] >= threshold), :]\n",
    "crossposter.shape"
   ]
  },
  {
   "cell_type": "code",
   "execution_count": 11,
   "metadata": {
    "collapsed": false
   },
   "outputs": [
    {
     "data": {
      "text/html": [
       "<div>\n",
       "<table border=\"1\" class=\"dataframe\">\n",
       "  <thead>\n",
       "    <tr style=\"text-align: right;\">\n",
       "      <th></th>\n",
       "      <th>MenPostCount</th>\n",
       "      <th>FemPostCount</th>\n",
       "      <th>MenFirstPost</th>\n",
       "      <th>FemFirstPost</th>\n",
       "    </tr>\n",
       "    <tr>\n",
       "      <th>author</th>\n",
       "      <th></th>\n",
       "      <th></th>\n",
       "      <th></th>\n",
       "      <th></th>\n",
       "    </tr>\n",
       "  </thead>\n",
       "  <tbody>\n",
       "    <tr>\n",
       "      <th>0xstev3</th>\n",
       "      <td>167</td>\n",
       "      <td>12</td>\n",
       "      <td>2013-06-13 17:21:32</td>\n",
       "      <td>2012-08-26 16:24:12</td>\n",
       "    </tr>\n",
       "    <tr>\n",
       "      <th>1338h4x</th>\n",
       "      <td>310</td>\n",
       "      <td>11</td>\n",
       "      <td>2011-08-12 20:03:47</td>\n",
       "      <td>2011-11-11 23:12:10</td>\n",
       "    </tr>\n",
       "    <tr>\n",
       "      <th>2Weird2Live2Rare2Die</th>\n",
       "      <td>74</td>\n",
       "      <td>130</td>\n",
       "      <td>2011-08-11 11:07:09</td>\n",
       "      <td>2011-08-13 06:06:41</td>\n",
       "    </tr>\n",
       "    <tr>\n",
       "      <th>2wsy</th>\n",
       "      <td>192</td>\n",
       "      <td>58</td>\n",
       "      <td>2012-01-17 11:08:26</td>\n",
       "      <td>2012-05-09 14:43:05</td>\n",
       "    </tr>\n",
       "    <tr>\n",
       "      <th>41145and6</th>\n",
       "      <td>131</td>\n",
       "      <td>10</td>\n",
       "      <td>2012-12-06 16:49:37</td>\n",
       "      <td>2013-01-10 14:39:52</td>\n",
       "    </tr>\n",
       "  </tbody>\n",
       "</table>\n",
       "</div>"
      ],
      "text/plain": [
       "                      MenPostCount  FemPostCount        MenFirstPost  \\\n",
       "author                                                                 \n",
       "0xstev3                        167            12 2013-06-13 17:21:32   \n",
       "1338h4x                        310            11 2011-08-12 20:03:47   \n",
       "2Weird2Live2Rare2Die            74           130 2011-08-11 11:07:09   \n",
       "2wsy                           192            58 2012-01-17 11:08:26   \n",
       "41145and6                      131            10 2012-12-06 16:49:37   \n",
       "\n",
       "                            FemFirstPost  \n",
       "author                                    \n",
       "0xstev3              2012-08-26 16:24:12  \n",
       "1338h4x              2011-11-11 23:12:10  \n",
       "2Weird2Live2Rare2Die 2011-08-13 06:06:41  \n",
       "2wsy                 2012-05-09 14:43:05  \n",
       "41145and6            2013-01-10 14:39:52  "
      ]
     },
     "execution_count": 11,
     "metadata": {},
     "output_type": "execute_result"
    }
   ],
   "source": [
    "crossposter.head()"
   ]
  },
  {
   "cell_type": "code",
   "execution_count": 9,
   "metadata": {
    "collapsed": false
   },
   "outputs": [
    {
     "data": {
      "text/plain": [
       "(16471, 4)"
      ]
     },
     "execution_count": 9,
     "metadata": {},
     "output_type": "execute_result"
    }
   ],
   "source": [
    "menOnlyAuthor = authorInfo.ix[(authorInfo[\"FemPostCount\"] == 0) & (authorInfo[\"MenPostCount\"] >= threshold), :]\n",
    "\n",
    "menOnlyAuthor.shape"
   ]
  },
  {
   "cell_type": "code",
   "execution_count": 12,
   "metadata": {
    "collapsed": false
   },
   "outputs": [
    {
     "data": {
      "text/html": [
       "<div>\n",
       "<table border=\"1\" class=\"dataframe\">\n",
       "  <thead>\n",
       "    <tr style=\"text-align: right;\">\n",
       "      <th></th>\n",
       "      <th>MenPostCount</th>\n",
       "      <th>FemPostCount</th>\n",
       "      <th>MenFirstPost</th>\n",
       "      <th>FemFirstPost</th>\n",
       "    </tr>\n",
       "    <tr>\n",
       "      <th>author</th>\n",
       "      <th></th>\n",
       "      <th></th>\n",
       "      <th></th>\n",
       "      <th></th>\n",
       "    </tr>\n",
       "  </thead>\n",
       "  <tbody>\n",
       "    <tr>\n",
       "      <th>--Visionary--</th>\n",
       "      <td>54</td>\n",
       "      <td>0</td>\n",
       "      <td>2015-11-10 18:58:24</td>\n",
       "      <td>NaT</td>\n",
       "    </tr>\n",
       "    <tr>\n",
       "      <th>-4cash</th>\n",
       "      <td>12</td>\n",
       "      <td>0</td>\n",
       "      <td>2014-04-27 08:08:56</td>\n",
       "      <td>NaT</td>\n",
       "    </tr>\n",
       "    <tr>\n",
       "      <th>-Argus-</th>\n",
       "      <td>11</td>\n",
       "      <td>0</td>\n",
       "      <td>2015-04-26 08:53:44</td>\n",
       "      <td>NaT</td>\n",
       "    </tr>\n",
       "    <tr>\n",
       "      <th>-CK</th>\n",
       "      <td>11</td>\n",
       "      <td>0</td>\n",
       "      <td>2014-09-02 17:31:59</td>\n",
       "      <td>NaT</td>\n",
       "    </tr>\n",
       "    <tr>\n",
       "      <th>-Eurydice-</th>\n",
       "      <td>27</td>\n",
       "      <td>0</td>\n",
       "      <td>2013-03-19 12:11:08</td>\n",
       "      <td>NaT</td>\n",
       "    </tr>\n",
       "  </tbody>\n",
       "</table>\n",
       "</div>"
      ],
      "text/plain": [
       "               MenPostCount  FemPostCount        MenFirstPost FemFirstPost\n",
       "author                                                                    \n",
       "--Visionary--            54             0 2015-11-10 18:58:24          NaT\n",
       "-4cash                   12             0 2014-04-27 08:08:56          NaT\n",
       "-Argus-                  11             0 2015-04-26 08:53:44          NaT\n",
       "-CK                      11             0 2014-09-02 17:31:59          NaT\n",
       "-Eurydice-               27             0 2013-03-19 12:11:08          NaT"
      ]
     },
     "execution_count": 12,
     "metadata": {},
     "output_type": "execute_result"
    }
   ],
   "source": [
    "menOnlyAuthor.head()"
   ]
  },
  {
   "cell_type": "code",
   "execution_count": 10,
   "metadata": {
    "collapsed": false
   },
   "outputs": [
    {
     "data": {
      "text/plain": [
       "(1893, 4)"
      ]
     },
     "execution_count": 10,
     "metadata": {},
     "output_type": "execute_result"
    }
   ],
   "source": [
    "femOnlyAuthor = authorInfo.ix[(authorInfo[\"MenPostCount\"] == 0) & (authorInfo[\"FemPostCount\"] >= threshold), :]\n",
    "\n",
    "femOnlyAuthor.shape"
   ]
  },
  {
   "cell_type": "code",
   "execution_count": 13,
   "metadata": {
    "collapsed": false
   },
   "outputs": [
    {
     "data": {
      "text/html": [
       "<div>\n",
       "<table border=\"1\" class=\"dataframe\">\n",
       "  <thead>\n",
       "    <tr style=\"text-align: right;\">\n",
       "      <th></th>\n",
       "      <th>MenPostCount</th>\n",
       "      <th>FemPostCount</th>\n",
       "      <th>MenFirstPost</th>\n",
       "      <th>FemFirstPost</th>\n",
       "    </tr>\n",
       "    <tr>\n",
       "      <th>author</th>\n",
       "      <th></th>\n",
       "      <th></th>\n",
       "      <th></th>\n",
       "      <th></th>\n",
       "    </tr>\n",
       "  </thead>\n",
       "  <tbody>\n",
       "    <tr>\n",
       "      <th>---annon---</th>\n",
       "      <td>0</td>\n",
       "      <td>11</td>\n",
       "      <td>NaT</td>\n",
       "      <td>2014-03-15 18:45:30</td>\n",
       "    </tr>\n",
       "    <tr>\n",
       "      <th>-waitingforawant-</th>\n",
       "      <td>0</td>\n",
       "      <td>22</td>\n",
       "      <td>NaT</td>\n",
       "      <td>2014-07-28 11:46:38</td>\n",
       "    </tr>\n",
       "    <tr>\n",
       "      <th>000000000000000000oo</th>\n",
       "      <td>0</td>\n",
       "      <td>10</td>\n",
       "      <td>NaT</td>\n",
       "      <td>2015-02-01 23:42:03</td>\n",
       "    </tr>\n",
       "    <tr>\n",
       "      <th>004forever</th>\n",
       "      <td>0</td>\n",
       "      <td>17</td>\n",
       "      <td>NaT</td>\n",
       "      <td>2014-12-08 14:36:40</td>\n",
       "    </tr>\n",
       "    <tr>\n",
       "      <th>0btusegoose</th>\n",
       "      <td>0</td>\n",
       "      <td>19</td>\n",
       "      <td>NaT</td>\n",
       "      <td>2012-10-14 17:33:59</td>\n",
       "    </tr>\n",
       "  </tbody>\n",
       "</table>\n",
       "</div>"
      ],
      "text/plain": [
       "                      MenPostCount  FemPostCount MenFirstPost  \\\n",
       "author                                                          \n",
       "---annon---                      0            11          NaT   \n",
       "-waitingforawant-                0            22          NaT   \n",
       "000000000000000000oo             0            10          NaT   \n",
       "004forever                       0            17          NaT   \n",
       "0btusegoose                      0            19          NaT   \n",
       "\n",
       "                            FemFirstPost  \n",
       "author                                    \n",
       "---annon---          2014-03-15 18:45:30  \n",
       "-waitingforawant-    2014-07-28 11:46:38  \n",
       "000000000000000000oo 2015-02-01 23:42:03  \n",
       "004forever           2014-12-08 14:36:40  \n",
       "0btusegoose          2012-10-14 17:33:59  "
      ]
     },
     "execution_count": 13,
     "metadata": {},
     "output_type": "execute_result"
    }
   ],
   "source": [
    "femOnlyAuthor.head()"
   ]
  },
  {
   "cell_type": "code",
   "execution_count": 14,
   "metadata": {
    "collapsed": true
   },
   "outputs": [],
   "source": [
    "# crosspost\n",
    "fromCrossposter = reddit.ix[reddit[\"author\"].isin(crossposter.index), :]\n",
    "crossposter = crossposter.reset_index()\n",
    "fromCrossposter = fromCrossposter.merge(crossposter, on=\"author\")\n",
    "\n",
    "fromCrossposter[\"type\"] = map(lambda x: \"M2F\" if x else \"F2M\", list(fromCrossposter[\"MenFirstPost\"] < fromCrossposter[\"FemFirstPost\"]))\n",
    "\n",
    "menToFem = fromCrossposter[(fromCrossposter[\"type\"] == \"M2F\") & (fromCrossposter[\"created_utc\"] < fromCrossposter[\"FemFirstPost\"])]\n",
    "femToMen = fromCrossposter[(fromCrossposter[\"type\"] == \"F2M\") & (fromCrossposter[\"created_utc\"] < fromCrossposter[\"MenFirstPost\"])]"
   ]
  },
  {
   "cell_type": "code",
   "execution_count": 16,
   "metadata": {
    "collapsed": false
   },
   "outputs": [
    {
     "data": {
      "text/plain": [
       "(45791, 10)"
      ]
     },
     "execution_count": 16,
     "metadata": {},
     "output_type": "execute_result"
    }
   ],
   "source": [
    "menToFem.shape"
   ]
  },
  {
   "cell_type": "code",
   "execution_count": 20,
   "metadata": {
    "collapsed": false
   },
   "outputs": [
    {
     "data": {
      "text/html": [
       "<div>\n",
       "<table border=\"1\" class=\"dataframe\">\n",
       "  <thead>\n",
       "    <tr style=\"text-align: right;\">\n",
       "      <th></th>\n",
       "      <th>index</th>\n",
       "      <th>body</th>\n",
       "      <th>author</th>\n",
       "      <th>created_utc</th>\n",
       "      <th>subreddit</th>\n",
       "      <th>MenPostCount</th>\n",
       "      <th>FemPostCount</th>\n",
       "      <th>MenFirstPost</th>\n",
       "      <th>FemFirstPost</th>\n",
       "      <th>type</th>\n",
       "    </tr>\n",
       "  </thead>\n",
       "  <tbody>\n",
       "    <tr>\n",
       "      <th>0</th>\n",
       "      <td>8748</td>\n",
       "      <td>Yeah. The guy is a \"womanizer\" who \"Brittney t...</td>\n",
       "      <td>kragshot</td>\n",
       "      <td>2009-01-01 03:41:03</td>\n",
       "      <td>MensRights</td>\n",
       "      <td>3251</td>\n",
       "      <td>245</td>\n",
       "      <td>2009-01-01 03:41:03</td>\n",
       "      <td>2009-12-09 18:16:50</td>\n",
       "      <td>M2F</td>\n",
       "    </tr>\n",
       "    <tr>\n",
       "      <th>1</th>\n",
       "      <td>9101</td>\n",
       "      <td>So, what if she waits for two to five years be...</td>\n",
       "      <td>kragshot</td>\n",
       "      <td>2009-01-09 03:04:46</td>\n",
       "      <td>MensRights</td>\n",
       "      <td>3251</td>\n",
       "      <td>245</td>\n",
       "      <td>2009-01-01 03:41:03</td>\n",
       "      <td>2009-12-09 18:16:50</td>\n",
       "      <td>M2F</td>\n",
       "    </tr>\n",
       "    <tr>\n",
       "      <th>2</th>\n",
       "      <td>9102</td>\n",
       "      <td>This is how you get around that.\\r\\n\\r\\nIn the...</td>\n",
       "      <td>kragshot</td>\n",
       "      <td>2009-01-09 03:19:46</td>\n",
       "      <td>MensRights</td>\n",
       "      <td>3251</td>\n",
       "      <td>245</td>\n",
       "      <td>2009-01-01 03:41:03</td>\n",
       "      <td>2009-12-09 18:16:50</td>\n",
       "      <td>M2F</td>\n",
       "    </tr>\n",
       "    <tr>\n",
       "      <th>3</th>\n",
       "      <td>9103</td>\n",
       "      <td>Especially when that there are countless sourc...</td>\n",
       "      <td>kragshot</td>\n",
       "      <td>2009-01-09 03:22:32</td>\n",
       "      <td>MensRights</td>\n",
       "      <td>3251</td>\n",
       "      <td>245</td>\n",
       "      <td>2009-01-01 03:41:03</td>\n",
       "      <td>2009-12-09 18:16:50</td>\n",
       "      <td>M2F</td>\n",
       "    </tr>\n",
       "    <tr>\n",
       "      <th>4</th>\n",
       "      <td>9613</td>\n",
       "      <td>Specifically, read the statements in their \"Ge...</td>\n",
       "      <td>kragshot</td>\n",
       "      <td>2009-01-15 14:18:24</td>\n",
       "      <td>MensRights</td>\n",
       "      <td>3251</td>\n",
       "      <td>245</td>\n",
       "      <td>2009-01-01 03:41:03</td>\n",
       "      <td>2009-12-09 18:16:50</td>\n",
       "      <td>M2F</td>\n",
       "    </tr>\n",
       "  </tbody>\n",
       "</table>\n",
       "</div>"
      ],
      "text/plain": [
       "   index                                               body    author  \\\n",
       "0   8748  Yeah. The guy is a \"womanizer\" who \"Brittney t...  kragshot   \n",
       "1   9101  So, what if she waits for two to five years be...  kragshot   \n",
       "2   9102  This is how you get around that.\\r\\n\\r\\nIn the...  kragshot   \n",
       "3   9103  Especially when that there are countless sourc...  kragshot   \n",
       "4   9613  Specifically, read the statements in their \"Ge...  kragshot   \n",
       "\n",
       "          created_utc   subreddit  MenPostCount  FemPostCount  \\\n",
       "0 2009-01-01 03:41:03  MensRights          3251           245   \n",
       "1 2009-01-09 03:04:46  MensRights          3251           245   \n",
       "2 2009-01-09 03:19:46  MensRights          3251           245   \n",
       "3 2009-01-09 03:22:32  MensRights          3251           245   \n",
       "4 2009-01-15 14:18:24  MensRights          3251           245   \n",
       "\n",
       "         MenFirstPost        FemFirstPost type  \n",
       "0 2009-01-01 03:41:03 2009-12-09 18:16:50  M2F  \n",
       "1 2009-01-01 03:41:03 2009-12-09 18:16:50  M2F  \n",
       "2 2009-01-01 03:41:03 2009-12-09 18:16:50  M2F  \n",
       "3 2009-01-01 03:41:03 2009-12-09 18:16:50  M2F  \n",
       "4 2009-01-01 03:41:03 2009-12-09 18:16:50  M2F  "
      ]
     },
     "execution_count": 20,
     "metadata": {},
     "output_type": "execute_result"
    }
   ],
   "source": [
    "menToFem.head()"
   ]
  },
  {
   "cell_type": "code",
   "execution_count": 19,
   "metadata": {
    "collapsed": false
   },
   "outputs": [
    {
     "data": {
      "text/plain": [
       "(5615, 10)"
      ]
     },
     "execution_count": 19,
     "metadata": {},
     "output_type": "execute_result"
    }
   ],
   "source": [
    "femToMen.shape"
   ]
  },
  {
   "cell_type": "code",
   "execution_count": 21,
   "metadata": {
    "collapsed": false
   },
   "outputs": [
    {
     "data": {
      "text/html": [
       "<div>\n",
       "<table border=\"1\" class=\"dataframe\">\n",
       "  <thead>\n",
       "    <tr style=\"text-align: right;\">\n",
       "      <th></th>\n",
       "      <th>index</th>\n",
       "      <th>body</th>\n",
       "      <th>author</th>\n",
       "      <th>created_utc</th>\n",
       "      <th>subreddit</th>\n",
       "      <th>MenPostCount</th>\n",
       "      <th>FemPostCount</th>\n",
       "      <th>MenFirstPost</th>\n",
       "      <th>FemFirstPost</th>\n",
       "      <th>type</th>\n",
       "    </tr>\n",
       "  </thead>\n",
       "  <tbody>\n",
       "    <tr>\n",
       "      <th>31262</th>\n",
       "      <td>19225</td>\n",
       "      <td>And we don't live as long, which is a bit of a...</td>\n",
       "      <td>jay76</td>\n",
       "      <td>2009-06-13 06:10:42</td>\n",
       "      <td>Feminism</td>\n",
       "      <td>216</td>\n",
       "      <td>64</td>\n",
       "      <td>2009-07-02 04:15:24</td>\n",
       "      <td>2009-06-13 06:10:42</td>\n",
       "      <td>F2M</td>\n",
       "    </tr>\n",
       "    <tr>\n",
       "      <th>48954</th>\n",
       "      <td>42311</td>\n",
       "      <td>Are they saying that being slutty should be en...</td>\n",
       "      <td>hlkolaya</td>\n",
       "      <td>2009-11-16 13:52:21</td>\n",
       "      <td>Feminism</td>\n",
       "      <td>23</td>\n",
       "      <td>44</td>\n",
       "      <td>2010-08-30 10:24:55</td>\n",
       "      <td>2009-11-16 13:52:21</td>\n",
       "      <td>F2M</td>\n",
       "    </tr>\n",
       "    <tr>\n",
       "      <th>48955</th>\n",
       "      <td>42318</td>\n",
       "      <td>I think Rygarb there is missing the point- a c...</td>\n",
       "      <td>hlkolaya</td>\n",
       "      <td>2009-11-16 14:25:10</td>\n",
       "      <td>Feminism</td>\n",
       "      <td>23</td>\n",
       "      <td>44</td>\n",
       "      <td>2010-08-30 10:24:55</td>\n",
       "      <td>2009-11-16 13:52:21</td>\n",
       "      <td>F2M</td>\n",
       "    </tr>\n",
       "    <tr>\n",
       "      <th>48956</th>\n",
       "      <td>42340</td>\n",
       "      <td>yes it is. ask any psychologist or therapist a...</td>\n",
       "      <td>hlkolaya</td>\n",
       "      <td>2009-11-16 16:25:55</td>\n",
       "      <td>Feminism</td>\n",
       "      <td>23</td>\n",
       "      <td>44</td>\n",
       "      <td>2010-08-30 10:24:55</td>\n",
       "      <td>2009-11-16 13:52:21</td>\n",
       "      <td>F2M</td>\n",
       "    </tr>\n",
       "    <tr>\n",
       "      <th>48957</th>\n",
       "      <td>42343</td>\n",
       "      <td>this is great... but... as the mother of a boy...</td>\n",
       "      <td>hlkolaya</td>\n",
       "      <td>2009-11-16 16:37:47</td>\n",
       "      <td>Feminism</td>\n",
       "      <td>23</td>\n",
       "      <td>44</td>\n",
       "      <td>2010-08-30 10:24:55</td>\n",
       "      <td>2009-11-16 13:52:21</td>\n",
       "      <td>F2M</td>\n",
       "    </tr>\n",
       "  </tbody>\n",
       "</table>\n",
       "</div>"
      ],
      "text/plain": [
       "       index                                               body    author  \\\n",
       "31262  19225  And we don't live as long, which is a bit of a...     jay76   \n",
       "48954  42311  Are they saying that being slutty should be en...  hlkolaya   \n",
       "48955  42318  I think Rygarb there is missing the point- a c...  hlkolaya   \n",
       "48956  42340  yes it is. ask any psychologist or therapist a...  hlkolaya   \n",
       "48957  42343  this is great... but... as the mother of a boy...  hlkolaya   \n",
       "\n",
       "              created_utc subreddit  MenPostCount  FemPostCount  \\\n",
       "31262 2009-06-13 06:10:42  Feminism           216            64   \n",
       "48954 2009-11-16 13:52:21  Feminism            23            44   \n",
       "48955 2009-11-16 14:25:10  Feminism            23            44   \n",
       "48956 2009-11-16 16:25:55  Feminism            23            44   \n",
       "48957 2009-11-16 16:37:47  Feminism            23            44   \n",
       "\n",
       "             MenFirstPost        FemFirstPost type  \n",
       "31262 2009-07-02 04:15:24 2009-06-13 06:10:42  F2M  \n",
       "48954 2010-08-30 10:24:55 2009-11-16 13:52:21  F2M  \n",
       "48955 2010-08-30 10:24:55 2009-11-16 13:52:21  F2M  \n",
       "48956 2010-08-30 10:24:55 2009-11-16 13:52:21  F2M  \n",
       "48957 2010-08-30 10:24:55 2009-11-16 13:52:21  F2M  "
      ]
     },
     "execution_count": 21,
     "metadata": {},
     "output_type": "execute_result"
    }
   ],
   "source": [
    "femToMen.head()"
   ]
  },
  {
   "cell_type": "code",
   "execution_count": 22,
   "metadata": {
    "collapsed": false
   },
   "outputs": [
    {
     "data": {
      "text/plain": [
       "(1161078, 9)"
      ]
     },
     "execution_count": 22,
     "metadata": {},
     "output_type": "execute_result"
    }
   ],
   "source": [
    "# MensRights only\n",
    "fromMenOnly = reddit.ix[reddit[\"author\"].isin(menOnlyAuthor.index), :]\n",
    "menOnlyAuthor = menOnlyAuthor.reset_index()\n",
    "fromMenOnly = fromMenOnly.merge(menOnlyAuthor, on=\"author\")\n",
    "\n",
    "fromMenOnly.shape"
   ]
  },
  {
   "cell_type": "code",
   "execution_count": 23,
   "metadata": {
    "collapsed": false
   },
   "outputs": [
    {
     "data": {
      "text/html": [
       "<div>\n",
       "<table border=\"1\" class=\"dataframe\">\n",
       "  <thead>\n",
       "    <tr style=\"text-align: right;\">\n",
       "      <th></th>\n",
       "      <th>index</th>\n",
       "      <th>body</th>\n",
       "      <th>author</th>\n",
       "      <th>created_utc</th>\n",
       "      <th>subreddit</th>\n",
       "      <th>MenPostCount</th>\n",
       "      <th>FemPostCount</th>\n",
       "      <th>MenFirstPost</th>\n",
       "      <th>FemFirstPost</th>\n",
       "    </tr>\n",
       "  </thead>\n",
       "  <tbody>\n",
       "    <tr>\n",
       "      <th>0</th>\n",
       "      <td>8746</td>\n",
       "      <td>Wow, I've never actually considered this...  G...</td>\n",
       "      <td>catdad</td>\n",
       "      <td>2009-01-01 03:37:40</td>\n",
       "      <td>MensRights</td>\n",
       "      <td>14</td>\n",
       "      <td>0</td>\n",
       "      <td>2009-01-01 03:37:40</td>\n",
       "      <td>NaT</td>\n",
       "    </tr>\n",
       "    <tr>\n",
       "      <th>1</th>\n",
       "      <td>8747</td>\n",
       "      <td>The sad thing is that feminists won't have any...</td>\n",
       "      <td>catdad</td>\n",
       "      <td>2009-01-01 03:40:34</td>\n",
       "      <td>MensRights</td>\n",
       "      <td>14</td>\n",
       "      <td>0</td>\n",
       "      <td>2009-01-01 03:37:40</td>\n",
       "      <td>NaT</td>\n",
       "    </tr>\n",
       "    <tr>\n",
       "      <th>2</th>\n",
       "      <td>24292</td>\n",
       "      <td>Anything entering ANYONE'S ass without consent...</td>\n",
       "      <td>catdad</td>\n",
       "      <td>2009-07-30 23:04:47</td>\n",
       "      <td>MensRights</td>\n",
       "      <td>14</td>\n",
       "      <td>0</td>\n",
       "      <td>2009-01-01 03:37:40</td>\n",
       "      <td>NaT</td>\n",
       "    </tr>\n",
       "    <tr>\n",
       "      <th>3</th>\n",
       "      <td>32263</td>\n",
       "      <td>I must be missing it too...</td>\n",
       "      <td>catdad</td>\n",
       "      <td>2009-09-15 21:00:30</td>\n",
       "      <td>MensRights</td>\n",
       "      <td>14</td>\n",
       "      <td>0</td>\n",
       "      <td>2009-01-01 03:37:40</td>\n",
       "      <td>NaT</td>\n",
       "    </tr>\n",
       "    <tr>\n",
       "      <th>4</th>\n",
       "      <td>47780</td>\n",
       "      <td>As far as the 6% of rapists will ever see a da...</td>\n",
       "      <td>catdad</td>\n",
       "      <td>2009-12-18 12:21:01</td>\n",
       "      <td>MensRights</td>\n",
       "      <td>14</td>\n",
       "      <td>0</td>\n",
       "      <td>2009-01-01 03:37:40</td>\n",
       "      <td>NaT</td>\n",
       "    </tr>\n",
       "  </tbody>\n",
       "</table>\n",
       "</div>"
      ],
      "text/plain": [
       "   index                                               body  author  \\\n",
       "0   8746  Wow, I've never actually considered this...  G...  catdad   \n",
       "1   8747  The sad thing is that feminists won't have any...  catdad   \n",
       "2  24292  Anything entering ANYONE'S ass without consent...  catdad   \n",
       "3  32263                        I must be missing it too...  catdad   \n",
       "4  47780  As far as the 6% of rapists will ever see a da...  catdad   \n",
       "\n",
       "          created_utc   subreddit  MenPostCount  FemPostCount  \\\n",
       "0 2009-01-01 03:37:40  MensRights            14             0   \n",
       "1 2009-01-01 03:40:34  MensRights            14             0   \n",
       "2 2009-07-30 23:04:47  MensRights            14             0   \n",
       "3 2009-09-15 21:00:30  MensRights            14             0   \n",
       "4 2009-12-18 12:21:01  MensRights            14             0   \n",
       "\n",
       "         MenFirstPost FemFirstPost  \n",
       "0 2009-01-01 03:37:40          NaT  \n",
       "1 2009-01-01 03:37:40          NaT  \n",
       "2 2009-01-01 03:37:40          NaT  \n",
       "3 2009-01-01 03:37:40          NaT  \n",
       "4 2009-01-01 03:37:40          NaT  "
      ]
     },
     "execution_count": 23,
     "metadata": {},
     "output_type": "execute_result"
    }
   ],
   "source": [
    "fromMenOnly.head()"
   ]
  },
  {
   "cell_type": "code",
   "execution_count": 24,
   "metadata": {
    "collapsed": false
   },
   "outputs": [
    {
     "data": {
      "text/plain": [
       "(55515, 9)"
      ]
     },
     "execution_count": 24,
     "metadata": {},
     "output_type": "execute_result"
    }
   ],
   "source": [
    "# Feminism only\n",
    "fromFemOnly = reddit.ix[reddit[\"author\"].isin(femOnlyAuthor.index), :]\n",
    "femOnlyAuthor = femOnlyAuthor.reset_index()\n",
    "fromFemOnly = fromFemOnly.merge(femOnlyAuthor, on=\"author\")\n",
    "\n",
    "fromFemOnly.shape"
   ]
  },
  {
   "cell_type": "code",
   "execution_count": 25,
   "metadata": {
    "collapsed": false
   },
   "outputs": [
    {
     "data": {
      "text/html": [
       "<div>\n",
       "<table border=\"1\" class=\"dataframe\">\n",
       "  <thead>\n",
       "    <tr style=\"text-align: right;\">\n",
       "      <th></th>\n",
       "      <th>index</th>\n",
       "      <th>body</th>\n",
       "      <th>author</th>\n",
       "      <th>created_utc</th>\n",
       "      <th>subreddit</th>\n",
       "      <th>MenPostCount</th>\n",
       "      <th>FemPostCount</th>\n",
       "      <th>MenFirstPost</th>\n",
       "      <th>FemFirstPost</th>\n",
       "    </tr>\n",
       "  </thead>\n",
       "  <tbody>\n",
       "    <tr>\n",
       "      <th>0</th>\n",
       "      <td>16531</td>\n",
       "      <td>Least appropriate thumbnail ever.</td>\n",
       "      <td>alexs</td>\n",
       "      <td>2009-04-30 12:10:31</td>\n",
       "      <td>Feminism</td>\n",
       "      <td>0</td>\n",
       "      <td>21</td>\n",
       "      <td>NaT</td>\n",
       "      <td>2009-04-30 12:10:31</td>\n",
       "    </tr>\n",
       "    <tr>\n",
       "      <th>1</th>\n",
       "      <td>79435</td>\n",
       "      <td>&amp;gt; Does it say that women are not as equal t...</td>\n",
       "      <td>alexs</td>\n",
       "      <td>2010-05-26 06:28:08</td>\n",
       "      <td>Feminism</td>\n",
       "      <td>0</td>\n",
       "      <td>21</td>\n",
       "      <td>NaT</td>\n",
       "      <td>2009-04-30 12:10:31</td>\n",
       "    </tr>\n",
       "    <tr>\n",
       "      <th>2</th>\n",
       "      <td>79438</td>\n",
       "      <td>Obviously yes. It would also be better the bia...</td>\n",
       "      <td>alexs</td>\n",
       "      <td>2010-05-26 06:43:01</td>\n",
       "      <td>Feminism</td>\n",
       "      <td>0</td>\n",
       "      <td>21</td>\n",
       "      <td>NaT</td>\n",
       "      <td>2009-04-30 12:10:31</td>\n",
       "    </tr>\n",
       "    <tr>\n",
       "      <th>3</th>\n",
       "      <td>79443</td>\n",
       "      <td>There is room for more than one approach. Bala...</td>\n",
       "      <td>alexs</td>\n",
       "      <td>2010-05-26 07:03:20</td>\n",
       "      <td>Feminism</td>\n",
       "      <td>0</td>\n",
       "      <td>21</td>\n",
       "      <td>NaT</td>\n",
       "      <td>2009-04-30 12:10:31</td>\n",
       "    </tr>\n",
       "    <tr>\n",
       "      <th>4</th>\n",
       "      <td>82003</td>\n",
       "      <td>The same way we know that there's a bias again...</td>\n",
       "      <td>alexs</td>\n",
       "      <td>2010-06-06 19:00:20</td>\n",
       "      <td>Feminism</td>\n",
       "      <td>0</td>\n",
       "      <td>21</td>\n",
       "      <td>NaT</td>\n",
       "      <td>2009-04-30 12:10:31</td>\n",
       "    </tr>\n",
       "  </tbody>\n",
       "</table>\n",
       "</div>"
      ],
      "text/plain": [
       "   index                                               body author  \\\n",
       "0  16531                  Least appropriate thumbnail ever.  alexs   \n",
       "1  79435  &gt; Does it say that women are not as equal t...  alexs   \n",
       "2  79438  Obviously yes. It would also be better the bia...  alexs   \n",
       "3  79443  There is room for more than one approach. Bala...  alexs   \n",
       "4  82003  The same way we know that there's a bias again...  alexs   \n",
       "\n",
       "          created_utc subreddit  MenPostCount  FemPostCount MenFirstPost  \\\n",
       "0 2009-04-30 12:10:31  Feminism             0            21          NaT   \n",
       "1 2010-05-26 06:28:08  Feminism             0            21          NaT   \n",
       "2 2010-05-26 06:43:01  Feminism             0            21          NaT   \n",
       "3 2010-05-26 07:03:20  Feminism             0            21          NaT   \n",
       "4 2010-06-06 19:00:20  Feminism             0            21          NaT   \n",
       "\n",
       "         FemFirstPost  \n",
       "0 2009-04-30 12:10:31  \n",
       "1 2009-04-30 12:10:31  \n",
       "2 2009-04-30 12:10:31  \n",
       "3 2009-04-30 12:10:31  \n",
       "4 2009-04-30 12:10:31  "
      ]
     },
     "execution_count": 25,
     "metadata": {},
     "output_type": "execute_result"
    }
   ],
   "source": [
    "fromFemOnly.head()"
   ]
  },
  {
   "cell_type": "code",
   "execution_count": null,
   "metadata": {
    "collapsed": true
   },
   "outputs": [],
   "source": []
  }
 ],
 "metadata": {
  "kernelspec": {
   "display_name": "Python 2",
   "language": "python",
   "name": "python2"
  },
  "language_info": {
   "codemirror_mode": {
    "name": "ipython",
    "version": 2
   },
   "file_extension": ".py",
   "mimetype": "text/x-python",
   "name": "python",
   "nbconvert_exporter": "python",
   "pygments_lexer": "ipython2",
   "version": "2.7.12"
  }
 },
 "nbformat": 4,
 "nbformat_minor": 1
}
