{
 "cells": [
  {
   "cell_type": "markdown",
   "metadata": {},
   "source": [
    "# Dataset and Database Setup\n",
    "\n",
    "This dataset contains all user posts between early 2008 and July 2016 in the two subreddits: **r/MensRights** (https://www.reddit.com/r/MensRights/) and **r/Feminism** (https://www.reddit.com/r/Feminism/). The data was pulled from reddit using its web API.\n",
    "\n",
    "Each reddit post is stored as a MongoDB document in the collection corresponding to the subreddit:\n",
    "```python\n",
    "db = client[\"reddit_polarization\"]\n",
    "men_collection = db[\"MensRights\"]\n",
    "fem_collection = db[\"Feminism\"]\n",
    "```\n",
    "Each document has the following fields: \n",
    "\n",
    "* created_utc\n",
    "* date\n",
    "* ups\n",
    "* subreddit_id\n",
    "* link_id\n",
    "* name\n",
    "* score_hidden\n",
    "* author_flair_css_class\n",
    "* author_flair_text\n",
    "* subreddit\n",
    "* id\n",
    "* removal_reason\n",
    "* gilded\n",
    "* downs\n",
    "* archived\n",
    "* author\n",
    "* score\n",
    "* retrieved_on\n",
    "* body\n",
    "* distinguished\n",
    "* edited\n",
    "* controversiality\n",
    "* parent_id\n",
    "\n",
    "First we need to connect to the mongodb. We can list the collections that correspond to different subreddits:"
   ]
  },
  {
   "cell_type": "code",
   "execution_count": 1,
   "metadata": {
    "collapsed": false
   },
   "outputs": [
    {
     "data": {
      "text/plain": [
       "[u'Feminism', u'MensRights']"
      ]
     },
     "execution_count": 1,
     "metadata": {},
     "output_type": "execute_result"
    }
   ],
   "source": [
    "from pymongo import MongoClient\n",
    "import pprint\n",
    "\n",
    "client = MongoClient(\"localhost\", 27017)\n",
    "db = client[\"reddit_polarization\"]\n",
    "db.collection_names()[-2:]"
   ]
  },
  {
   "cell_type": "markdown",
   "metadata": {},
   "source": [
    "Here is one post from **r/MensRights**:"
   ]
  },
  {
   "cell_type": "code",
   "execution_count": 2,
   "metadata": {
    "collapsed": false
   },
   "outputs": [
    {
     "name": "stdout",
     "output_type": "stream",
     "text": [
      "{u'_id': ObjectId('57c5ddd779a3030ce06585e6'),\n",
      " u'archived': True,\n",
      " u'author': u'sibqm_lmvm',\n",
      " u'author_flair_css_class': None,\n",
      " u'author_flair_text': None,\n",
      " u'body': u\"That event actually happened when I was in sixth grade, way back in the day :)\\n\\nIm actually studying to be a teacher right now though, and I'd like to be as egalitarian as possible. But I might switch my major to something involving abnormal psych, where I'll have to be extremely non-judging.\",\n",
      " u'controversiality': 0,\n",
      " u'created_utc': datetime.datetime(2012, 4, 30, 20, 0, 15),\n",
      " u'date': datetime.datetime(2012, 4, 30, 0, 0),\n",
      " u'distinguished': None,\n",
      " u'downs': 0,\n",
      " u'edited': False,\n",
      " u'gilded': 0,\n",
      " u'id': u'c4iiwis',\n",
      " u'link_id': u't3_t03pt',\n",
      " u'name': u't1_c4iiwis',\n",
      " u'parent_id': u't1_c4iiupq',\n",
      " u'removal_reason': nan,\n",
      " u'retrieved_on': 1428829641,\n",
      " u'score': 2,\n",
      " u'score_hidden': False,\n",
      " u'subreddit': u'MensRights',\n",
      " u'subreddit_id': u't5_2qhk3',\n",
      " u'tokens_njv': u'event happen sixth grade way day study teacher right like egalitarian possible switch major something involve abnormal psych non-judging',\n",
      " u'ups': 2}\n"
     ]
    }
   ],
   "source": [
    "posts = db[\"MensRights\"].find()\n",
    "pprint.pprint(next(posts))"
   ]
  },
  {
   "cell_type": "markdown",
   "metadata": {},
   "source": [
    "Among all the fields, the following are the ones that contain relevant information for this project (i.e. to study the interaction between authors in **r/MensRights** and **r/Feminism**)\n",
    "\n",
    "* **created_utc**: datetime; converted from the timestamp of a post.\n",
    "* **date**: datetime; map each **created_utc** to the one with `hour`, `minute`, `second` set to 0. This is useful for grouping data.  \n",
    "* **author**: unicode; user ID of an author.\n",
    "* **subreddit**: unicode; name of subreddit (\"MensRights\" or \"Feminism\").\n",
    "* **body**: unicode; a unicode string containing the raw text of the post. May contain tags that need to be properly processed.\n",
    "\n",
    "--------------------"
   ]
  },
  {
   "cell_type": "markdown",
   "metadata": {},
   "source": [
    "The reason I chose **r/MensRights** and **r/Feminism** is that they represent typical idealogically opposing social groups, and the posts in these two subreddits may contain evidence of trolling (i.e. people post inflammatory or inappropriate messages or comments online for the purpose of upsetting other users and provoking a response.)\n",
    "\n",
    "To better characterize the trolling behavior of different authors, the set of authors is divided into three groups:\n",
    "\n",
    "* *MensRight-only*: those who post only in **r/MensRights**\n",
    "* *Feminism-only*: those who post only in **r/Feminism**\n",
    "* *Cross-poster* (or boundary crosser): those who post in both subreddits\n",
    "\n",
    "Keep in mind that the way the set of authors is divided as such *does not make sense unless* we impose a **time interval** $I = [t_{0}, t_{1}]$: a user $u^{c}$ is a *Cross-poster* in $[t_{0}, t_{1}]$ as long as some **r/MensRights** post $p_{m}$ and some **r/Feminism** post $p_{f}$ were posted by the same user $u^{c}$ between timestamp $t_{0}$ and $t_{1}$; on the other hand, a user $u^{m}$ is a *MensRights-only* if all the posts by $u^{m}$ within the interval $I = [t_{0}, t_{1}]$ are exclusively from **r/MensRights**; likewise for *Feminism-only*.\n",
    "\n",
    "I'll show concrete example explaining what I mean by the three groups of users. As you'll see, we'll perform ETL on pandas dataframes to identify these groups of users. \n",
    "\n",
    "------------------"
   ]
  },
  {
   "cell_type": "markdown",
   "metadata": {},
   "source": [
    "### Some rationale for studying cross-poster\n",
    "\n",
    "**r/MensRights** and **r/Feminism** are a typical example of online social communities with a conflicting relationship. You can imagine they are \"separated\" by a boundary that most people are not likely to cross (e.g. post in both subreddits on a regular basis). However, some aggresive users may occasionaly start discussion on some controversial issues in the subreddit she/he is against, which may provoke users in the opposing subreddit to \"counterattack\". This may lead to elevated antagonization that may be manifested as increased **cross-posting** activity at some point in time.\n",
    "\n",
    "Here is a concrete example of how we can identify **cross-poster**, **MensRight-only** and **Feminism-only** within the first ten days in June 2014 (that is, $t_{0} =$ `datetime(2014, 1, 1)`, and $t_{1} =$ `datetime(2014, 6, 11)`) "
   ]
  },
  {
   "cell_type": "code",
   "execution_count": 3,
   "metadata": {
    "collapsed": false
   },
   "outputs": [
    {
     "data": {
      "text/html": [
       "<div>\n",
       "<table border=\"1\" class=\"dataframe\">\n",
       "  <thead>\n",
       "    <tr style=\"text-align: right;\">\n",
       "      <th></th>\n",
       "      <th>_id</th>\n",
       "      <th>author</th>\n",
       "      <th>body</th>\n",
       "      <th>created_utc</th>\n",
       "      <th>subreddit</th>\n",
       "    </tr>\n",
       "  </thead>\n",
       "  <tbody>\n",
       "    <tr>\n",
       "      <th>0</th>\n",
       "      <td>57c1306679a3030a58e3363e</td>\n",
       "      <td>termd</td>\n",
       "      <td>I'm mostly confused about her complaints becau...</td>\n",
       "      <td>2014-06-01 00:00:18</td>\n",
       "      <td>MensRights</td>\n",
       "    </tr>\n",
       "    <tr>\n",
       "      <th>1</th>\n",
       "      <td>57c1306679a3030a58e34252</td>\n",
       "      <td>Piroko</td>\n",
       "      <td>[\"It's a ferony.\"](http://www.cc.com/video-cli...</td>\n",
       "      <td>2014-06-01 00:03:39</td>\n",
       "      <td>MensRights</td>\n",
       "    </tr>\n",
       "    <tr>\n",
       "      <th>2</th>\n",
       "      <td>57c1306679a3030a58e3442b</td>\n",
       "      <td>not_just_amwac</td>\n",
       "      <td>Eating disorders aren't restricted to just sta...</td>\n",
       "      <td>2014-06-01 00:04:07</td>\n",
       "      <td>MensRights</td>\n",
       "    </tr>\n",
       "    <tr>\n",
       "      <th>3</th>\n",
       "      <td>57c1306679a3030a58e345f9</td>\n",
       "      <td>termd</td>\n",
       "      <td>No.\\n\\nI'm also not a drunken idiot and don't ...</td>\n",
       "      <td>2014-06-01 00:04:37</td>\n",
       "      <td>MensRights</td>\n",
       "    </tr>\n",
       "    <tr>\n",
       "      <th>4</th>\n",
       "      <td>57c1306779a3030a58e34a8f</td>\n",
       "      <td>Dann01</td>\n",
       "      <td>How many subscribers of 2x do you think are fa...</td>\n",
       "      <td>2014-06-01 00:05:55</td>\n",
       "      <td>MensRights</td>\n",
       "    </tr>\n",
       "    <tr>\n",
       "      <th>5</th>\n",
       "      <td>57c1306779a3030a58e34abc</td>\n",
       "      <td>Meistermalkav</td>\n",
       "      <td>\"I had no idea as well, I just assumed it was ...</td>\n",
       "      <td>2014-06-01 00:05:57</td>\n",
       "      <td>MensRights</td>\n",
       "    </tr>\n",
       "    <tr>\n",
       "      <th>6</th>\n",
       "      <td>57c1306779a3030a58e35054</td>\n",
       "      <td>elebrin</td>\n",
       "      <td>It's funny, but when I think of an ideal commu...</td>\n",
       "      <td>2014-06-01 00:07:33</td>\n",
       "      <td>MensRights</td>\n",
       "    </tr>\n",
       "    <tr>\n",
       "      <th>7</th>\n",
       "      <td>57c1306779a3030a58e35972</td>\n",
       "      <td>phySi0</td>\n",
       "      <td>But that's the point. Men's value is earned. T...</td>\n",
       "      <td>2014-06-01 00:10:05</td>\n",
       "      <td>MensRights</td>\n",
       "    </tr>\n",
       "    <tr>\n",
       "      <th>8</th>\n",
       "      <td>57c1306779a3030a58e35f10</td>\n",
       "      <td>iNQpsMMlzAR9</td>\n",
       "      <td>&amp;gt; You ignored all my actual points\\n\\nBecau...</td>\n",
       "      <td>2014-06-01 00:11:39</td>\n",
       "      <td>MensRights</td>\n",
       "    </tr>\n",
       "    <tr>\n",
       "      <th>9</th>\n",
       "      <td>57c1306779a3030a58e36035</td>\n",
       "      <td>bohalls</td>\n",
       "      <td>I think the point was the MRA chiming into qui...</td>\n",
       "      <td>2014-06-01 00:11:59</td>\n",
       "      <td>MensRights</td>\n",
       "    </tr>\n",
       "  </tbody>\n",
       "</table>\n",
       "</div>"
      ],
      "text/plain": [
       "                        _id          author  \\\n",
       "0  57c1306679a3030a58e3363e           termd   \n",
       "1  57c1306679a3030a58e34252          Piroko   \n",
       "2  57c1306679a3030a58e3442b  not_just_amwac   \n",
       "3  57c1306679a3030a58e345f9           termd   \n",
       "4  57c1306779a3030a58e34a8f          Dann01   \n",
       "5  57c1306779a3030a58e34abc   Meistermalkav   \n",
       "6  57c1306779a3030a58e35054         elebrin   \n",
       "7  57c1306779a3030a58e35972          phySi0   \n",
       "8  57c1306779a3030a58e35f10    iNQpsMMlzAR9   \n",
       "9  57c1306779a3030a58e36035         bohalls   \n",
       "\n",
       "                                                body         created_utc  \\\n",
       "0  I'm mostly confused about her complaints becau... 2014-06-01 00:00:18   \n",
       "1  [\"It's a ferony.\"](http://www.cc.com/video-cli... 2014-06-01 00:03:39   \n",
       "2  Eating disorders aren't restricted to just sta... 2014-06-01 00:04:07   \n",
       "3  No.\\n\\nI'm also not a drunken idiot and don't ... 2014-06-01 00:04:37   \n",
       "4  How many subscribers of 2x do you think are fa... 2014-06-01 00:05:55   \n",
       "5  \"I had no idea as well, I just assumed it was ... 2014-06-01 00:05:57   \n",
       "6  It's funny, but when I think of an ideal commu... 2014-06-01 00:07:33   \n",
       "7  But that's the point. Men's value is earned. T... 2014-06-01 00:10:05   \n",
       "8  &gt; You ignored all my actual points\\n\\nBecau... 2014-06-01 00:11:39   \n",
       "9  I think the point was the MRA chiming into qui... 2014-06-01 00:11:59   \n",
       "\n",
       "    subreddit  \n",
       "0  MensRights  \n",
       "1  MensRights  \n",
       "2  MensRights  \n",
       "3  MensRights  \n",
       "4  MensRights  \n",
       "5  MensRights  \n",
       "6  MensRights  \n",
       "7  MensRights  \n",
       "8  MensRights  \n",
       "9  MensRights  "
      ]
     },
     "execution_count": 3,
     "metadata": {},
     "output_type": "execute_result"
    }
   ],
   "source": [
    "import datetime\n",
    "import pandas as pd\n",
    "\n",
    "# Pull data from mongodb within [6/1/2014, 6/11/2014]  from both subreddits\n",
    "low = datetime.datetime(year=2014, month=6, day=1)\n",
    "high = datetime.datetime(year=2014, month=6, day=11)\n",
    "query = db[\"MensRights\"].find({\"created_utc\": {\"$lte\": high, \"$gte\": low}}, \n",
    "                              {\"author\": 1, \"created_utc\": 1, \"subreddit\": 1, \"body\": 1})\n",
    "men = pd.DataFrame(list(query))\n",
    "\n",
    "query = db[\"Feminism\"].find({\"created_utc\": {\"$lte\": high, \"$gte\": low}},\n",
    "                            {\"author\": 1, \"created_utc\": 1, \"subreddit\": 1, \"body\": 1})\n",
    "fem = pd.DataFrame(list(query))\n",
    "\n",
    "june2014 = pd.concat([men, fem], axis=0)\n",
    "june2014[:10]"
   ]
  },
  {
   "cell_type": "markdown",
   "metadata": {},
   "source": [
    "Given `june2014`, we group the rows by the `author`, and aggregate by counting the number of unique values in `subreddit` of the individual rows, which leads to `author_info`:"
   ]
  },
  {
   "cell_type": "code",
   "execution_count": 4,
   "metadata": {
    "collapsed": false
   },
   "outputs": [
    {
     "data": {
      "text/html": [
       "<div>\n",
       "<table border=\"1\" class=\"dataframe\">\n",
       "  <thead>\n",
       "    <tr style=\"text-align: right;\">\n",
       "      <th></th>\n",
       "      <th>author</th>\n",
       "      <th>subreddits</th>\n",
       "    </tr>\n",
       "  </thead>\n",
       "  <tbody>\n",
       "    <tr>\n",
       "      <th>56</th>\n",
       "      <td>AdumbroDeus</td>\n",
       "      <td>2</td>\n",
       "    </tr>\n",
       "    <tr>\n",
       "      <th>123</th>\n",
       "      <td>Astiolo</td>\n",
       "      <td>2</td>\n",
       "    </tr>\n",
       "    <tr>\n",
       "      <th>0</th>\n",
       "      <td>-Fender-</td>\n",
       "      <td>1</td>\n",
       "    </tr>\n",
       "    <tr>\n",
       "      <th>1</th>\n",
       "      <td>-JWF</td>\n",
       "      <td>1</td>\n",
       "    </tr>\n",
       "  </tbody>\n",
       "</table>\n",
       "</div>"
      ],
      "text/plain": [
       "          author  subreddits\n",
       "56   AdumbroDeus           2\n",
       "123      Astiolo           2\n",
       "0       -Fender-           1\n",
       "1           -JWF           1"
      ]
     },
     "execution_count": 4,
     "metadata": {},
     "output_type": "execute_result"
    }
   ],
   "source": [
    "author_info = june2014.groupby(\"author\").apply(lambda df: len(df[\"subreddit\"].unique()))\n",
    "author_info.name = \"subreddits\"\n",
    "author_info = author_info.reset_index(drop=False)\n",
    "pd.concat([author_info[author_info[\"subreddits\"] == 2][:2],\n",
    "           author_info[author_info[\"subreddits\"] == 1][:2]], axis=0)"
   ]
  },
  {
   "cell_type": "markdown",
   "metadata": {},
   "source": [
    "Cross-posters (e.g. `AdumbroDeus`, `Astiolo`) are those with the aggregated value of 2, while MensRights-only or Feminism-only (e.g. `-Fender-`, `-JWF`) are those with value of 1.\n",
    "\n",
    "Note that `june2014` contains only information about each post, while `author_info` is derived from `june2014` that contains meta information about each author. We can do a SQL join on their common column `author` to obtain a more complete picture:"
   ]
  },
  {
   "cell_type": "code",
   "execution_count": 5,
   "metadata": {
    "collapsed": false
   },
   "outputs": [
    {
     "data": {
      "text/html": [
       "<div>\n",
       "<table border=\"1\" class=\"dataframe\">\n",
       "  <thead>\n",
       "    <tr style=\"text-align: right;\">\n",
       "      <th></th>\n",
       "      <th>body</th>\n",
       "      <th>created_utc</th>\n",
       "      <th>subreddit</th>\n",
       "      <th>author</th>\n",
       "      <th>subreddits</th>\n",
       "    </tr>\n",
       "  </thead>\n",
       "  <tbody>\n",
       "    <tr>\n",
       "      <th>17925</th>\n",
       "      <td>It's truly sensationalist dreck disguised as a...</td>\n",
       "      <td>2014-06-10 21:03:54</td>\n",
       "      <td>Feminism</td>\n",
       "      <td>enfp_ocd</td>\n",
       "      <td>1</td>\n",
       "    </tr>\n",
       "    <tr>\n",
       "      <th>17926</th>\n",
       "      <td>I don't know what to say. This infuriates me t...</td>\n",
       "      <td>2014-06-10 21:08:12</td>\n",
       "      <td>Feminism</td>\n",
       "      <td>Gingerosaurus</td>\n",
       "      <td>1</td>\n",
       "    </tr>\n",
       "    <tr>\n",
       "      <th>17927</th>\n",
       "      <td>I don't think I did it right, here's a link to...</td>\n",
       "      <td>2014-06-10 22:02:21</td>\n",
       "      <td>Feminism</td>\n",
       "      <td>AnthroPoBoy</td>\n",
       "      <td>1</td>\n",
       "    </tr>\n",
       "    <tr>\n",
       "      <th>17928</th>\n",
       "      <td>Gosh, we need a little lesson about equalism. ...</td>\n",
       "      <td>2014-06-10 22:22:05</td>\n",
       "      <td>Feminism</td>\n",
       "      <td>Dirtydan6669</td>\n",
       "      <td>1</td>\n",
       "    </tr>\n",
       "    <tr>\n",
       "      <th>17929</th>\n",
       "      <td>This incident did not occur in a vacuum. All o...</td>\n",
       "      <td>2014-06-10 22:23:56</td>\n",
       "      <td>Feminism</td>\n",
       "      <td>mch3rry</td>\n",
       "      <td>1</td>\n",
       "    </tr>\n",
       "  </tbody>\n",
       "</table>\n",
       "</div>"
      ],
      "text/plain": [
       "                                                    body         created_utc  \\\n",
       "17925  It's truly sensationalist dreck disguised as a... 2014-06-10 21:03:54   \n",
       "17926  I don't know what to say. This infuriates me t... 2014-06-10 21:08:12   \n",
       "17927  I don't think I did it right, here's a link to... 2014-06-10 22:02:21   \n",
       "17928  Gosh, we need a little lesson about equalism. ... 2014-06-10 22:22:05   \n",
       "17929  This incident did not occur in a vacuum. All o... 2014-06-10 22:23:56   \n",
       "\n",
       "      subreddit         author  subreddits  \n",
       "17925  Feminism       enfp_ocd           1  \n",
       "17926  Feminism  Gingerosaurus           1  \n",
       "17927  Feminism    AnthroPoBoy           1  \n",
       "17928  Feminism   Dirtydan6669           1  \n",
       "17929  Feminism        mch3rry           1  "
      ]
     },
     "execution_count": 5,
     "metadata": {},
     "output_type": "execute_result"
    }
   ],
   "source": [
    "june2014 = june2014.merge(author_info, left_on=\"author\", right_on=\"author\")\n",
    "june2014 = june2014[[\"body\", \"created_utc\", \"subreddit\", \"author\", \"subreddits\"]]\n",
    "june2014[-5:]"
   ]
  },
  {
   "cell_type": "markdown",
   "metadata": {},
   "source": [
    "Given the dataframe `june2014` that contains information about both post and author, we can easily identify the three groups of authors and their posts:"
   ]
  },
  {
   "cell_type": "code",
   "execution_count": 6,
   "metadata": {
    "collapsed": false
   },
   "outputs": [
    {
     "data": {
      "text/plain": [
       "array([u'autowikibot', u'phatphace', u'Astiolo', u'deit9000',\n",
       "       u'Yo_Soy_Candide'], dtype=object)"
      ]
     },
     "execution_count": 6,
     "metadata": {},
     "output_type": "execute_result"
    }
   ],
   "source": [
    "# crossposter:\n",
    "june2014[june2014[\"subreddits\"] == 2][\"author\"].unique()[:5]"
   ]
  },
  {
   "cell_type": "code",
   "execution_count": 7,
   "metadata": {
    "collapsed": false
   },
   "outputs": [
    {
     "data": {
      "text/html": [
       "<div>\n",
       "<table border=\"1\" class=\"dataframe\">\n",
       "  <thead>\n",
       "    <tr style=\"text-align: right;\">\n",
       "      <th></th>\n",
       "      <th>body</th>\n",
       "      <th>created_utc</th>\n",
       "      <th>subreddit</th>\n",
       "      <th>author</th>\n",
       "      <th>subreddits</th>\n",
       "    </tr>\n",
       "  </thead>\n",
       "  <tbody>\n",
       "    <tr>\n",
       "      <th>2404</th>\n",
       "      <td>I don't really see her view as particularly co...</td>\n",
       "      <td>2014-06-01 05:16:30</td>\n",
       "      <td>MensRights</td>\n",
       "      <td>Astiolo</td>\n",
       "      <td>2</td>\n",
       "    </tr>\n",
       "    <tr>\n",
       "      <th>2405</th>\n",
       "      <td>I think the biologist was spot on with this, s...</td>\n",
       "      <td>2014-06-06 15:52:29</td>\n",
       "      <td>Feminism</td>\n",
       "      <td>Astiolo</td>\n",
       "      <td>2</td>\n",
       "    </tr>\n",
       "  </tbody>\n",
       "</table>\n",
       "</div>"
      ],
      "text/plain": [
       "                                                   body         created_utc  \\\n",
       "2404  I don't really see her view as particularly co... 2014-06-01 05:16:30   \n",
       "2405  I think the biologist was spot on with this, s... 2014-06-06 15:52:29   \n",
       "\n",
       "       subreddit   author  subreddits  \n",
       "2404  MensRights  Astiolo           2  \n",
       "2405    Feminism  Astiolo           2  "
      ]
     },
     "execution_count": 7,
     "metadata": {},
     "output_type": "execute_result"
    }
   ],
   "source": [
    "# crossposter `Astiolo`'s post\n",
    "june2014[june2014[\"author\"] == \"Astiolo\"]"
   ]
  },
  {
   "cell_type": "code",
   "execution_count": 8,
   "metadata": {
    "collapsed": false
   },
   "outputs": [
    {
     "data": {
      "text/plain": [
       "array([u'termd', u'Piroko', u'not_just_amwac', u'Dann01', u'Meistermalkav'], dtype=object)"
      ]
     },
     "execution_count": 8,
     "metadata": {},
     "output_type": "execute_result"
    }
   ],
   "source": [
    "# MensRights-only:\n",
    "june2014[(june2014[\"subreddits\"] == 1) & (june2014[\"subreddit\"] == \"MensRights\")][\"author\"].unique()[:5]"
   ]
  },
  {
   "cell_type": "code",
   "execution_count": 9,
   "metadata": {
    "collapsed": false
   },
   "outputs": [
    {
     "data": {
      "text/html": [
       "<div>\n",
       "<table border=\"1\" class=\"dataframe\">\n",
       "  <thead>\n",
       "    <tr style=\"text-align: right;\">\n",
       "      <th></th>\n",
       "      <th>body</th>\n",
       "      <th>created_utc</th>\n",
       "      <th>subreddit</th>\n",
       "      <th>author</th>\n",
       "      <th>subreddits</th>\n",
       "    </tr>\n",
       "  </thead>\n",
       "  <tbody>\n",
       "    <tr>\n",
       "      <th>0</th>\n",
       "      <td>I'm mostly confused about her complaints becau...</td>\n",
       "      <td>2014-06-01 00:00:18</td>\n",
       "      <td>MensRights</td>\n",
       "      <td>termd</td>\n",
       "      <td>1</td>\n",
       "    </tr>\n",
       "    <tr>\n",
       "      <th>1</th>\n",
       "      <td>No.\\n\\nI'm also not a drunken idiot and don't ...</td>\n",
       "      <td>2014-06-01 00:04:37</td>\n",
       "      <td>MensRights</td>\n",
       "      <td>termd</td>\n",
       "      <td>1</td>\n",
       "    </tr>\n",
       "  </tbody>\n",
       "</table>\n",
       "</div>"
      ],
      "text/plain": [
       "                                                body         created_utc  \\\n",
       "0  I'm mostly confused about her complaints becau... 2014-06-01 00:00:18   \n",
       "1  No.\\n\\nI'm also not a drunken idiot and don't ... 2014-06-01 00:04:37   \n",
       "\n",
       "    subreddit author  subreddits  \n",
       "0  MensRights  termd           1  \n",
       "1  MensRights  termd           1  "
      ]
     },
     "execution_count": 9,
     "metadata": {},
     "output_type": "execute_result"
    }
   ],
   "source": [
    "# MensRights-only `termd`'s post\n",
    "june2014[june2014[\"author\"] == \"termd\"]"
   ]
  },
  {
   "cell_type": "code",
   "execution_count": 10,
   "metadata": {
    "collapsed": false
   },
   "outputs": [
    {
     "data": {
      "text/plain": [
       "array([u'arwenface', u'FoKFill', u'a_grotesqueanimal', u'sinn7',\n",
       "       u'IndieLady'], dtype=object)"
      ]
     },
     "execution_count": 10,
     "metadata": {},
     "output_type": "execute_result"
    }
   ],
   "source": [
    "# Feminism-only\n",
    "june2014[(june2014[\"subreddits\"] == 1) & (june2014[\"subreddit\"] == \"Feminism\")][\"author\"].unique()[:5]"
   ]
  },
  {
   "cell_type": "code",
   "execution_count": 11,
   "metadata": {
    "collapsed": false
   },
   "outputs": [
    {
     "data": {
      "text/html": [
       "<div>\n",
       "<table border=\"1\" class=\"dataframe\">\n",
       "  <thead>\n",
       "    <tr style=\"text-align: right;\">\n",
       "      <th></th>\n",
       "      <th>body</th>\n",
       "      <th>created_utc</th>\n",
       "      <th>subreddit</th>\n",
       "      <th>author</th>\n",
       "      <th>subreddits</th>\n",
       "    </tr>\n",
       "  </thead>\n",
       "  <tbody>\n",
       "    <tr>\n",
       "      <th>16826</th>\n",
       "      <td>The pink dump truck is a nice touch, though.</td>\n",
       "      <td>2014-06-01 01:06:18</td>\n",
       "      <td>Feminism</td>\n",
       "      <td>arwenface</td>\n",
       "      <td>1</td>\n",
       "    </tr>\n",
       "  </tbody>\n",
       "</table>\n",
       "</div>"
      ],
      "text/plain": [
       "                                               body         created_utc  \\\n",
       "16826  The pink dump truck is a nice touch, though. 2014-06-01 01:06:18   \n",
       "\n",
       "      subreddit     author  subreddits  \n",
       "16826  Feminism  arwenface           1  "
      ]
     },
     "execution_count": 11,
     "metadata": {},
     "output_type": "execute_result"
    }
   ],
   "source": [
    "# Feminism-only `arwenface`'s post\n",
    "june2014[june2014[\"author\"] == \"arwenface\"]"
   ]
  },
  {
   "cell_type": "markdown",
   "metadata": {},
   "source": [
    "# Temporal Analysis of Cross-posting\n",
    "\n",
    "Now that we have some intuitive understanding of the data, the next question we want to address is figuring out how cross-posting activity changes over time. Specifically, we want to compute **the numbers of authors in the three groups** ($N_{men\\_only}(I), N_{fem\\_only}(I), N_{crosspost}(I)$) as a function of the moving interval $I$. Note that the size of $I$ could range from one day to multiple days, depending on the granularity of our choice. Again, I'll show concrete examples of $N_{men\\_only}(I), N_{fem\\_only}(I), N_{crosspost}(I)$."
   ]
  },
  {
   "cell_type": "markdown",
   "metadata": {},
   "source": [
    "We need a helper function `authorlist_by_date` for data transformation:\n",
    "1. Pull the data from MongoDB and store the data in dataframe\n",
    "2. Group the rows in the dataframe by individual date (column `date`), and aggregate the rows in each group by merging the lists of authors.\n",
    "\n",
    "Applying the function on the two collections, we end up with two dataframes `mensrights`, `feminism` and two series `men_author_groupby_day`, `fem_author_groupby_day`"
   ]
  },
  {
   "cell_type": "code",
   "execution_count": 12,
   "metadata": {
    "collapsed": false
   },
   "outputs": [],
   "source": [
    "def authorlist_by_date(subreddit):\n",
    "    df = pd.DataFrame(list(db[subreddit].find({},\n",
    "                                              {\"author\": 1, \"created_utc\": 1, \"date\": 1, \"subreddit\": 1, \"body\": 1})))\n",
    "    \n",
    "    author_groupby_day = df.groupby(\"date\").apply(lambda x: x[\"author\"].unique())\n",
    "    return df, author_groupby_day\n",
    "\n",
    "mensrights, men_author_groupby_day = authorlist_by_date(\"MensRights\")\n",
    "feminism, fem_author_groupby_day = authorlist_by_date(\"Feminism\")"
   ]
  },
  {
   "cell_type": "markdown",
   "metadata": {},
   "source": [
    "The two series are indexed by date, and each entry contains the list of authors who posted on the given date"
   ]
  },
  {
   "cell_type": "code",
   "execution_count": 13,
   "metadata": {
    "collapsed": false
   },
   "outputs": [
    {
     "data": {
      "text/plain": [
       "date\n",
       "2008-03-21      [kanuk876]\n",
       "2008-03-24    [WorcesterM]\n",
       "dtype: object"
      ]
     },
     "execution_count": 13,
     "metadata": {},
     "output_type": "execute_result"
    }
   ],
   "source": [
    "men_author_groupby_day[:2]"
   ]
  },
  {
   "cell_type": "code",
   "execution_count": 14,
   "metadata": {
    "collapsed": false
   },
   "outputs": [
    {
     "data": {
      "text/plain": [
       "date\n",
       "2009-02-06    [stellar1]\n",
       "2009-04-13      [Smight]\n",
       "dtype: object"
      ]
     },
     "execution_count": 14,
     "metadata": {},
     "output_type": "execute_result"
    }
   ],
   "source": [
    "fem_author_groupby_day[:2]"
   ]
  },
  {
   "cell_type": "markdown",
   "metadata": {},
   "source": [
    "So `[kanuk876]` are all the authors who posted in **r/MensRights** on 3/21/2008, and `[stellar1]` are all the authors who posted in **r/Feminism** on 2/6/2009.\n",
    "\n",
    "Now concatenate them along axis=1. Note the indices (`created_utc`) are automatically aligned."
   ]
  },
  {
   "cell_type": "code",
   "execution_count": 15,
   "metadata": {
    "collapsed": false
   },
   "outputs": [
    {
     "data": {
      "text/html": [
       "<div>\n",
       "<table border=\"1\" class=\"dataframe\">\n",
       "  <thead>\n",
       "    <tr style=\"text-align: right;\">\n",
       "      <th></th>\n",
       "      <th>men_author</th>\n",
       "      <th>fem_author</th>\n",
       "    </tr>\n",
       "    <tr>\n",
       "      <th>date</th>\n",
       "      <th></th>\n",
       "      <th></th>\n",
       "    </tr>\n",
       "  </thead>\n",
       "  <tbody>\n",
       "    <tr>\n",
       "      <th>2016-07-27</th>\n",
       "      <td>[Liv47, R_BirthStrike, WolfyCat, baserace, rww...</td>\n",
       "      <td>[WorstGringoNA, grantrob, i_have_a_semicolon, ...</td>\n",
       "    </tr>\n",
       "    <tr>\n",
       "      <th>2016-07-28</th>\n",
       "      <td>[juboboy, subzero_600, escobari, cld8, LenTheL...</td>\n",
       "      <td>[Soggy_Biscuit_, saccharind, DJWalnut, Hobbes_...</td>\n",
       "    </tr>\n",
       "    <tr>\n",
       "      <th>2016-07-29</th>\n",
       "      <td>[qemist, equiposeur, SigmundFloyd76, i_have_a_...</td>\n",
       "      <td>[HeavenlySun, ricnus, Hobbes_the_tiger, notano...</td>\n",
       "    </tr>\n",
       "    <tr>\n",
       "      <th>2016-07-30</th>\n",
       "      <td>[Real_nimr0d, elebrin, sillymod, JohnKimble111...</td>\n",
       "      <td>[Amvega, demmian, conuly, Hobbes_the_tiger, Ad...</td>\n",
       "    </tr>\n",
       "    <tr>\n",
       "      <th>2016-07-31</th>\n",
       "      <td>[Lethn, hhamama66, civilsaint, Foregen_Is_Life...</td>\n",
       "      <td>[polot38, HeavenlySun, weinbrandbabsi, raloicl...</td>\n",
       "    </tr>\n",
       "  </tbody>\n",
       "</table>\n",
       "</div>"
      ],
      "text/plain": [
       "                                                   men_author  \\\n",
       "date                                                            \n",
       "2016-07-27  [Liv47, R_BirthStrike, WolfyCat, baserace, rww...   \n",
       "2016-07-28  [juboboy, subzero_600, escobari, cld8, LenTheL...   \n",
       "2016-07-29  [qemist, equiposeur, SigmundFloyd76, i_have_a_...   \n",
       "2016-07-30  [Real_nimr0d, elebrin, sillymod, JohnKimble111...   \n",
       "2016-07-31  [Lethn, hhamama66, civilsaint, Foregen_Is_Life...   \n",
       "\n",
       "                                                   fem_author  \n",
       "date                                                           \n",
       "2016-07-27  [WorstGringoNA, grantrob, i_have_a_semicolon, ...  \n",
       "2016-07-28  [Soggy_Biscuit_, saccharind, DJWalnut, Hobbes_...  \n",
       "2016-07-29  [HeavenlySun, ricnus, Hobbes_the_tiger, notano...  \n",
       "2016-07-30  [Amvega, demmian, conuly, Hobbes_the_tiger, Ad...  \n",
       "2016-07-31  [polot38, HeavenlySun, weinbrandbabsi, raloicl...  "
      ]
     },
     "execution_count": 15,
     "metadata": {},
     "output_type": "execute_result"
    }
   ],
   "source": [
    "author_groupby_day = pd.concat([men_author_groupby_day, fem_author_groupby_day],\n",
    "                               axis=1, keys=[\"men_author\", \"fem_author\"])\n",
    "author_groupby_day = author_groupby_day.sort_index(axis=0)\n",
    "author_groupby_day[-5:]"
   ]
  },
  {
   "cell_type": "markdown",
   "metadata": {},
   "source": [
    "For each row of `author_groupby_day`, we have two lists of authors $L_{men}$ (e.g. `[Liv47, R_BirthStrike, WolfyCat, ...`) and $L_{fem}$ (e.g. `[WorstGringoNA, grantrob, ...`), the counts of **crossposters**, **MensRights-only** and **Feminism-only** can be obtained as follows:\n",
    "\n",
    "* $N_{crosspost} = |L_{men} \\cap L_{fem}|$ (intersection)\n",
    "* $N_{men\\_only} = |L_{men} - L_{fem}|$ (set difference)\n",
    "* $N_{fem\\_only} = |L_{fem} - L_{fem}|$ (set difference)\n",
    "\n",
    "Note that in the notation above, we've omitted the time interval $I$, which spans only one day.\n",
    "\n",
    "To reduce the variation of the counts, we need to change the level of granularity by increasing the size of $I$ from one day to 10 days (+/- 5 days centered on each date). For example, \n",
    "\n",
    "`2016-07-27` will be changed to `[2016-07-22, 2016-07-31]`\n",
    "\n",
    "We define a helper function `compute_ratio_author` to be applied on each row of dataframe `author_groupby_day`. It does the following:\n",
    "* For each `date` (`name` field of each `row`), find all the dates (`days`) within the interval\n",
    "* Merge the author lists from columns (`men_author` and `fem_author`) that fall within the interval, so the new lists of authors span the entire interval rather than only one day.\n",
    "* Compute the counts of the each groups of authors using the above equations, and optionally normalize by their sum. "
   ]
  },
  {
   "cell_type": "code",
   "execution_count": 16,
   "metadata": {
    "collapsed": true
   },
   "outputs": [],
   "source": [
    "radius = 5\n",
    "\n",
    "def compute_ratio_author(row, normalize=True):\n",
    "    \"\"\"\n",
    "    row: Series\n",
    "    row.name: index value of the row (i.e. datetime)\n",
    "    \n",
    "    For each row (corresponding to a calendar date), compute the percentage of \n",
    "    the three groups of authors (with or without normalization)\n",
    "    \"\"\"\n",
    "    date = row.name\n",
    "    days = [date + datetime.timedelta(days=d) for d in range(-radius, radius)]\n",
    "\n",
    "    men_author = []\n",
    "    fem_author = []\n",
    "    for d in days:\n",
    "        if d in author_groupby_day.index:\n",
    "            if author_groupby_day.ix[d, \"men_author\"] is not np.nan:\n",
    "                men_author.extend(list(author_groupby_day.ix[d, \"men_author\"]))\n",
    "            if author_groupby_day.ix[d, \"fem_author\"] is not np.nan:\n",
    "                fem_author.extend(list(author_groupby_day.ix[d, \"fem_author\"]))\n",
    "    crossposter = set(men_author) & set(fem_author)\n",
    "    men_only_author = set(men_author) - crossposter\n",
    "    fem_only_author = set(fem_author) - crossposter\n",
    "    ratio = np.array([len(men_only_author), len(fem_only_author), len(crossposter)], dtype=np.float)\n",
    "\n",
    "    if normalize:\n",
    "        ratio = ratio / ratio.sum()\n",
    "    return pd.Series(ratio)\n"
   ]
  },
  {
   "cell_type": "markdown",
   "metadata": {},
   "source": [
    "Apply `compute_ratio_author` on each row of `author_groupby_day`:"
   ]
  },
  {
   "cell_type": "code",
   "execution_count": 17,
   "metadata": {
    "collapsed": false
   },
   "outputs": [
    {
     "data": {
      "image/png": "[encoded data removed]",
      "text/plain": [
       "<matplotlib.figure.Figure at 0x7f4fb2b0dfd0>"
      ]
     },
     "metadata": {},
     "output_type": "display_data"
    },
    {
     "data": {
      "image/png": "[encoded data removed]",
      "text/plain": [
       "<matplotlib.figure.Figure at 0x7f4fafef9c50>"
      ]
     },
     "metadata": {},
     "output_type": "display_data"
    }
   ],
   "source": [
    "import matplotlib.pyplot as plt\n",
    "import seaborn as sns\n",
    "import numpy as np\n",
    "\n",
    "# `normalized = False` corresponds to the raw counts\n",
    "# `normalized = True` corresponds to ratios (divide raw counts by sum, so that sum of ratios equals one)\n",
    "for normalize in (True, False):\n",
    "    ratio = author_groupby_day.apply(lambda row: compute_ratio_author(row, normalize=normalize), axis=1)\n",
    "    ratio.columns = [\"MensRights Only Author\", \"Feminism Only Author\", \"Cross-poster\"]\n",
    "    ax = ratio.plot()\n",
    "    ax.set_xticklabels(map(str, range(2009, 2017)), size=14, rotation=\"horizontal\")\n",
    "    sns.set_style(\"darkgrid\")\n",
    "    plt.legend(loc=0, prop={\"size\": 15})\n",
    "    plt.xlabel(\"\")\n",
    "\n",
    "    if normalize:\n",
    "        plt.ylabel(\"Normalized Percentage of Authors by Group\", fontsize=14)\n",
    "        plt.title(\"Normalized\")\n",
    "    else:\n",
    "        plt.ylabel(\"Number of Authors by Group\", fontsize=14)\n",
    "        plt.title(\"Unnormalized\")\n",
    "    plt.show()"
   ]
  },
  {
   "cell_type": "markdown",
   "metadata": {},
   "source": [
    "Let's take a look at the result of applying `compute_ratio_author` on `author_groupby_day`:"
   ]
  },
  {
   "cell_type": "code",
   "execution_count": 18,
   "metadata": {
    "collapsed": false
   },
   "outputs": [
    {
     "data": {
      "text/html": [
       "<div>\n",
       "<table border=\"1\" class=\"dataframe\">\n",
       "  <thead>\n",
       "    <tr style=\"text-align: right;\">\n",
       "      <th></th>\n",
       "      <th>MensRights Only Author</th>\n",
       "      <th>Feminism Only Author</th>\n",
       "      <th>Cross-poster</th>\n",
       "    </tr>\n",
       "    <tr>\n",
       "      <th>date</th>\n",
       "      <th></th>\n",
       "      <th></th>\n",
       "      <th></th>\n",
       "    </tr>\n",
       "  </thead>\n",
       "  <tbody>\n",
       "    <tr>\n",
       "      <th>2016-07-22</th>\n",
       "      <td>2307.0</td>\n",
       "      <td>345.0</td>\n",
       "      <td>4.0</td>\n",
       "    </tr>\n",
       "    <tr>\n",
       "      <th>2016-07-23</th>\n",
       "      <td>2243.0</td>\n",
       "      <td>333.0</td>\n",
       "      <td>5.0</td>\n",
       "    </tr>\n",
       "    <tr>\n",
       "      <th>2016-07-24</th>\n",
       "      <td>2202.0</td>\n",
       "      <td>334.0</td>\n",
       "      <td>4.0</td>\n",
       "    </tr>\n",
       "    <tr>\n",
       "      <th>2016-07-25</th>\n",
       "      <td>2211.0</td>\n",
       "      <td>319.0</td>\n",
       "      <td>4.0</td>\n",
       "    </tr>\n",
       "    <tr>\n",
       "      <th>2016-07-26</th>\n",
       "      <td>2217.0</td>\n",
       "      <td>291.0</td>\n",
       "      <td>5.0</td>\n",
       "    </tr>\n",
       "    <tr>\n",
       "      <th>2016-07-27</th>\n",
       "      <td>2148.0</td>\n",
       "      <td>283.0</td>\n",
       "      <td>5.0</td>\n",
       "    </tr>\n",
       "    <tr>\n",
       "      <th>2016-07-28</th>\n",
       "      <td>1980.0</td>\n",
       "      <td>251.0</td>\n",
       "      <td>4.0</td>\n",
       "    </tr>\n",
       "    <tr>\n",
       "      <th>2016-07-29</th>\n",
       "      <td>1835.0</td>\n",
       "      <td>234.0</td>\n",
       "      <td>3.0</td>\n",
       "    </tr>\n",
       "    <tr>\n",
       "      <th>2016-07-30</th>\n",
       "      <td>1656.0</td>\n",
       "      <td>208.0</td>\n",
       "      <td>3.0</td>\n",
       "    </tr>\n",
       "    <tr>\n",
       "      <th>2016-07-31</th>\n",
       "      <td>1427.0</td>\n",
       "      <td>178.0</td>\n",
       "      <td>3.0</td>\n",
       "    </tr>\n",
       "  </tbody>\n",
       "</table>\n",
       "</div>"
      ],
      "text/plain": [
       "            MensRights Only Author  Feminism Only Author  Cross-poster\n",
       "date                                                                  \n",
       "2016-07-22                  2307.0                 345.0           4.0\n",
       "2016-07-23                  2243.0                 333.0           5.0\n",
       "2016-07-24                  2202.0                 334.0           4.0\n",
       "2016-07-25                  2211.0                 319.0           4.0\n",
       "2016-07-26                  2217.0                 291.0           5.0\n",
       "2016-07-27                  2148.0                 283.0           5.0\n",
       "2016-07-28                  1980.0                 251.0           4.0\n",
       "2016-07-29                  1835.0                 234.0           3.0\n",
       "2016-07-30                  1656.0                 208.0           3.0\n",
       "2016-07-31                  1427.0                 178.0           3.0"
      ]
     },
     "execution_count": 18,
     "metadata": {},
     "output_type": "execute_result"
    }
   ],
   "source": [
    "ratio[-10:]"
   ]
  },
  {
   "cell_type": "markdown",
   "metadata": {},
   "source": [
    "Using the notation defined previously, we have:\n",
    "\n",
    "* $N_{men\\_only}(I) = 8630$\n",
    "* $N_{fem\\_only}(I) = 621$\n",
    "* $N_{crosspost}(I) = 147$\n",
    "\n",
    "where $I$ = `[2016-07-22, 2016-07-31]` (centered on `2016-07-26`)\n",
    "\n",
    "-------------------\n",
    "\n",
    "Note that the above function `compute_ratio_author` outputs the numbers/ratios of **authors** across the three groups. We can also compute the numbers/ratios of **posts** from the three groups of authors using the following helper function `compute_ratio_post`:"
   ]
  },
  {
   "cell_type": "code",
   "execution_count": null,
   "metadata": {
    "collapsed": false
   },
   "outputs": [],
   "source": [
    "radius = 5\n",
    "\n",
    "def compute_ratio_post(row, normalize=True):\n",
    "    \"\"\"\n",
    "    row: Series\n",
    "    row.name: index value of the row (i.e. datetime)\n",
    "    \n",
    "    For each row (corresponding to a calendar date), compute the percentage of \n",
    "    the three groups of authors (with or without normalization)\n",
    "    \"\"\"\n",
    "    date = row.name\n",
    "    days = [date + datetime.timedelta(days=d) for d in range(-radius, radius)]\n",
    "\n",
    "    men_author = []\n",
    "    fem_author = []\n",
    "    for d in days:\n",
    "        if d in author_groupby_day.index:\n",
    "            if author_groupby_day.ix[d, \"men_author\"] is not np.nan:\n",
    "                men_author.extend(list(author_groupby_day.ix[d, \"men_author\"]))\n",
    "            if author_groupby_day.ix[d, \"fem_author\"] is not np.nan:\n",
    "                fem_author.extend(list(author_groupby_day.ix[d, \"fem_author\"]))\n",
    "    crossposter = set(men_author) & set(fem_author)\n",
    "    men_only_author = set(men_author) - crossposter\n",
    "    fem_only_author = set(fem_author) - crossposter\n",
    "    \"\"\"\n",
    "    Note taht up to now this function does the SAME as `compute_ratio_author`\n",
    "    Next the function counts the number of posts from `men_only_author`, `fem_only_author`\n",
    "    and `crossposter`\n",
    "    \"\"\" \n",
    "    \n",
    "    df_men = mensrights[(mensrights[\"date\"] <= days[-1]) & (mensrights[\"date\"] >= days[0])]\n",
    "    df_fem = feminism[(feminism[\"date\"] <= days[-1]) & (feminism[\"date\"] >= days[0])]\n",
    "\n",
    "    men_only_author_posts = (df_men[\"author\"].isin(men_only_author)).sum()\n",
    "    fem_only_author_posts = (df_fem[\"author\"].isin(fem_only_author)).sum()\n",
    "\n",
    "    crossposter_posts = (df_men[\"author\"].isin(crossposter)).sum() + \\\n",
    "                        (df_fem[\"author\"].isin(crossposter)).sum()\n",
    "\n",
    "\n",
    "    ratio = np.array([men_only_author_posts, fem_only_author_posts, crossposter_posts], dtype=np.float)\n",
    "\n",
    "    if normalize:\n",
    "        ratio = ratio / ratio.sum()\n",
    "    return pd.Series(ratio)"
   ]
  },
  {
   "cell_type": "code",
   "execution_count": null,
   "metadata": {
    "collapsed": false
   },
   "outputs": [],
   "source": [
    "# `normalized = False` corresponds to the raw counts\n",
    "# `normalized = True` corresponds to ratios (divide raw counts by sum, so that sum of ratios equals one)\n",
    "for normalize in (True, False):\n",
    "    ratio = author_groupby_day.apply(lambda row: compute_ratio_post(row, normalize=normalize), axis=1)\n",
    "    ratio.columns = [\"From MensRights Only Author\", \"From Feminism Only Author\", \"From Cross-poster\"]\n",
    "    ax = ratio.plot()\n",
    "    ax.set_xticklabels(map(str, range(2009, 2017)), size=14, rotation=\"horizontal\")\n",
    "    sns.set_style(\"darkgrid\")\n",
    "    plt.legend(loc=0, prop={\"size\": 15})\n",
    "    plt.xlabel(\"\")\n",
    "    if normalize:\n",
    "        plt.ylabel(\"Normalized Percentage of Posts by author Group\", fontsize=14)\n",
    "        plt.title(\"Normalized\")\n",
    "    else:\n",
    "        plt.ylabel(\"Number of Posts by author group\", fontsize=14)\n",
    "        plt.title(\"Unnormalized\")\n",
    "    plt.show()"
   ]
  },
  {
   "cell_type": "markdown",
   "metadata": {},
   "source": [
    "As we can see, **MensRights** users' activity overshadowed the **Feminism** users across all the four figures above.\n",
    "\n",
    "Interestingly, the red curves (cross-posters) appear to be very peaky between mid 2012 to mid 2013. And although the count of cross-posters was the least among the three groups of users (the first two figures), the number of posts they generated seemed to be not proportional to their counts from late 2012 to early 2014 (the last two figure): the red curves were below green curves in the first two figures, but were above green curves in the last two figure, which means cross-posters generated even more posts than Feminism-only authors on average).\n",
    "\n",
    "We probably have to perform some further analysis to figure out what triggered them to be unusually active during that period. For example, if the posts in the peaky region from cross-posters were focused on a narrow range of topics, they may have to be consistent in their usage of language. One way to test this hypothesis could be computing the divergence of linguisitc pattern $\\delta(M_{t}, F_{t})$ (e.g. word frequencies) of posts from the two subreddits, and see if there is a valley for the divergence curve where we saw the peak in the red curves. "
   ]
  },
  {
   "cell_type": "code",
   "execution_count": null,
   "metadata": {
    "collapsed": true
   },
   "outputs": [],
   "source": [
    "del men, men_author_groupby_day, fem, fem_author_groupby_day"
   ]
  },
  {
   "cell_type": "markdown",
   "metadata": {},
   "source": [
    "### An aside about BOT\n",
    "\n",
    "Quoting from Wikipedia: An Internet ***Bot***, also known as web robot, WWW robot or simply bot, is a software application that runs automated tasks (scripts) over the Internet. Typically, bots perform tasks that are both simple and structurally repetitive, at a much higher rate than would be possible for a human alone.\n",
    "\n",
    "BOT in online social media can be annoying as they keep posting useless stuff. And the existence of posts from BOTs may introduce bias to our analysis.\n",
    "\n",
    "We'll need to somehow have some idea about the extent of BOT in our data. One attribute that is distinctive about BOTs is they keep posting duplicated stuff. We can check if authors have this attribute very easily:"
   ]
  },
  {
   "cell_type": "code",
   "execution_count": null,
   "metadata": {
    "collapsed": true
   },
   "outputs": [],
   "source": [
    "# Check if an author's total number of posts is greater than the number of unique posts\n",
    "def duplicate_post(df):\n",
    "    return 1 if len(df[\"body\"].unique()) < df.shape[0] else 0"
   ]
  },
  {
   "cell_type": "code",
   "execution_count": null,
   "metadata": {
    "collapsed": true
   },
   "outputs": [],
   "source": [
    "men_bot = mensrights.groupby(\"author\").apply(duplicate_post)\n",
    "fem_bot = feminism.groupby(\"author\").apply(duplicate_post)"
   ]
  },
  {
   "cell_type": "markdown",
   "metadata": {},
   "source": [
    "As we can see the authors who has posted duplicate posts account for only a small portion (i.e. `2595/115074` and `215/31772`)"
   ]
  },
  {
   "cell_type": "code",
   "execution_count": null,
   "metadata": {
    "collapsed": false
   },
   "outputs": [],
   "source": [
    "men_bot.shape[0], men_bot.sum(), fem_bot.shape[0], fem_bot.sum()"
   ]
  },
  {
   "cell_type": "markdown",
   "metadata": {},
   "source": [
    "Take a sample of these authors:"
   ]
  },
  {
   "cell_type": "code",
   "execution_count": null,
   "metadata": {
    "collapsed": false
   },
   "outputs": [],
   "source": [
    "men_bot[men_bot == 1][:10]"
   ]
  },
  {
   "cell_type": "markdown",
   "metadata": {},
   "source": [
    "Take a look at what they posted:"
   ]
  },
  {
   "cell_type": "code",
   "execution_count": null,
   "metadata": {
    "collapsed": false
   },
   "outputs": [],
   "source": [
    "mensrights[mensrights[\"author\"] == \"11thGRADEteacher\"][[\"created_utc\", \"body\"]]"
   ]
  },
  {
   "cell_type": "markdown",
   "metadata": {},
   "source": [
    "It seems that our criteria for being a \"bot\" may be a little too liberal. The posts by `11thGRADEteacher` seem to be normal except that one or two or them were duplicate (maybe by mistake).\n",
    "\n",
    "We may increase the standard for an author to be a \"bot\" as follows:"
   ]
  },
  {
   "cell_type": "code",
   "execution_count": null,
   "metadata": {
    "collapsed": true
   },
   "outputs": [],
   "source": [
    "# The user has posted more than 2 posts with exactly same content\n",
    "def duplicate_post(df):\n",
    "    return 1 if (len(df[\"body\"].unique()) == 1) and (df.shape[0] > 2) else 0"
   ]
  },
  {
   "cell_type": "code",
   "execution_count": null,
   "metadata": {
    "collapsed": true
   },
   "outputs": [],
   "source": [
    "men_bot = mensrights.groupby(\"author\").apply(duplicate_post)\n",
    "fem_bot = feminism.groupby(\"author\").apply(duplicate_post)"
   ]
  },
  {
   "cell_type": "markdown",
   "metadata": {},
   "source": [
    "This time we end up with much fewer authors that meet this new criteria"
   ]
  },
  {
   "cell_type": "code",
   "execution_count": null,
   "metadata": {
    "collapsed": false
   },
   "outputs": [],
   "source": [
    "men_bot.shape[0], men_bot.sum(), fem_bot.shape[0], fem_bot.sum()"
   ]
  },
  {
   "cell_type": "code",
   "execution_count": null,
   "metadata": {
    "collapsed": false
   },
   "outputs": [],
   "source": [
    "men_bot[men_bot == 1][:10]"
   ]
  },
  {
   "cell_type": "markdown",
   "metadata": {},
   "source": [
    "Again, take a look at what they posted:"
   ]
  },
  {
   "cell_type": "code",
   "execution_count": null,
   "metadata": {
    "collapsed": false
   },
   "outputs": [],
   "source": [
    "mensrights[mensrights[\"author\"] == \"Could_Care_Corrector\"][[\"created_utc\", \"body\"]]"
   ]
  },
  {
   "cell_type": "code",
   "execution_count": null,
   "metadata": {
    "collapsed": false
   },
   "outputs": [],
   "source": [
    "mensrights[mensrights[\"author\"] == \"200lbRockLobster\"][[\"created_utc\", \"body\"]]"
   ]
  },
  {
   "cell_type": "markdown",
   "metadata": {},
   "source": [
    "As we can they, they post exactly same text repeatedly within a small time interval (or maybe periodically). Lukily these posts account for a tiny portion of our data, so for simplicity I won't bother to remove these posts in the analsis."
   ]
  },
  {
   "cell_type": "code",
   "execution_count": null,
   "metadata": {
    "collapsed": false
   },
   "outputs": [],
   "source": [
    "print \"Total posts: %d\" % mensrights.shape[0]\n",
    "print \"Posts from potential BOTs: %d\" % mensrights[mensrights[\"author\"].isin(list(men_bot[men_bot==1].index))].shape[0]"
   ]
  },
  {
   "cell_type": "code",
   "execution_count": null,
   "metadata": {
    "collapsed": false
   },
   "outputs": [],
   "source": [
    "print \"Total posts: %d\" % feminism.shape[0]\n",
    "print \"Posts from potential BOTs: %d\" % feminism[feminism[\"author\"].isin(list(fem_bot[fem_bot==1].index))].shape[0]"
   ]
  }
 ],
 "metadata": {
  "anaconda-cloud": {},
  "kernelspec": {
   "display_name": "Python [default]",
   "language": "python",
   "name": "python2"
  },
  "language_info": {
   "codemirror_mode": {
    "name": "ipython",
    "version": 2
   },
   "file_extension": ".py",
   "mimetype": "text/x-python",
   "name": "python",
   "nbconvert_exporter": "python",
   "pygments_lexer": "ipython2",
   "version": "2.7.12"
  }
 },
 "nbformat": 4,
 "nbformat_minor": 1
}
