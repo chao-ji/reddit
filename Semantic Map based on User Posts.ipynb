{
 "cells": [
  {
   "cell_type": "code",
   "execution_count": 1,
   "metadata": {
    "collapsed": true
   },
   "outputs": [],
   "source": [
    "from pymongo import MongoClient\n",
    "import datetime\n",
    "import pandas as pd\n",
    "import numpy as np\n",
    "import itertools\n",
    "import pymongo\n",
    "from wordcloud import WordCloud\n",
    "\n",
    "from collections import Counter\n",
    "import pickle\n",
    "from gensim.models.doc2vec import Doc2Vec, LabeledSentence\n",
    "import matplotlib.pyplot as plt\n",
    "import seaborn as sns\n",
    "\n",
    "client = MongoClient(\"localhost\", 27017)\n",
    "db = client[\"reddit_polarization\"]\n",
    "sw = pickle.load(open(\"stoplist.pickle\"))"
   ]
  },
  {
   "cell_type": "markdown",
   "metadata": {},
   "source": [
    "Load trained `doc2vec` model"
   ]
  },
  {
   "cell_type": "code",
   "execution_count": 2,
   "metadata": {
    "collapsed": true
   },
   "outputs": [],
   "source": [
    "model = Doc2Vec.load(\"doc2vec_dbow_d100_n5_w15_s1e_05_t4.model\")"
   ]
  },
  {
   "cell_type": "markdown",
   "metadata": {},
   "source": [
    "Load words with computed zscores"
   ]
  },
  {
   "cell_type": "code",
   "execution_count": 3,
   "metadata": {
    "collapsed": true
   },
   "outputs": [],
   "source": [
    "zscore = pickle.load(open(\"zscore.pickle\"))"
   ]
  },
  {
   "cell_type": "markdown",
   "metadata": {},
   "source": [
    "Helper function for computing summary of author posts information"
   ]
  },
  {
   "cell_type": "code",
   "execution_count": 4,
   "metadata": {
    "collapsed": true
   },
   "outputs": [],
   "source": [
    "def agg_author(df):\n",
    "    men_mean_score = df[df[\"subreddit\"] == \"MensRights\"][\"score\"].mean()\n",
    "    men_min_score = df[df[\"subreddit\"] == \"MensRights\"][\"score\"].min()\n",
    "    men_max_score = df[df[\"subreddit\"] == \"MensRights\"][\"score\"].max()\n",
    "    men_count = df[df[\"subreddit\"] == \"MensRights\"][\"score\"].shape[0]\n",
    "    \n",
    "    fem_mean_score = df[df[\"subreddit\"] == \"Feminism\"][\"score\"].mean()\n",
    "    fem_min_score = df[df[\"subreddit\"] == \"Feminism\"][\"score\"].min()\n",
    "    fem_max_score = df[df[\"subreddit\"] == \"Feminism\"][\"score\"].max()\n",
    "    fem_count = df[df[\"subreddit\"] == \"Feminism\"][\"score\"].shape[0]\n",
    "    \n",
    "    return pd.Series([men_mean_score, men_min_score, men_max_score, men_count,\n",
    "                      fem_mean_score, fem_min_score, fem_max_score, fem_count],\n",
    "                     index=[\"men_mean_score\", \"men_min_score\", \"men_max_score\", \"men_count\",\n",
    "                            \"fem_mean_score\", \"fem_min_score\", \"fem_max_score\", \"fem_count\"])"
   ]
  },
  {
   "cell_type": "code",
   "execution_count": 5,
   "metadata": {
    "collapsed": false
   },
   "outputs": [
    {
     "name": "stdout",
     "output_type": "stream",
     "text": [
      "(2452716, 3) (213100, 3)\n"
     ]
    }
   ],
   "source": [
    "men = pd.DataFrame(list(db[\"MensRights\"].find({}, {\"author\": 1, \"score\": 1, \"subreddit\": 1, \"_id\": 0})))\n",
    "fem = pd.DataFrame(list(db[\"Feminism\"].find({}, {\"author\": 1, \"score\": 1, \"subreddit\": 1, \"_id\": 0})))\n",
    "print men.shape, fem.shape"
   ]
  },
  {
   "cell_type": "code",
   "execution_count": 6,
   "metadata": {
    "collapsed": true
   },
   "outputs": [],
   "source": [
    "author_info = pd.concat([men, fem], axis=0)"
   ]
  },
  {
   "cell_type": "code",
   "execution_count": 7,
   "metadata": {
    "collapsed": false
   },
   "outputs": [],
   "source": [
    "authors = author_info.groupby(\"author\").apply(agg_author)"
   ]
  },
  {
   "cell_type": "markdown",
   "metadata": {},
   "source": [
    "Helper function for computing polarized author groups (e.g. subreddit-only and crossposters)"
   ]
  },
  {
   "cell_type": "code",
   "execution_count": 8,
   "metadata": {
    "collapsed": true
   },
   "outputs": [],
   "source": [
    "def polarized_authors(authors, size=2000):\n",
    "    men_author = authors[authors[\"men_mean_score\"].notnull()][[\"men_mean_score\", \"men_min_score\",\n",
    "                                                               \"men_max_score\", \"men_count\"]]\n",
    "    men_author = men_author.reset_index()\n",
    "    \n",
    "    fem_author = authors[authors[\"fem_mean_score\"].notnull()][[\"fem_mean_score\", \"fem_min_score\",\n",
    "                                                               \"fem_max_score\", \"fem_count\"]]\n",
    "    fem_author = fem_author.reset_index()\n",
    "    \n",
    "    # `men_author`: users who posted >= 1 post in `r/MensRights`\n",
    "    # `fem_author`: users who posted >= 1 post in `r/Feminism`\n",
    "    # `df`: cross-posters\n",
    "    df = men_author.merge(fem_author, left_on=\"author\", right_on=\"author\")\n",
    "    \n",
    "    men_polar = pd.DataFrame(df[(df[\"men_min_score\"] > 0) & (df[\"fem_max_score\"] <= 0)])\n",
    "    men_polar = men_polar[[\"author\"]]\n",
    "    \n",
    "    fem_polar = pd.DataFrame(df[(df[\"fem_min_score\"] > 0) & (df[\"men_max_score\"] <= 0)])\n",
    "    fem_polar = fem_polar[[\"author\"]]\n",
    "    \n",
    "    men_only = set(men_author[\"author\"]) - set(fem_author[\"author\"])\n",
    "    fem_only = set(fem_author[\"author\"]) - set(men_author[\"author\"])\n",
    "    \n",
    "    men_only = pd.DataFrame(men_author[men_author[\"author\"].isin(men_only)])\n",
    "    fem_only = pd.DataFrame(fem_author[fem_author[\"author\"].isin(fem_only)])\n",
    " \n",
    "    men_only = men_only.sort_values(\"men_max_score\", ascending=False)\n",
    "    men_only = men_only[:len(men_polar)]\n",
    "    men_only = men_only[[\"author\"]]\n",
    "\n",
    "    fem_only = fem_only.sort_values(\"fem_max_score\", ascending=False)\n",
    "    fem_only = fem_only[:len(fem_polar)]\n",
    "    fem_only = fem_only[[\"author\"]]\n",
    "    \n",
    "#    men_train = set(men_polar[\"author\"]) | set(men_only[\"author\"])\n",
    "#    fem_train = set(fem_polar[\"author\"]) | set(fem_only[\"author\"])\n",
    "    \n",
    "#    men_train = pd.DataFrame(men_author[men_author[\"author\"].isin(men_train)])\n",
    "#    fem_train = pd.DataFrame(fem_author[fem_author[\"author\"].isin(fem_train)])\n",
    "    \n",
    "    return men_polar, fem_polar, men_only, fem_only"
   ]
  },
  {
   "cell_type": "code",
   "execution_count": 9,
   "metadata": {
    "collapsed": true
   },
   "outputs": [],
   "source": [
    "def get_post_of_author(row, subreddit, field, min_word):\n",
    "    author = row[\"author\"]\n",
    "    \n",
    "    post_by_author = list(db[subreddit].find({\"author\": author}, {field: 1, \"score\": 1, \"_id\": 0}))\n",
    "    post_by_author = map(lambda post: {\"score\": post[\"score\"], field: clean_token_pos(post[field])}, post_by_author)\n",
    "    post_by_author = filter(lambda post: len(post[field].split(\" \")) >= min_word, post_by_author)\n",
    "    post_by_author = sorted(post_by_author, key=lambda post: -post[\"score\"])\n",
    "    post_by_author = [(\" \".join([subreddit, author, str(i)]),\n",
    "                       post_by_author[i][\"score\"],\n",
    "                       post_by_author[i][field])\n",
    "                      for i in range(len(post_by_author))]\n",
    "    \n",
    "    return post_by_author"
   ]
  },
  {
   "cell_type": "code",
   "execution_count": 28,
   "metadata": {
    "collapsed": false
   },
   "outputs": [],
   "source": [
    "men_polar, fem_polar, men_only, fem_only = polarized_authors(authors, size=200)"
   ]
  },
  {
   "cell_type": "code",
   "execution_count": 29,
   "metadata": {
    "collapsed": false
   },
   "outputs": [
    {
     "data": {
      "text/plain": [
       "((278, 1), (238, 1), (278, 1), (238, 1))"
      ]
     },
     "execution_count": 29,
     "metadata": {},
     "output_type": "execute_result"
    }
   ],
   "source": [
    "men_polar.shape, fem_polar.shape, men_only.shape, fem_only.shape"
   ]
  },
  {
   "cell_type": "code",
   "execution_count": 30,
   "metadata": {
    "collapsed": false
   },
   "outputs": [
    {
     "data": {
      "text/html": [
       "<div>\n",
       "<table border=\"1\" class=\"dataframe\">\n",
       "  <thead>\n",
       "    <tr style=\"text-align: right;\">\n",
       "      <th></th>\n",
       "      <th>author</th>\n",
       "    </tr>\n",
       "  </thead>\n",
       "  <tbody>\n",
       "    <tr>\n",
       "      <th>6</th>\n",
       "      <td>0Fsgivin</td>\n",
       "    </tr>\n",
       "    <tr>\n",
       "      <th>8</th>\n",
       "      <td>0mudkipz</td>\n",
       "    </tr>\n",
       "    <tr>\n",
       "      <th>12</th>\n",
       "      <td>115935</td>\n",
       "    </tr>\n",
       "  </tbody>\n",
       "</table>\n",
       "</div>"
      ],
      "text/plain": [
       "      author\n",
       "6   0Fsgivin\n",
       "8   0mudkipz\n",
       "12    115935"
      ]
     },
     "execution_count": 30,
     "metadata": {},
     "output_type": "execute_result"
    }
   ],
   "source": [
    "men_polar[:3]"
   ]
  },
  {
   "cell_type": "code",
   "execution_count": 31,
   "metadata": {
    "collapsed": false
   },
   "outputs": [
    {
     "data": {
      "text/html": [
       "<div>\n",
       "<table border=\"1\" class=\"dataframe\">\n",
       "  <thead>\n",
       "    <tr style=\"text-align: right;\">\n",
       "      <th></th>\n",
       "      <th>author</th>\n",
       "    </tr>\n",
       "  </thead>\n",
       "  <tbody>\n",
       "    <tr>\n",
       "      <th>34</th>\n",
       "      <td>27182818284</td>\n",
       "    </tr>\n",
       "    <tr>\n",
       "      <th>65</th>\n",
       "      <td>5bits</td>\n",
       "    </tr>\n",
       "    <tr>\n",
       "      <th>75</th>\n",
       "      <td>6degreestoBillMurray</td>\n",
       "    </tr>\n",
       "  </tbody>\n",
       "</table>\n",
       "</div>"
      ],
      "text/plain": [
       "                  author\n",
       "34           27182818284\n",
       "65                 5bits\n",
       "75  6degreestoBillMurray"
      ]
     },
     "execution_count": 31,
     "metadata": {},
     "output_type": "execute_result"
    }
   ],
   "source": [
    "fem_polar[:3]"
   ]
  },
  {
   "cell_type": "code",
   "execution_count": 32,
   "metadata": {
    "collapsed": false
   },
   "outputs": [
    {
     "data": {
      "text/html": [
       "<div>\n",
       "<table border=\"1\" class=\"dataframe\">\n",
       "  <thead>\n",
       "    <tr style=\"text-align: right;\">\n",
       "      <th></th>\n",
       "      <th>author</th>\n",
       "    </tr>\n",
       "  </thead>\n",
       "  <tbody>\n",
       "    <tr>\n",
       "      <th>104569</th>\n",
       "      <td>suicidalgod</td>\n",
       "    </tr>\n",
       "    <tr>\n",
       "      <th>38496</th>\n",
       "      <td>PuckyMacpuckpants</td>\n",
       "    </tr>\n",
       "    <tr>\n",
       "      <th>12523</th>\n",
       "      <td>DavidByron2</td>\n",
       "    </tr>\n",
       "  </tbody>\n",
       "</table>\n",
       "</div>"
      ],
      "text/plain": [
       "                   author\n",
       "104569        suicidalgod\n",
       "38496   PuckyMacpuckpants\n",
       "12523         DavidByron2"
      ]
     },
     "execution_count": 32,
     "metadata": {},
     "output_type": "execute_result"
    }
   ],
   "source": [
    "men_only[:3]"
   ]
  },
  {
   "cell_type": "code",
   "execution_count": 33,
   "metadata": {
    "collapsed": false
   },
   "outputs": [
    {
     "data": {
      "text/html": [
       "<div>\n",
       "<table border=\"1\" class=\"dataframe\">\n",
       "  <thead>\n",
       "    <tr style=\"text-align: right;\">\n",
       "      <th></th>\n",
       "      <th>author</th>\n",
       "    </tr>\n",
       "  </thead>\n",
       "  <tbody>\n",
       "    <tr>\n",
       "      <th>9173</th>\n",
       "      <td>Our-Year</td>\n",
       "    </tr>\n",
       "    <tr>\n",
       "      <th>21323</th>\n",
       "      <td>its_all_too_much</td>\n",
       "    </tr>\n",
       "    <tr>\n",
       "      <th>26381</th>\n",
       "      <td>psychologyst</td>\n",
       "    </tr>\n",
       "  </tbody>\n",
       "</table>\n",
       "</div>"
      ],
      "text/plain": [
       "                 author\n",
       "9173           Our-Year\n",
       "21323  its_all_too_much\n",
       "26381      psychologyst"
      ]
     },
     "execution_count": 33,
     "metadata": {},
     "output_type": "execute_result"
    }
   ],
   "source": [
    "fem_only[:3]"
   ]
  },
  {
   "cell_type": "markdown",
   "metadata": {
    "collapsed": true
   },
   "source": [
    "Retrieve post from authors, and each author is represented by the post with **top score** in the author's **home** subreddit"
   ]
  },
  {
   "cell_type": "code",
   "execution_count": 34,
   "metadata": {
    "collapsed": true
   },
   "outputs": [],
   "source": [
    "def pos_filter(x, keep=set(\"NJ\")):\n",
    "    if len(x) == 0:\n",
    "        return \"\"\n",
    "    \n",
    "    tokens_pos = x.split(\" \")\n",
    "    tokens_pos = map(lambda pair: pair.split(\"/\"), tokens_pos)\n",
    "    \n",
    "    tokens_pos = filter(lambda pair: pair[1] in keep, tokens_pos)\n",
    "\n",
    "    if len(tokens_pos) == 0:\n",
    "        return \"\"\n",
    "    \n",
    "    return \" \".join(zip(*tokens_pos)[0])\n",
    "\n",
    "def clean_token_pos(text):\n",
    "    text = pos_filter(text)\n",
    "    out = \" \".join(filter(lambda x: x not in sw, text.split(\" \")))\n",
    "    return out"
   ]
  },
  {
   "cell_type": "code",
   "execution_count": 35,
   "metadata": {
    "collapsed": false
   },
   "outputs": [],
   "source": [
    "men_polar[\"post\"] = men_polar.apply(lambda row:\n",
    "                                    get_post_of_author(row, \"MensRights\", \"tokens_njv_pos\", 10), axis=1)\n",
    "\n",
    "fem_polar[\"post\"] = fem_polar.apply(lambda row:\n",
    "                                    get_post_of_author(row, \"Feminism\", \"tokens_njv_pos\", 10), axis=1)\n",
    "\n",
    "men_polar = men_polar[men_polar[\"post\"].map(len) > 0]\n",
    "fem_polar = fem_polar[fem_polar[\"post\"].map(len) > 0]"
   ]
  },
  {
   "cell_type": "code",
   "execution_count": 36,
   "metadata": {
    "collapsed": false
   },
   "outputs": [],
   "source": [
    "men_only[\"post\"] = men_only.apply(lambda row:\n",
    "                                    get_post_of_author(row, \"MensRights\", \"tokens_njv_pos\", 10), axis=1)\n",
    "\n",
    "fem_only[\"post\"] = fem_only.apply(lambda row:\n",
    "                                    get_post_of_author(row, \"Feminism\", \"tokens_njv_pos\", 10), axis=1)\n",
    "\n",
    "men_only = men_only[men_only[\"post\"].map(len) > 0]\n",
    "fem_only = fem_only[fem_only[\"post\"].map(len) > 0]"
   ]
  },
  {
   "cell_type": "code",
   "execution_count": 37,
   "metadata": {
    "collapsed": false
   },
   "outputs": [
    {
     "data": {
      "text/plain": [
       "((151, 2), (115, 2), (254, 2), (197, 2))"
      ]
     },
     "execution_count": 37,
     "metadata": {},
     "output_type": "execute_result"
    }
   ],
   "source": [
    "men_polar.shape, fem_polar.shape, men_only.shape, fem_only.shape"
   ]
  },
  {
   "cell_type": "code",
   "execution_count": 38,
   "metadata": {
    "collapsed": false
   },
   "outputs": [
    {
     "data": {
      "text/html": [
       "<div>\n",
       "<table border=\"1\" class=\"dataframe\">\n",
       "  <thead>\n",
       "    <tr style=\"text-align: right;\">\n",
       "      <th></th>\n",
       "      <th>author</th>\n",
       "      <th>post</th>\n",
       "    </tr>\n",
       "  </thead>\n",
       "  <tbody>\n",
       "    <tr>\n",
       "      <th>6</th>\n",
       "      <td>0Fsgivin</td>\n",
       "      <td>[(MensRights 0Fsgivin 0, 1, yah bullshit men s...</td>\n",
       "    </tr>\n",
       "    <tr>\n",
       "      <th>69</th>\n",
       "      <td>5panks</td>\n",
       "      <td>[(MensRights 5panks 0, 5, equal opportunity eq...</td>\n",
       "    </tr>\n",
       "    <tr>\n",
       "      <th>114</th>\n",
       "      <td>ARustyFirePlace</td>\n",
       "      <td>[(MensRights ARustyFirePlace 0, 3, tear keyboa...</td>\n",
       "    </tr>\n",
       "  </tbody>\n",
       "</table>\n",
       "</div>"
      ],
      "text/plain": [
       "              author                                               post\n",
       "6           0Fsgivin  [(MensRights 0Fsgivin 0, 1, yah bullshit men s...\n",
       "69            5panks  [(MensRights 5panks 0, 5, equal opportunity eq...\n",
       "114  ARustyFirePlace  [(MensRights ARustyFirePlace 0, 3, tear keyboa..."
      ]
     },
     "execution_count": 38,
     "metadata": {},
     "output_type": "execute_result"
    }
   ],
   "source": [
    "men_polar[:3]"
   ]
  },
  {
   "cell_type": "code",
   "execution_count": 39,
   "metadata": {
    "collapsed": false
   },
   "outputs": [
    {
     "data": {
      "text/html": [
       "<div>\n",
       "<table border=\"1\" class=\"dataframe\">\n",
       "  <thead>\n",
       "    <tr style=\"text-align: right;\">\n",
       "      <th></th>\n",
       "      <th>author</th>\n",
       "      <th>post</th>\n",
       "    </tr>\n",
       "  </thead>\n",
       "  <tbody>\n",
       "    <tr>\n",
       "      <th>34</th>\n",
       "      <td>27182818284</td>\n",
       "      <td>[(Feminism 27182818284 0, 10, hard twitter scu...</td>\n",
       "    </tr>\n",
       "    <tr>\n",
       "      <th>84</th>\n",
       "      <td>8spd</td>\n",
       "      <td>[(Feminism 8spd 0, 4, soviet tank ussr cold wa...</td>\n",
       "    </tr>\n",
       "    <tr>\n",
       "      <th>295</th>\n",
       "      <td>ArchangelleWeezyelle</td>\n",
       "      <td>[(Feminism ArchangelleWeezyelle 0, 1, divide c...</td>\n",
       "    </tr>\n",
       "  </tbody>\n",
       "</table>\n",
       "</div>"
      ],
      "text/plain": [
       "                   author                                               post\n",
       "34            27182818284  [(Feminism 27182818284 0, 10, hard twitter scu...\n",
       "84                   8spd  [(Feminism 8spd 0, 4, soviet tank ussr cold wa...\n",
       "295  ArchangelleWeezyelle  [(Feminism ArchangelleWeezyelle 0, 1, divide c..."
      ]
     },
     "execution_count": 39,
     "metadata": {},
     "output_type": "execute_result"
    }
   ],
   "source": [
    "fem_polar[:3]"
   ]
  },
  {
   "cell_type": "code",
   "execution_count": 40,
   "metadata": {
    "collapsed": false
   },
   "outputs": [
    {
     "data": {
      "text/html": [
       "<div>\n",
       "<table border=\"1\" class=\"dataframe\">\n",
       "  <thead>\n",
       "    <tr style=\"text-align: right;\">\n",
       "      <th></th>\n",
       "      <th>author</th>\n",
       "      <th>post</th>\n",
       "    </tr>\n",
       "  </thead>\n",
       "  <tbody>\n",
       "    <tr>\n",
       "      <th>104569</th>\n",
       "      <td>suicidalgod</td>\n",
       "      <td>[(MensRights suicidalgod 0, 5, fantasm big par...</td>\n",
       "    </tr>\n",
       "    <tr>\n",
       "      <th>38496</th>\n",
       "      <td>PuckyMacpuckpants</td>\n",
       "      <td>[(MensRights PuckyMacpuckpants 0, 2376, judge ...</td>\n",
       "    </tr>\n",
       "    <tr>\n",
       "      <th>12523</th>\n",
       "      <td>DavidByron2</td>\n",
       "      <td>[(MensRights DavidByron2 0, 2332, male usa sex...</td>\n",
       "    </tr>\n",
       "  </tbody>\n",
       "</table>\n",
       "</div>"
      ],
      "text/plain": [
       "                   author                                               post\n",
       "104569        suicidalgod  [(MensRights suicidalgod 0, 5, fantasm big par...\n",
       "38496   PuckyMacpuckpants  [(MensRights PuckyMacpuckpants 0, 2376, judge ...\n",
       "12523         DavidByron2  [(MensRights DavidByron2 0, 2332, male usa sex..."
      ]
     },
     "execution_count": 40,
     "metadata": {},
     "output_type": "execute_result"
    }
   ],
   "source": [
    "men_only[:3]"
   ]
  },
  {
   "cell_type": "code",
   "execution_count": 41,
   "metadata": {
    "collapsed": false
   },
   "outputs": [
    {
     "data": {
      "text/html": [
       "<div>\n",
       "<table border=\"1\" class=\"dataframe\">\n",
       "  <thead>\n",
       "    <tr style=\"text-align: right;\">\n",
       "      <th></th>\n",
       "      <th>author</th>\n",
       "      <th>post</th>\n",
       "    </tr>\n",
       "  </thead>\n",
       "  <tbody>\n",
       "    <tr>\n",
       "      <th>21323</th>\n",
       "      <td>its_all_too_much</td>\n",
       "      <td>[(Feminism its_all_too_much 0, 279, woman femi...</td>\n",
       "    </tr>\n",
       "    <tr>\n",
       "      <th>26381</th>\n",
       "      <td>psychologyst</td>\n",
       "      <td>[(Feminism psychologyst 0, 265, wide range bod...</td>\n",
       "    </tr>\n",
       "    <tr>\n",
       "      <th>17293</th>\n",
       "      <td>cupcakesandpotter</td>\n",
       "      <td>[(Feminism cupcakesandpotter 0, 238, misogyny ...</td>\n",
       "    </tr>\n",
       "  </tbody>\n",
       "</table>\n",
       "</div>"
      ],
      "text/plain": [
       "                  author                                               post\n",
       "21323   its_all_too_much  [(Feminism its_all_too_much 0, 279, woman femi...\n",
       "26381       psychologyst  [(Feminism psychologyst 0, 265, wide range bod...\n",
       "17293  cupcakesandpotter  [(Feminism cupcakesandpotter 0, 238, misogyny ..."
      ]
     },
     "execution_count": 41,
     "metadata": {},
     "output_type": "execute_result"
    }
   ],
   "source": [
    "fem_only[:3]"
   ]
  },
  {
   "cell_type": "markdown",
   "metadata": {},
   "source": [
    "Helper function for finding the document embedding vector for each author's top scoring post"
   ]
  },
  {
   "cell_type": "code",
   "execution_count": 42,
   "metadata": {
    "collapsed": true
   },
   "outputs": [],
   "source": [
    "def docvecs_of_author(row):    \n",
    "    text = row[\"post\"][0][2]\n",
    "    return pd.Series([model.infer_vector(text.split(\" \"))])"
   ]
  },
  {
   "cell_type": "code",
   "execution_count": 43,
   "metadata": {
    "collapsed": false
   },
   "outputs": [],
   "source": [
    "men_polar[\"vec\"] = men_polar.apply(lambda row: docvecs_of_author(row), axis=1)\n",
    "fem_polar[\"vec\"] = fem_polar.apply(lambda row: docvecs_of_author(row), axis=1)\n",
    "men_only[\"vec\"] = men_only.apply(lambda row: docvecs_of_author(row), axis=1)\n",
    "fem_only[\"vec\"] = fem_only.apply(lambda row: docvecs_of_author(row), axis=1)"
   ]
  },
  {
   "cell_type": "markdown",
   "metadata": {},
   "source": [
    "Computing the center (i.e. arithmetic avearge) of the word vectors of **words overrepresented** in either subreddit"
   ]
  },
  {
   "cell_type": "code",
   "execution_count": 44,
   "metadata": {
    "collapsed": false
   },
   "outputs": [],
   "source": [
    "fem_specific_word = zscore[[\"word\"]][:50]\n",
    "men_specific_word = zscore[[\"word\"]][-50:]"
   ]
  },
  {
   "cell_type": "code",
   "execution_count": 47,
   "metadata": {
    "collapsed": true
   },
   "outputs": [],
   "source": [
    "def word_vec(row):\n",
    "    return pd.Series([model[row[\"word\"]]])"
   ]
  },
  {
   "cell_type": "code",
   "execution_count": 48,
   "metadata": {
    "collapsed": false
   },
   "outputs": [],
   "source": [
    "men_specific_word[\"vec\"]= men_specific_word.apply(lambda row: word_vec(row), axis=1)\n",
    "fem_specific_word[\"vec\"]= fem_specific_word.apply(lambda row: word_vec(row), axis=1)"
   ]
  },
  {
   "cell_type": "code",
   "execution_count": 49,
   "metadata": {
    "collapsed": false
   },
   "outputs": [],
   "source": [
    "men_specific_word_vec = np.array([v for v in men_specific_word[\"vec\"]]).mean(axis=0)\n",
    "fem_specific_word_vec = np.array([v for v in fem_specific_word[\"vec\"]]).mean(axis=0)"
   ]
  },
  {
   "cell_type": "markdown",
   "metadata": {},
   "source": [
    "Perform the **t-SNE embedding** for vizualization"
   ]
  },
  {
   "cell_type": "code",
   "execution_count": 50,
   "metadata": {
    "collapsed": false
   },
   "outputs": [],
   "source": [
    "X_men_polar = np.array([v for v in men_polar[\"vec\"]])\n",
    "X_fem_polar = np.array([v for v in fem_polar[\"vec\"]])\n",
    "X_men_only = np.array([v for v in men_only[\"vec\"]])\n",
    "X_fem_only = np.array([v for v in fem_only[\"vec\"]])"
   ]
  },
  {
   "cell_type": "code",
   "execution_count": 51,
   "metadata": {
    "collapsed": false
   },
   "outputs": [
    {
     "data": {
      "text/plain": [
       "((151, 100), (115, 100), (254, 100), (197, 100))"
      ]
     },
     "execution_count": 51,
     "metadata": {},
     "output_type": "execute_result"
    }
   ],
   "source": [
    "X_men_polar.shape, X_fem_polar.shape, X_men_only.shape, X_fem_only.shape"
   ]
  },
  {
   "cell_type": "code",
   "execution_count": 52,
   "metadata": {
    "collapsed": false
   },
   "outputs": [],
   "source": [
    "X = np.r_[X_men_polar, X_fem_polar, men_specific_word_vec[np.newaxis, :],\n",
    "          fem_specific_word_vec[np.newaxis, :], X_men_only, X_fem_only]"
   ]
  },
  {
   "cell_type": "code",
   "execution_count": 53,
   "metadata": {
    "collapsed": false
   },
   "outputs": [
    {
     "data": {
      "text/plain": [
       "(719, 100)"
      ]
     },
     "execution_count": 53,
     "metadata": {},
     "output_type": "execute_result"
    }
   ],
   "source": [
    "X.shape"
   ]
  },
  {
   "cell_type": "code",
   "execution_count": 54,
   "metadata": {
    "collapsed": true
   },
   "outputs": [],
   "source": [
    "from sklearn.manifold import TSNE"
   ]
  },
  {
   "cell_type": "code",
   "execution_count": 61,
   "metadata": {
    "collapsed": true
   },
   "outputs": [],
   "source": [
    "tsne = TSNE(n_components=2, random_state=42)\n",
    "X_tsne = tsne.fit_transform(X)"
   ]
  },
  {
   "cell_type": "code",
   "execution_count": 62,
   "metadata": {
    "collapsed": false
   },
   "outputs": [
    {
     "data": {
      "image/png": "[encoded data removed]",
      "text/plain": [
       "<matplotlib.figure.Figure at 0x7fefacac3490>"
      ]
     },
     "metadata": {},
     "output_type": "display_data"
    }
   ],
   "source": [
    "plt.scatter(X_tsne[:151, 0], X_tsne[:151, 1], c=\"r\", alpha=0.5, linewidths=0.1)\n",
    "plt.scatter(X_tsne[151:151+115, 0], X_tsne[151:151+115, 1], c=\"b\", alpha=0.5, linewidths=0.1)\n",
    "plt.scatter(X_tsne[151+115, 0], X_tsne[151+115, 1], c=\"r\", alpha=0.9, linewidths=2)\n",
    "plt.scatter(X_tsne[-(254+197), 0], X_tsne[-(254+197), 1], c=\"b\", alpha=0.9, linewidths=2)\n",
    "plt.legend([\"Polarized MR Crossposter\", \"Polarized FM Crossposter\", \"MR-Specific WordVec center\", \"FM-Specific WordVec center\"], loc=2)\n",
    "plt.show()"
   ]
  },
  {
   "cell_type": "code",
   "execution_count": 63,
   "metadata": {
    "collapsed": false
   },
   "outputs": [
    {
     "data": {
      "image/png": "[encoded data removed]",
      "text/plain": [
       "<matplotlib.figure.Figure at 0x7fefac4bc150>"
      ]
     },
     "metadata": {},
     "output_type": "display_data"
    }
   ],
   "source": [
    "plt.scatter(X_tsne[-(254+197):-197, 0], X_tsne[-(254+197):-197, 1], c=\"orange\", alpha=0.9, linewidths=0.1)\n",
    "plt.scatter(X_tsne[-197:, 0], X_tsne[-197:, 1], c=\"cyan\", alpha=0.9, linewidths=0.1)\n",
    "plt.scatter(X_tsne[151+115, 0], X_tsne[151+115, 1], c=\"orange\", alpha=0.9, linewidths=2)\n",
    "plt.scatter(X_tsne[-(254+197), 0], X_tsne[-(254+197), 1], c=\"cyan\", alpha=0.9, linewidths=2)\n",
    "plt.legend([\"Polarized MR-only authors\", \"Polarized FM-only authors\", \"MR-Specific WordVec center\", \"FM-Specific WordVec center\"], loc=2)\n",
    "plt.show()"
   ]
  }
 ],
 "metadata": {
  "anaconda-cloud": {},
  "kernelspec": {
   "display_name": "Python [conda root]",
   "language": "python",
   "name": "conda-root-py"
  },
  "language_info": {
   "codemirror_mode": {
    "name": "ipython",
    "version": 2
   },
   "file_extension": ".py",
   "mimetype": "text/x-python",
   "name": "python",
   "nbconvert_exporter": "python",
   "pygments_lexer": "ipython2",
   "version": "2.7.12"
  }
 },
 "nbformat": 4,
 "nbformat_minor": 1
}
