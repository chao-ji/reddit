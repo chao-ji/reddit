{
 "cells": [
  {
   "cell_type": "markdown",
   "metadata": {},
   "source": [
    "In part 3, we computed the linguistic divergence between two corpora consisting of texts from **r/MensRights** and **r/Feminism** respectively, and we had some idea about how the linguistic distance between the two subreddits has evolved over time -- especially, we noticed the high similarity between rMR and rFem during 2012 and 2013.\n",
    "\n",
    "Note that in part 3 the corpus from **r/MensRights** or **r/Feminism** was represented as *bag of words* (e.g. `{\"apple\": 2, \"pen\": 3, \"pineapple\": 1, ...}`), which is essentially the same as unigram language model.\n",
    "\n",
    "In this part we'll perform further analysis to quantitatively measure the linguistic distance between the two subreddits. \n",
    "\n",
    "1. First we'll train a bigram language model ([language_model.py](https://github.com/chao-ji/reddit/blob/master/language_model.py)) using the corpus from one subreddit (e.g. rMR), which will be used to compute the likelihood of posts within different time intervals from the other subreddit (e.g. rFem).\n",
    "2. Then we'll extend the analysis at the *semantic level*: we'll make use of the vector representation (doc2vec model, see [Part6](https://github.com/chao-ji/reddit/blob/master/Part%206%20Polarization%20of%20rMR%20and%20rFem%20and%20User%20Profiling.ipynb)) of text and compute the linguistic distance based on vector arithmetics.\n",
    "\n",
    "We'll use both approaches to compute the linguistic distance between rMR and rFem, and see how it has changed over time."
   ]
  },
  {
   "cell_type": "code",
   "execution_count": 1,
   "metadata": {
    "collapsed": true
   },
   "outputs": [],
   "source": [
    "import datetime\n",
    "import itertools\n",
    "import pickle\n",
    "\n",
    "import pandas as pd\n",
    "import numpy as np\n",
    "import pymongo\n",
    "import matplotlib.pyplot as plt\n",
    "import seaborn as sns\n",
    "from pymongo import MongoClient\n",
    "\n",
    "from nltk.corpus import stopwords\n",
    "from sklearn.metrics.pairwise import cosine_distances\n",
    "import matplotlib.patches as patches\n",
    "\n",
    "from language_model import *\n",
    "\n",
    "client = MongoClient(\"localhost\", 27017)\n",
    "db = client[\"reddit_polarization\"]\n",
    "sw = pickle.load(open(\"stoplist.pickle\"))\n",
    "sw.update(stopwords.words(\"english\"))"
   ]
  },
  {
   "cell_type": "markdown",
   "metadata": {},
   "source": [
    "### 1. Bigram language model"
   ]
  },
  {
   "cell_type": "markdown",
   "metadata": {},
   "source": [
    "First we need to create a generator for the text data. This is because the text data is too large to fit in memory, and we only need traverse the data in one pass to train or evaluate the the bigram model."
   ]
  },
  {
   "cell_type": "code",
   "execution_count": 2,
   "metadata": {
    "collapsed": true
   },
   "outputs": [],
   "source": [
    "def men_corpus():\n",
    "    for doc in db[\"MensRights\"].find({}, {\"created_utc\": 1, \"tokens\": 1, \"_id\": 0}).sort(\"created_utc\", pymongo.ASCENDING):\n",
    "        tokens = doc[\"tokens\"].split()\n",
    "        if len(tokens) >= 30:\n",
    "            yield tokens\n",
    "            \n",
    "def fem_corpus():\n",
    "    for doc in db[\"Feminism\"].find({}, {\"created_utc\": 1, \"tokens\": 1, \"_id\": 0}).sort(\"created_utc\", pymongo.ASCENDING):\n",
    "        tokens = doc[\"tokens\"].split()\n",
    "        if len(tokens) >= 30:\n",
    "            yield tokens       "
   ]
  },
  {
   "cell_type": "markdown",
   "metadata": {},
   "source": [
    "`men_corpus()` and `fem_corpus()` will yield a tokenized post (list of words). In the training stage, the collection of list of tokens will be used to train the bigram language model. Then in the test stage, a probability (log-transformed) will be computed for each tokenized post."
   ]
  },
  {
   "cell_type": "code",
   "execution_count": 3,
   "metadata": {
    "collapsed": false
   },
   "outputs": [
    {
     "name": "stdout",
     "output_type": "stream",
     "text": [
      "[u'i', u'have', u'a', u'few', u'thoughts', u'on', u'this', u'and', u'related', u'issues', u'.', u'banishment', u'used', u'to', u'be', u'considered', u'a', u'punishment', u'.', u'today', u',', u'social', u'banishment', u'is', u\"n't\", u'recognized', u'as', u'a', u'form', u'of', u'suffering', u'or', u'loss', u'for', u'the', u'victim', u'.', u'yet', u'banishment', u'from', u'a', u'job', u'means', u'more', u'than', u'loss', u'of', u'community', u'membership', u'-', u'it', u'means', u'loss', u'of', u'livelihood', u'.', u'this', u'man', u'was', u'banished', u'upon', u'the', u'authority', u'of', u'an', u'anonymous', u',', u'unsubstantiated', u'claim', u'.', u'slander', u'is', u'considered', u'criminal', u'or', u',', u'at', u'least', u',', u'carries', u'liability', u'within', u'certain', u'contexts', u'.', u'in', u'the', u'case', u'of', u'rape', u'accusation', u',', u'slander', u'is', u'not', u'considered', u'as', u'an', u'offense', u'to', u'the', u'victim', u\"'s\", u'good', u'name', u'.', u'so', u'here', u'we', u'have', u'what', u'amounts', u'to', u'harm', u'and', u'punishment', u'inflicted', u'upon', u'a', u'man', u'without', u'any', u'opportunity', u'for', u'redress', u'on', u'the', u'man', u\"'s\", u'part', u'.', u'nor', u'is', u'there', u'recognition', u'of', u'the', u'harm', u'and', u'punishment', u'experienced', u'by', u'the', u'man', u'except', u'by', u'those', u'sympathetic', u'to', u'his', u'plight', u'.']\n"
     ]
    }
   ],
   "source": [
    "print next(men_corpus())"
   ]
  },
  {
   "cell_type": "markdown",
   "metadata": {},
   "source": [
    "The probabilities computed in bigram model are smoothed using [Good-Turing](https://en.wikipedia.org/wiki/Good%E2%80%93Turing_frequency_estimation) method, for which we need to find the number of words in the testing corpus that do not show up in the training corpus (aka *out-of-vocabulary* words). \n",
    "\n",
    "Because we'll swtich the roles of two corpora (i.e. as training and test set), we'll compute the number of *out-of-vocabulary* words separately for **r/MensRights** and **r/Feminism**:"
   ]
  },
  {
   "cell_type": "code",
   "execution_count": 4,
   "metadata": {
    "collapsed": false
   },
   "outputs": [],
   "source": [
    "corpus_men_tokens = set()\n",
    "\n",
    "for tokens in men_corpus():\n",
    "        corpus_men_tokens.update(tokens)\n",
    "        \n",
    "corpus_fem_tokens = set()\n",
    "\n",
    "for tokens in fem_corpus():\n",
    "        corpus_fem_tokens.update(tokens)\n",
    "\n",
    "# out-of-vocabulary for rMR: words in rFem that are not present in rMR\n",
    "oov_men = len(corpus_fem_tokens - corpus_men_tokens)\n",
    "# out-of-vocabulary for rFem: words in rMR that are not present in rFem\n",
    "oov_fem = len(corpus_men_tokens - corpus_fem_tokens)"
   ]
  },
  {
   "cell_type": "markdown",
   "metadata": {},
   "source": [
    "####  Training corpus: rMensRirhgts; Test corpus: rFeminism\n",
    "\n",
    "First train bigram model using rMR corpus:"
   ]
  },
  {
   "cell_type": "code",
   "execution_count": 5,
   "metadata": {
    "collapsed": false
   },
   "outputs": [],
   "source": [
    "bigram_men = Bigram(special_token=False)\n",
    "bigram_men = bigram_men.fit(men_corpus(), oov_men)"
   ]
  },
  {
   "cell_type": "markdown",
   "metadata": {},
   "source": [
    "Define helper function that computes the avearge of the log-transformed probabilities of posts in subreddit `subreddit` and in date `d`:"
   ]
  },
  {
   "cell_type": "code",
   "execution_count": 6,
   "metadata": {
    "collapsed": true
   },
   "outputs": [],
   "source": [
    "def eval_sentprob(subreddit, model, d):\n",
    "#    if d.month == 1 and d.day == 1:\n",
    "#        print d\n",
    "        \n",
    "    docs = db[subreddit].find({\"date\": d}, {\"date\": 1, \"tokens\": 1, \"_id\": 0})\n",
    "    test_corpus = map(lambda d: d[\"tokens\"].split(), docs)\n",
    "    test_corpus = filter(lambda x: len(x) >= 2, test_corpus)\n",
    "    probs = np.array(map(lambda x: model.predict(x), test_corpus))\n",
    "    probs = probs[~np.isnan(probs)]\n",
    "    if len(probs) > 0:\n",
    "        return np.mean(probs)\n",
    "    else:\n",
    "        return np.nan"
   ]
  },
  {
   "cell_type": "markdown",
   "metadata": {},
   "source": [
    "For each date `d`, find the list of posts posted in date `d` and compute the average of their log-probabilities."
   ]
  },
  {
   "cell_type": "code",
   "execution_count": 7,
   "metadata": {
    "collapsed": false
   },
   "outputs": [],
   "source": [
    "dates = map(lambda d: d[\"date\"], db[\"Feminism\"].find({}, {\"date\": 1, \"_id\": 0}))\n",
    "dates = sorted(list(set(dates)))\n",
    "test_probs = map(lambda x: eval_sentprob(\"Feminism\", bigram_men, x), dates)"
   ]
  },
  {
   "cell_type": "code",
   "execution_count": 8,
   "metadata": {
    "collapsed": false
   },
   "outputs": [
    {
     "data": {
      "text/plain": [
       "2016-07-22   -5.248964\n",
       "2016-07-23   -5.246979\n",
       "2016-07-24   -5.376429\n",
       "2016-07-25   -5.059125\n",
       "2016-07-26   -5.593586\n",
       "2016-07-27   -5.262577\n",
       "2016-07-28   -4.918003\n",
       "2016-07-29   -5.368105\n",
       "2016-07-30   -5.113339\n",
       "2016-07-31   -5.315875\n",
       "dtype: float64"
      ]
     },
     "execution_count": 8,
     "metadata": {},
     "output_type": "execute_result"
    }
   ],
   "source": [
    "# Build series object with dates as the index\n",
    "ser = pd.Series(test_probs, index=dates)\n",
    "ser = ser[ser.notnull()]\n",
    "ser[-10:]"
   ]
  },
  {
   "cell_type": "markdown",
   "metadata": {},
   "source": [
    "Plot the average of log-probabilities as a function of date:"
   ]
  },
  {
   "cell_type": "code",
   "execution_count": 9,
   "metadata": {
    "collapsed": false
   },
   "outputs": [
    {
     "data": {
      "image/png": "[encoded data removed]",
      "text/plain": [
       "<matplotlib.figure.Figure at 0x7f681e490750>"
      ]
     },
     "metadata": {},
     "output_type": "display_data"
    }
   ],
   "source": [
    "ser = ser.rolling(window=30).mean()\n",
    "ser.plot()\n",
    "plt.title(\"log-prob of rFem sentences on Bigram model trained on rMR\")\n",
    "plt.ylabel(\"Avg. $log(prob)$ of sentence per day\")\n",
    "plt.xlabel(\"Time\")\n",
    "\n",
    "ax = plt.gca()\n",
    "\n",
    "rect = patches.Rectangle([734453., -5.03], 600., -0.1, linewidth=1, edgecolor='r',\n",
    "                             facecolor='none', linestyle=\"--\")\n",
    "ax.add_patch(rect)\n",
    "\n",
    "plt.show()"
   ]
  },
  {
   "cell_type": "markdown",
   "metadata": {},
   "source": [
    "The language model was trained using the rMR corpus, and it was then used to evaluate posts from rFem corpus. So posts with greater probability (log-transformed) can be interpreted to have more similar linguistic pattern with respect to the rMR corpus. \n",
    "\n",
    "Note that there were not as many posts *per day* in the early stage (roughly before 2012) as in the rest of the timeline, so the averages were taken over samll samples and the observed vairance of the averaged log-probabilities may just be artifact. \n",
    "\n",
    "However, we do observed an interval for which the average log-probability was consistently greater than the rest of the timeline (red dashed box)."
   ]
  },
  {
   "cell_type": "markdown",
   "metadata": {},
   "source": [
    "**Training corpus: rMensRirhgts; Test corpus: rFeminism**\n",
    "\n",
    "Now repeat the process by switching the roles of rMR and rFem:"
   ]
  },
  {
   "cell_type": "code",
   "execution_count": 10,
   "metadata": {
    "collapsed": false
   },
   "outputs": [],
   "source": [
    "# Train bigram model using rMR corpus\n",
    "\n",
    "bigram_fem = Bigram(special_token=False)\n",
    "bigram_fem = bigram_fem.fit(fem_corpus(), oov_fem)"
   ]
  },
  {
   "cell_type": "code",
   "execution_count": 11,
   "metadata": {
    "collapsed": false
   },
   "outputs": [],
   "source": [
    "# For each date `d`, find the list of posts posted in date `d` \n",
    "# and compute the average of their log-probabilities.\n",
    "\n",
    "dates = map(lambda d: d[\"date\"], db[\"MensRights\"].find({}, {\"date\": 1, \"_id\": 0}))\n",
    "dates = sorted(list(set(dates)))\n",
    "test_probs = map(lambda x: eval_sentprob(\"MensRights\", bigram_fem, x), dates)"
   ]
  },
  {
   "cell_type": "code",
   "execution_count": 12,
   "metadata": {
    "collapsed": false
   },
   "outputs": [
    {
     "data": {
      "text/plain": [
       "2016-07-22   -5.478767\n",
       "2016-07-23   -5.437814\n",
       "2016-07-24   -5.487762\n",
       "2016-07-25   -5.476423\n",
       "2016-07-26   -5.449473\n",
       "2016-07-27   -5.339723\n",
       "2016-07-28   -5.351037\n",
       "2016-07-29   -5.365997\n",
       "2016-07-30   -5.505726\n",
       "2016-07-31   -5.511511\n",
       "dtype: float64"
      ]
     },
     "execution_count": 12,
     "metadata": {},
     "output_type": "execute_result"
    }
   ],
   "source": [
    "# Build series object with dates as the index\n",
    "\n",
    "ser = pd.Series(test_probs, index=dates)\n",
    "ser = ser[ser.notnull()]\n",
    "ser[-10:]"
   ]
  },
  {
   "cell_type": "markdown",
   "metadata": {},
   "source": [
    "Plot the average of log-probabilities as a function of date:"
   ]
  },
  {
   "cell_type": "code",
   "execution_count": 13,
   "metadata": {
    "collapsed": false
   },
   "outputs": [
    {
     "data": {
      "image/png": "[encoded data removed]",
      "text/plain": [
       "<matplotlib.figure.Figure at 0x7f66ded42410>"
      ]
     },
     "metadata": {},
     "output_type": "display_data"
    }
   ],
   "source": [
    "ser = ser.rolling(window=30).mean()\n",
    "ser = ser[120:]\n",
    "ser.plot()\n",
    "plt.title(\"log-prob of rMR sentences on Bigram model trained on rFem\")\n",
    "plt.ylabel(\"Avg. $log(prob)$ of sentence per day\")\n",
    "plt.xlabel(\"Time\")\n",
    "\n",
    "ax = plt.gca()\n",
    "\n",
    "rect = patches.Rectangle([734138., -5.23], 900., -0.1, linewidth=1, edgecolor='r',\n",
    "                             facecolor='none', linestyle=\"--\")\n",
    "ax.add_patch(rect)\n",
    "\n",
    "ax.get_xticks()\n",
    "plt.show()"
   ]
  },
  {
   "cell_type": "markdown",
   "metadata": {
    "collapsed": true
   },
   "source": [
    "Note that we have a similar issue (i.e. limited sample size) in the earlier stage, and we also observed an interval with high probability (red dashed box)"
   ]
  },
  {
   "cell_type": "markdown",
   "metadata": {
    "collapsed": true
   },
   "source": [
    "### 2. Semantic distance using vector arithmetics \n",
    "\n",
    "The traditional statistical language models (e.g. bag-of-words, or n-gram) encode textual data (words or sentences) using *sparse* and *local* encoding (`\"cat\"=[0, 0, 1, 0, 0]`, `\"kitten\"=[1, 0, 0, 0, 0]`), so it is not able to capture the semantic similarity of distinct words (\"cat\" vs. \"kitten\").\n",
    "\n",
    "In comparison, word2vec and doc2vec learns the *distributed* and *dense* representation of words based on the contextual similarity of different words. So semantically similar words would have spatially close vector representations (for example, `\"cat\"=[0.101, 0.2, 0.3, 0.4, 0.5]`, `\"kitten\"=[0.1, 0.199, 0.3, 0.4, 0.501]`). The vector representation is known to be more robust to noisy data and is preferred over the traditional bag-of-words approaches in evaluating semantic similarities.\n",
    "\n",
    "We'll apply the doc2vec model on the rMR and rFem corpus, which turns each post into a high-dimensional real-valued vector, such that posts with similar semantic content would have spatially close vector representations.\n",
    "\n",
    "First we'll group the posts from rMR or rFem by the date $d$, which leads to lists of sets:\n",
    "$V_{m}(d) = \\{v^{m}_{1}, v^{m}_{2}, \\cdots \\}$ and $V_{f}(d) = \\{v^{f}_{1}, v^{f}_{2}, \\cdots \\}$, then we'll compute the average of cosine distance over all pairs: $\\frac{1}{|V_{m}|\\cdot|V_{f}|} \\sum_{i, j} cos\\_dist(v^{m}_{i}, v^{f}_{j})$, and plot the average as a function of $d$.\n",
    "\n",
    "\n",
    "See [Part6](https://github.com/chao-ji/reddit/blob/master/Part%206%20Polarization%20of%20rMR%20and%20rFem%20and%20User%20Profiling.ipynb) for more detail on the doc2vec model."
   ]
  },
  {
   "cell_type": "markdown",
   "metadata": {},
   "source": [
    "First we need to load the pre-trained doc2vec model:"
   ]
  },
  {
   "cell_type": "code",
   "execution_count": 14,
   "metadata": {
    "collapsed": true
   },
   "outputs": [],
   "source": [
    "import warnings\n",
    "warnings.simplefilter('ignore')\n",
    "    \n",
    "from gensim import models\n",
    "model = models.Doc2Vec.load(\"doc2vec_dbow_d100_n5_w15_mc5_s1e_05_t6.model\")"
   ]
  },
  {
   "cell_type": "markdown",
   "metadata": {},
   "source": [
    "Retrieve posts from database, and save as pandas dataframes. Note that only a subset of posts were used to train the doc2vec model (and have a vector representation), so we need to filter for the posts for which there is a vector representation:"
   ]
  },
  {
   "cell_type": "code",
   "execution_count": 15,
   "metadata": {
    "collapsed": false
   },
   "outputs": [],
   "source": [
    "men_posts = pd.DataFrame(list(db[\"MensRights\"].find({}, {\"date\": 1, \"created_utc\": 1,\n",
    "                                                         \"author\": 1, \"_id\": 1}).sort(\"created_utc\",\n",
    "                                                                                      pymongo.ASCENDING)))\n",
    "\n",
    "fem_posts = pd.DataFrame(list(db[\"Feminism\"].find({}, {\"date\": 1, \"created_utc\": 1,\n",
    "                                                       \"author\": 1, \"_id\": 1}).sort(\"created_utc\",\n",
    "                                                                                    pymongo.ASCENDING)))\n",
    "\n",
    "men_posts = men_posts[men_posts[\"_id\"].map(lambda x: str(x) in model.docvecs)]\n",
    "fem_posts = fem_posts[fem_posts[\"_id\"].map(lambda x: str(x) in model.docvecs)]"
   ]
  },
  {
   "cell_type": "code",
   "execution_count": 16,
   "metadata": {
    "collapsed": false
   },
   "outputs": [
    {
     "data": {
      "text/html": [
       "<div>\n",
       "<table border=\"1\" class=\"dataframe\">\n",
       "  <thead>\n",
       "    <tr style=\"text-align: right;\">\n",
       "      <th></th>\n",
       "      <th>_id</th>\n",
       "      <th>author</th>\n",
       "      <th>created_utc</th>\n",
       "      <th>date</th>\n",
       "    </tr>\n",
       "  </thead>\n",
       "  <tbody>\n",
       "    <tr>\n",
       "      <th>0</th>\n",
       "      <td>57c657db79a3030ce0379124</td>\n",
       "      <td>kanuk876</td>\n",
       "      <td>2008-03-21 15:35:09</td>\n",
       "      <td>2008-03-21</td>\n",
       "    </tr>\n",
       "    <tr>\n",
       "      <th>1</th>\n",
       "      <td>57c657dc79a3030ce0380a72</td>\n",
       "      <td>WorcesterM</td>\n",
       "      <td>2008-03-24 09:05:47</td>\n",
       "      <td>2008-03-24</td>\n",
       "    </tr>\n",
       "    <tr>\n",
       "      <th>2</th>\n",
       "      <td>57c657dc79a3030ce0385021</td>\n",
       "      <td>WorcesterM</td>\n",
       "      <td>2008-03-25 11:54:29</td>\n",
       "      <td>2008-03-25</td>\n",
       "    </tr>\n",
       "    <tr>\n",
       "      <th>3</th>\n",
       "      <td>57c657dc79a3030ce03855c1</td>\n",
       "      <td>linuxlass</td>\n",
       "      <td>2008-03-25 13:27:03</td>\n",
       "      <td>2008-03-25</td>\n",
       "    </tr>\n",
       "    <tr>\n",
       "      <th>4</th>\n",
       "      <td>57c657dd79a3030ce0388c35</td>\n",
       "      <td>Xiphorian</td>\n",
       "      <td>2008-03-26 09:41:00</td>\n",
       "      <td>2008-03-26</td>\n",
       "    </tr>\n",
       "    <tr>\n",
       "      <th>11</th>\n",
       "      <td>57c657e579a3030ce03cc184</td>\n",
       "      <td>andymikey</td>\n",
       "      <td>2008-04-13 15:53:04</td>\n",
       "      <td>2008-04-13</td>\n",
       "    </tr>\n",
       "    <tr>\n",
       "      <th>13</th>\n",
       "      <td>57c657e979a3030ce03eb88d</td>\n",
       "      <td>Xiphorian</td>\n",
       "      <td>2008-04-21 23:41:30</td>\n",
       "      <td>2008-04-21</td>\n",
       "    </tr>\n",
       "    <tr>\n",
       "      <th>15</th>\n",
       "      <td>57c657ea79a3030ce03ee833</td>\n",
       "      <td>Xiphorian</td>\n",
       "      <td>2008-04-22 16:31:14</td>\n",
       "      <td>2008-04-22</td>\n",
       "    </tr>\n",
       "    <tr>\n",
       "      <th>16</th>\n",
       "      <td>57c657ea79a3030ce03f3b1d</td>\n",
       "      <td>yojustkeepitreal</td>\n",
       "      <td>2008-04-23 19:27:39</td>\n",
       "      <td>2008-04-23</td>\n",
       "    </tr>\n",
       "    <tr>\n",
       "      <th>18</th>\n",
       "      <td>57c657ee79a3030ce040b25c</td>\n",
       "      <td>linuxlass</td>\n",
       "      <td>2008-04-29 17:18:57</td>\n",
       "      <td>2008-04-29</td>\n",
       "    </tr>\n",
       "  </tbody>\n",
       "</table>\n",
       "</div>"
      ],
      "text/plain": [
       "                         _id            author         created_utc       date\n",
       "0   57c657db79a3030ce0379124          kanuk876 2008-03-21 15:35:09 2008-03-21\n",
       "1   57c657dc79a3030ce0380a72        WorcesterM 2008-03-24 09:05:47 2008-03-24\n",
       "2   57c657dc79a3030ce0385021        WorcesterM 2008-03-25 11:54:29 2008-03-25\n",
       "3   57c657dc79a3030ce03855c1         linuxlass 2008-03-25 13:27:03 2008-03-25\n",
       "4   57c657dd79a3030ce0388c35         Xiphorian 2008-03-26 09:41:00 2008-03-26\n",
       "11  57c657e579a3030ce03cc184         andymikey 2008-04-13 15:53:04 2008-04-13\n",
       "13  57c657e979a3030ce03eb88d         Xiphorian 2008-04-21 23:41:30 2008-04-21\n",
       "15  57c657ea79a3030ce03ee833         Xiphorian 2008-04-22 16:31:14 2008-04-22\n",
       "16  57c657ea79a3030ce03f3b1d  yojustkeepitreal 2008-04-23 19:27:39 2008-04-23\n",
       "18  57c657ee79a3030ce040b25c         linuxlass 2008-04-29 17:18:57 2008-04-29"
      ]
     },
     "execution_count": 16,
     "metadata": {},
     "output_type": "execute_result"
    }
   ],
   "source": [
    "men_posts[:10]"
   ]
  },
  {
   "cell_type": "code",
   "execution_count": 17,
   "metadata": {
    "collapsed": false
   },
   "outputs": [
    {
     "data": {
      "text/html": [
       "<div>\n",
       "<table border=\"1\" class=\"dataframe\">\n",
       "  <thead>\n",
       "    <tr style=\"text-align: right;\">\n",
       "      <th></th>\n",
       "      <th>_id</th>\n",
       "      <th>author</th>\n",
       "      <th>created_utc</th>\n",
       "      <th>date</th>\n",
       "    </tr>\n",
       "  </thead>\n",
       "  <tbody>\n",
       "    <tr>\n",
       "      <th>4</th>\n",
       "      <td>57c655e779a3030ce04be7d5</td>\n",
       "      <td>cyborg_selkie</td>\n",
       "      <td>2009-05-12 23:39:24</td>\n",
       "      <td>2009-05-12</td>\n",
       "    </tr>\n",
       "    <tr>\n",
       "      <th>7</th>\n",
       "      <td>57c6562979a3030ce06b6c95</td>\n",
       "      <td>Cassio</td>\n",
       "      <td>2009-07-02 19:02:15</td>\n",
       "      <td>2009-07-02</td>\n",
       "    </tr>\n",
       "    <tr>\n",
       "      <th>8</th>\n",
       "      <td>57c6563479a3030ce0701e1f</td>\n",
       "      <td>AnnArchist</td>\n",
       "      <td>2009-07-09 17:27:42</td>\n",
       "      <td>2009-07-09</td>\n",
       "    </tr>\n",
       "    <tr>\n",
       "      <th>9</th>\n",
       "      <td>57c6563579a3030ce0705285</td>\n",
       "      <td>Kowai03</td>\n",
       "      <td>2009-07-09 23:01:30</td>\n",
       "      <td>2009-07-09</td>\n",
       "    </tr>\n",
       "    <tr>\n",
       "      <th>11</th>\n",
       "      <td>57c6563679a3030ce0713754</td>\n",
       "      <td>nuuur32</td>\n",
       "      <td>2009-07-11 02:47:08</td>\n",
       "      <td>2009-07-11</td>\n",
       "    </tr>\n",
       "    <tr>\n",
       "      <th>14</th>\n",
       "      <td>57c6565f79a3030ce0857526</td>\n",
       "      <td>Cassio</td>\n",
       "      <td>2009-08-07 06:55:32</td>\n",
       "      <td>2009-08-07</td>\n",
       "    </tr>\n",
       "    <tr>\n",
       "      <th>15</th>\n",
       "      <td>57c6566579a3030ce0882abf</td>\n",
       "      <td>SwampGass</td>\n",
       "      <td>2009-08-10 18:19:39</td>\n",
       "      <td>2009-08-10</td>\n",
       "    </tr>\n",
       "    <tr>\n",
       "      <th>16</th>\n",
       "      <td>57c6566579a3030ce0882c6a</td>\n",
       "      <td>SwampGass</td>\n",
       "      <td>2009-08-10 18:27:49</td>\n",
       "      <td>2009-08-10</td>\n",
       "    </tr>\n",
       "    <tr>\n",
       "      <th>17</th>\n",
       "      <td>57c6566679a3030ce088ea23</td>\n",
       "      <td>Aerik</td>\n",
       "      <td>2009-08-11 15:11:40</td>\n",
       "      <td>2009-08-11</td>\n",
       "    </tr>\n",
       "    <tr>\n",
       "      <th>24</th>\n",
       "      <td>57c6568179a3030ce0948ad9</td>\n",
       "      <td>Naughtymonkey</td>\n",
       "      <td>2009-08-24 18:43:46</td>\n",
       "      <td>2009-08-24</td>\n",
       "    </tr>\n",
       "  </tbody>\n",
       "</table>\n",
       "</div>"
      ],
      "text/plain": [
       "                         _id         author         created_utc       date\n",
       "4   57c655e779a3030ce04be7d5  cyborg_selkie 2009-05-12 23:39:24 2009-05-12\n",
       "7   57c6562979a3030ce06b6c95         Cassio 2009-07-02 19:02:15 2009-07-02\n",
       "8   57c6563479a3030ce0701e1f     AnnArchist 2009-07-09 17:27:42 2009-07-09\n",
       "9   57c6563579a3030ce0705285        Kowai03 2009-07-09 23:01:30 2009-07-09\n",
       "11  57c6563679a3030ce0713754        nuuur32 2009-07-11 02:47:08 2009-07-11\n",
       "14  57c6565f79a3030ce0857526         Cassio 2009-08-07 06:55:32 2009-08-07\n",
       "15  57c6566579a3030ce0882abf      SwampGass 2009-08-10 18:19:39 2009-08-10\n",
       "16  57c6566579a3030ce0882c6a      SwampGass 2009-08-10 18:27:49 2009-08-10\n",
       "17  57c6566679a3030ce088ea23          Aerik 2009-08-11 15:11:40 2009-08-11\n",
       "24  57c6568179a3030ce0948ad9  Naughtymonkey 2009-08-24 18:43:46 2009-08-24"
      ]
     },
     "execution_count": 17,
     "metadata": {},
     "output_type": "execute_result"
    }
   ],
   "source": [
    "fem_posts[:10]"
   ]
  },
  {
   "cell_type": "markdown",
   "metadata": {},
   "source": [
    "Group the posts by date, and then group the subgroup by author ID:"
   ]
  },
  {
   "cell_type": "code",
   "execution_count": 18,
   "metadata": {
    "collapsed": false
   },
   "outputs": [],
   "source": [
    "men_by_date = men_posts.groupby(\"date\").apply(lambda df: df.groupby(\"author\").apply(lambda x: list(x[\"_id\"])).to_dict())\n",
    "fem_by_date = fem_posts.groupby(\"date\").apply(lambda df: df.groupby(\"author\").apply(lambda x: list(x[\"_id\"])).to_dict())"
   ]
  },
  {
   "cell_type": "code",
   "execution_count": 19,
   "metadata": {
    "collapsed": false
   },
   "outputs": [
    {
     "data": {
      "text/plain": [
       "date\n",
       "2016-07-29    {u'ExpendableOne': [57c0689079a3030c544c8333],...\n",
       "2016-07-30    {u'JFSwifty': [57c068dd79a3030c546d9965], u'st...\n",
       "2016-07-31    {u'EvrythingISayIsRight': [57c0691679a3030c548...\n",
       "dtype: object"
      ]
     },
     "execution_count": 19,
     "metadata": {},
     "output_type": "execute_result"
    }
   ],
   "source": [
    "men_by_date[-3:]"
   ]
  },
  {
   "cell_type": "code",
   "execution_count": 20,
   "metadata": {
    "collapsed": false
   },
   "outputs": [
    {
     "data": {
      "text/plain": [
       "date\n",
       "2016-07-29    {u'cupcakemichiyo': [57c0688179a3030c54460b9d]...\n",
       "2016-07-30    {u'lumberanemone': [57c0690479a3030c547ed9ca],...\n",
       "2016-07-31    {u'ebs152': [57c0693e79a3030c5497c60b], u'RSSa...\n",
       "dtype: object"
      ]
     },
     "execution_count": 20,
     "metadata": {},
     "output_type": "execute_result"
    }
   ],
   "source": [
    "fem_by_date[-3:]"
   ]
  },
  {
   "cell_type": "code",
   "execution_count": 21,
   "metadata": {
    "collapsed": true
   },
   "outputs": [],
   "source": [
    "# Helper function that computes the average of cosine distance for each date `date`\n",
    "\n",
    "def semantic_dist_between(date):\n",
    "    if date.month == 1 and date.day == 1:\n",
    "        print date\n",
    "\n",
    "    radius = 15\n",
    "    dates = [date + datetime.timedelta(days=d) for d in range(-radius, radius)]\n",
    "\n",
    "    l1 = [list(itertools.chain(*men_by_date[d].values()) ) for d in dates if d in men_by_date]\n",
    "    l2 = [list(itertools.chain(*fem_by_date[d].values()) ) for d in dates if d in fem_by_date]\n",
    "    l1 = list(itertools.chain(*l1))\n",
    "    l2 = list(itertools.chain(*l2))\n",
    "    \n",
    "    X1 = np.array([model.docvecs[str(one_id)] for one_id in l1])\n",
    "    X2 = np.array([model.docvecs[str(one_id)] for one_id in l2])\n",
    "    \n",
    "    return cosine_distances(X1, X2).mean()"
   ]
  },
  {
   "cell_type": "markdown",
   "metadata": {},
   "source": [
    "Apply `semantic_dist_between` on the lits of datss"
   ]
  },
  {
   "cell_type": "code",
   "execution_count": 22,
   "metadata": {
    "collapsed": false
   },
   "outputs": [
    {
     "name": "stdout",
     "output_type": "stream",
     "text": [
      "2010-01-01 00:00:00\n",
      "2011-01-01 00:00:00\n",
      "2012-01-01 00:00:00\n",
      "2013-01-01 00:00:00\n",
      "2014-01-01 00:00:00\n",
      "2015-01-01 00:00:00\n",
      "2016-01-01 00:00:00\n"
     ]
    }
   ],
   "source": [
    "dates = sorted(list(set(men_posts[\"date\"]) & set(fem_posts[\"date\"])))\n",
    "arr = map(lambda d: semantic_dist_between(d), dates)"
   ]
  },
  {
   "cell_type": "code",
   "execution_count": 23,
   "metadata": {
    "collapsed": false
   },
   "outputs": [
    {
     "name": "stdout",
     "output_type": "stream",
     "text": [
      "[ 733773.  734138.  734503.  734869.  735234.  735599.  735964.]\n"
     ]
    },
    {
     "data": {
      "image/png": "[encoded data removed]",
      "text/plain": [
       "<matplotlib.figure.Figure at 0x7f67b794b310>"
      ]
     },
     "metadata": {},
     "output_type": "display_data"
    }
   ],
   "source": [
    "s = pd.Series(arr, index=dates)\n",
    "s = pd.rolling_mean(s, window=30)\n",
    "s.plot()\n",
    "\n",
    "ax = plt.gca()\n",
    "\n",
    "rect = patches.Rectangle([734400., 0.58], 750., -0.02, linewidth=1, edgecolor='r',\n",
    "                             facecolor='none', linestyle=\"--\")\n",
    "ax.add_patch(rect)\n",
    "\n",
    "print ax.get_xticks()\n",
    "\n",
    "plt.show()"
   ]
  },
  {
   "cell_type": "markdown",
   "metadata": {
    "collapsed": true
   },
   "source": [
    "Taking the results in this part and part 1, 3 together, we can see that rMR and rFem were more similar during 2012-2013 than elsewhere in the timeline, and this happens to coincide with the period with the elevated cross-posting activity between the rMR and rFem. "
   ]
  }
 ],
 "metadata": {
  "anaconda-cloud": {},
  "kernelspec": {
   "display_name": "Python [conda root]",
   "language": "python",
   "name": "conda-root-py"
  },
  "language_info": {
   "codemirror_mode": {
    "name": "ipython",
    "version": 2
   },
   "file_extension": ".py",
   "mimetype": "text/x-python",
   "name": "python",
   "nbconvert_exporter": "python",
   "pygments_lexer": "ipython2",
   "version": "2.7.13"
  }
 },
 "nbformat": 4,
 "nbformat_minor": 1
}
