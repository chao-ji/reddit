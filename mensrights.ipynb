{
 "cells": [
  {
   "cell_type": "code",
   "execution_count": 2,
   "metadata": {
    "collapsed": false
   },
   "outputs": [
    {
     "data": {
      "text/html": [
       "<div>\n",
       "<table border=\"1\" class=\"dataframe\">\n",
       "  <thead>\n",
       "    <tr style=\"text-align: right;\">\n",
       "      <th>Test</th>\n",
       "      <th>M2F_PreCP_M</th>\n",
       "      <th>M2F_PostCP_M</th>\n",
       "      <th>M2F_PostCP_F</th>\n",
       "      <th>M_Only</th>\n",
       "    </tr>\n",
       "    <tr>\n",
       "      <th>Train</th>\n",
       "      <th></th>\n",
       "      <th></th>\n",
       "      <th></th>\n",
       "      <th></th>\n",
       "    </tr>\n",
       "  </thead>\n",
       "  <tbody>\n",
       "    <tr>\n",
       "      <th>M2F_PreCP_M</th>\n",
       "      <td>NaN</td>\n",
       "      <td>-6.967476</td>\n",
       "      <td>-6.933751</td>\n",
       "      <td>-6.962005</td>\n",
       "    </tr>\n",
       "    <tr>\n",
       "      <th>M2F_PostCP_M</th>\n",
       "      <td>-6.924987</td>\n",
       "      <td>NaN</td>\n",
       "      <td>-6.916690</td>\n",
       "      <td>-6.945968</td>\n",
       "    </tr>\n",
       "    <tr>\n",
       "      <th>M2F_PostCP_F</th>\n",
       "      <td>-7.041595</td>\n",
       "      <td>-7.069118</td>\n",
       "      <td>NaN</td>\n",
       "      <td>-7.092645</td>\n",
       "    </tr>\n",
       "    <tr>\n",
       "      <th>M_Only</th>\n",
       "      <td>-6.938615</td>\n",
       "      <td>-6.983586</td>\n",
       "      <td>-6.956517</td>\n",
       "      <td>NaN</td>\n",
       "    </tr>\n",
       "  </tbody>\n",
       "</table>\n",
       "</div>"
      ],
      "text/plain": [
       "Test          M2F_PreCP_M  M2F_PostCP_M  M2F_PostCP_F    M_Only\n",
       "Train                                                          \n",
       "M2F_PreCP_M           NaN     -6.967476     -6.933751 -6.962005\n",
       "M2F_PostCP_M    -6.924987           NaN     -6.916690 -6.945968\n",
       "M2F_PostCP_F    -7.041595     -7.069118           NaN -7.092645\n",
       "M_Only          -6.938615     -6.983586     -6.956517       NaN"
      ]
     },
     "execution_count": 2,
     "metadata": {},
     "output_type": "execute_result"
    }
   ],
   "source": [
    "import pickle\n",
    "import sys\n",
    "from collections import Counter\n",
    "import numpy as np\n",
    "from scipy import spatial\n",
    "from pandas import DataFrame\n",
    "\n",
    "sys.path.append(\"/home/jichao/Desktop/reddit/language_model\")\n",
    "from language_model import *\n",
    "\n",
    "tokens_men2fem_pre_cp = pickle.load(open(\"tokens_men2fem_pre_cp.pickle\"))\n",
    "tokens_men2fem_post_cp_men = pickle.load(open(\"tokens_men2fem_post_cp_men.pickle\"))\n",
    "tokens_men2fem_post_cp_fem = pickle.load(open(\"tokens_men2fem_post_cp_fem.pickle\"))\n",
    "tokens_men_only = pickle.load(open(\"tokens_men_only.pickle\"))\n",
    "\n",
    "d = [tokens_men2fem_pre_cp,\n",
    "    tokens_men2fem_post_cp_men,\n",
    "    tokens_men2fem_post_cp_fem,\n",
    "    tokens_men_only]\n",
    "\n",
    "logprob = np.empty((4, 4))\n",
    "\n",
    "for i in range(len(d)):\n",
    "    train = d[i]\n",
    "    train_tokens = set(list(itertools.chain(*train)))\n",
    "\n",
    "    for j in range(len(d)):\n",
    "        if j != i:\n",
    "            test = d[j]\n",
    "            test_tokens = list(itertools.chain(*test))\n",
    "\n",
    "            bigram = Bigram(train, special_token=True)\n",
    "            oov = filter(lambda token: token not in train_tokens, test_tokens)\n",
    "            oov = len(set(oov))\n",
    "\n",
    "            bigram.fit(oov)\n",
    "            data = map(lambda tokens: bigram.predict(tokens), test)\n",
    "            logprob[i][j] = np.mean(data)\n",
    "        else:\n",
    "            logprob[i][j] = np.nan\n",
    "\n",
    "logprob = DataFrame(logprob,\n",
    "                    index=[\"M2F_PreCP_M\", \"M2F_PostCP_M\", \"M2F_PostCP_F\", \"M_Only\"],\n",
    "                    columns=[\"M2F_PreCP_M\", \"M2F_PostCP_M\", \"M2F_PostCP_F\", \"M_Only\"])\n",
    "logprob.index.name = \"Train\"\n",
    "logprob.columns.name = \"Test\"\n",
    "logprob"
   ]
  },
  {
   "cell_type": "code",
   "execution_count": null,
   "metadata": {
    "collapsed": true
   },
   "outputs": [],
   "source": []
  }
 ],
 "metadata": {
  "kernelspec": {
   "display_name": "Python [conda root]",
   "language": "python",
   "name": "conda-root-py"
  },
  "language_info": {
   "codemirror_mode": {
    "name": "ipython",
    "version": 2
   },
   "file_extension": ".py",
   "mimetype": "text/x-python",
   "name": "python",
   "nbconvert_exporter": "python",
   "pygments_lexer": "ipython2",
   "version": "2.7.12"
  }
 },
 "nbformat": 4,
 "nbformat_minor": 1
}
