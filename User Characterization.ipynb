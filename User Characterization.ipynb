{
 "cells": [
  {
   "cell_type": "code",
   "execution_count": 1,
   "metadata": {
    "collapsed": true
   },
   "outputs": [],
   "source": [
    "from pymongo import MongoClient\n",
    "import datetime\n",
    "import pandas as pd\n",
    "import numpy as np\n",
    "import itertools\n",
    "from collections import Counter\n",
    "\n",
    "client = MongoClient(\"localhost\", 27017)\n",
    "db = client[\"reddit_polarization\"]"
   ]
  },
  {
   "cell_type": "code",
   "execution_count": 64,
   "metadata": {
    "collapsed": true
   },
   "outputs": [],
   "source": [
    "# http://www.ranks.nl/stopwords\n",
    "# MYSQL Stopwords\n",
    "sw = [\"a's\", 'accordingly', 'again', 'allows', 'also', 'amongst',\n",
    "      'anybody', 'anyways', 'appropriate', 'aside', 'available',\n",
    "      'because', 'before', 'below', 'between', 'by', \"can't\",\n",
    "      'certain', 'com', 'consider', 'corresponding', 'definitely',\n",
    "      'different', \"don't\", 'each', 'else', 'et', 'everybody',\n",
    "      'exactly', 'fifth', 'follows', 'four', 'gets', 'goes',\n",
    "      'greetings', 'has', 'he', 'her', 'herein', 'him', 'how',\n",
    "      \"i'm\", 'immediate', 'indicate', 'instead', 'it', 'itself',\n",
    "      'know', 'later', 'lest', 'likely', 'ltd', 'me', 'more',\n",
    "      'must', 'nd', 'needs', 'next', 'none', 'nothing', 'of',\n",
    "      'okay', 'ones', 'others', 'ourselves', 'own', 'placed',\n",
    "      'probably', 'rather', 'regarding', 'right', 'saying',\n",
    "      'seeing', 'seen', 'serious', 'she', 'so', 'something',\n",
    "      'soon', 'still', \"t's\", 'th', 'that', 'theirs', 'there',\n",
    "      'therein', \"they'd\", 'third', 'though', 'thus', 'toward',\n",
    "      'try', 'under', 'unto', 'used', 'value', 'vs', 'way',\n",
    "      \"we've\", \"weren't\", 'whence', 'whereas', 'whether', \"who's\",\n",
    "      'why', 'within', \"wouldn't\", \"you'll\", 'able', 'across',\n",
    "      'against', 'almost', 'although', 'an', 'anyhow', 'anywhere',\n",
    "      'are', 'ask', 'away', 'become', 'beforehand', 'beside',\n",
    "      'beyond', \"c'mon\", 'cannot', 'certainly', 'come',\n",
    "      'considering', 'could', 'described', 'do', 'done', 'edu',\n",
    "      'elsewhere', 'etc', 'everyone', 'example', 'first', 'for',\n",
    "      'from', 'getting', 'going', 'had', \"hasn't\", \"he's\", 'here',\n",
    "      'hereupon', 'himself', 'howbeit', \"i've\", 'in', 'indicated',\n",
    "      'into', \"it'd\", 'just', 'known', 'latter', 'let', 'little',\n",
    "      'mainly', 'mean', 'moreover', 'my', 'near', 'neither', 'nine',\n",
    "      'noone', 'novel', 'off', 'old', 'only', 'otherwise', 'out',\n",
    "      'particular', 'please', 'provides', 'rd', 'regardless',\n",
    "      'said', 'says', 'seem', 'self', 'seriously', 'should', 'some',\n",
    "      'sometime', 'sorry', 'sub', 'take', 'than', \"that's\", 'them',\n",
    "      \"there's\", 'theres', \"they'll\", 'this', 'three', 'to',\n",
    "      'towards', 'trying', 'unfortunately', 'up', 'useful',\n",
    "      'various', 'want', 'we', 'welcome', 'what', 'whenever',\n",
    "      'whereby', 'which', 'whoever', 'will', 'without', 'yes',\n",
    "      \"you're\", 'about', 'actually', \"ain't\", 'alone', 'always',\n",
    "      'and', 'anyone', 'apart', \"aren't\", 'asking', 'awfully',\n",
    "      'becomes', 'behind', 'besides', 'both', \"c's\", 'cant',\n",
    "      'changes', 'comes', 'contain', \"couldn't\", 'despite', 'does',\n",
    "      'down', 'eg', 'enough', 'even', 'everything', 'except', 'five',\n",
    "      'former', 'further', 'given', 'gone', \"hadn't\", 'have', 'hello',\n",
    "      \"here's\", 'hers', 'his', 'however', 'ie', 'inasmuch',\n",
    "      'indicates', 'inward', \"it'll\", 'keep', 'knows', 'latterly',\n",
    "      \"let's\", 'look', 'many', 'meanwhile', 'most', 'myself', 'nearly',\n",
    "      'never', 'no', 'nor', 'now', 'often', 'on', 'onto', 'ought',\n",
    "      'outside', 'particularly', 'plus', 'que', 're', 'regards', 'same',\n",
    "      'second', 'seemed', 'selves', 'seven', \"shouldn't\", 'somebody',\n",
    "      'sometimes', 'specified', 'such', 'taken', 'thank', 'thats',\n",
    "      'themselves', 'thereafter', 'thereupon', \"they're\", 'thorough',\n",
    "      'through', 'together', 'tried', 'twice', 'unless', 'upon', 'uses',\n",
    "      'very', 'wants', \"we'd\", 'well', \"what's\", 'where', 'wherein',\n",
    "      'while', 'whole', 'willing', \"won't\", 'yet', \"you've\", 'above',\n",
    "      'after', 'all', 'along', 'am', 'another', 'anything', 'appear',\n",
    "      'around', 'associated', 'be', 'becoming', 'being', 'best', 'brief',\n",
    "      'came', 'cause', 'clearly', 'concerning', 'containing', 'course',\n",
    "      'did', \"doesn't\", 'downwards', 'eight', 'entirely', 'ever',\n",
    "      'everywhere', 'far', 'followed', 'formerly', 'furthermore', 'gives',\n",
    "      'got', 'happens', \"haven't\", 'help', 'hereafter', 'herself', 'hither',\n",
    "      \"i'd\", 'if', 'inc', 'inner', 'is', \"it's\", 'keeps', 'last', 'least',\n",
    "      'like', 'looking', 'may', 'merely', 'mostly', 'name', 'necessary',\n",
    "      'nevertheless', 'nobody', 'normally', 'nowhere', 'oh', 'once', 'or',\n",
    "      'our', 'over', 'per', 'possible', 'quite', 'really', 'relatively',\n",
    "      'saw', 'secondly', 'seeming', 'sensible', 'several', 'since',\n",
    "      'somehow', 'somewhat', 'specify', 'sup', 'tell', 'thanks', 'the',\n",
    "      'then', 'thereby', 'these', \"they've\", 'thoroughly', 'throughout',\n",
    "      'too', 'tries', 'two', 'unlikely', 'us', 'using', 'via', 'was', \"we'll\",\n",
    "      'went', 'whatever', \"where's\", 'whereupon', 'whither', 'whom', 'wish',\n",
    "      'wonder', 'you', 'your', 'according', 'afterwards', 'allow', 'already',\n",
    "      'among', 'any', 'anyway', 'appreciate', 'as', 'at', 'became', 'been',\n",
    "      'believe', 'better', 'but', 'can', 'causes', 'co', 'consequently',\n",
    "      'contains', 'currently', \"didn't\", 'doing', 'during', 'either',\n",
    "      'especially', 'every', 'ex', 'few', 'following', 'forth', 'get', 'go',\n",
    "      'gotten', 'hardly', 'having', 'hence', 'hereby', 'hi', 'hopefully',\n",
    "      \"i'll\", 'ignored', 'indeed', 'insofar', \"isn't\", 'its', 'kept', 'lately',\n",
    "      'less', 'liked', 'looks', 'maybe', 'might', 'much', 'namely', 'need',\n",
    "      'new', 'non', 'not', 'obviously', 'ok', 'one', 'other', 'ours', 'overall',\n",
    "      'perhaps', 'presumably', 'qv', 'reasonably', 'respectively', 'say', 'see',\n",
    "      'seems', 'sent', 'shall', 'six', 'someone', 'somewhere', 'specifying',\n",
    "      'sure', 'tends', 'thanx', 'their', 'thence', 'therefore', 'they', 'think',\n",
    "      'those', 'thru', 'took', 'truly', 'un', 'until', 'use', 'usually', 'viz',\n",
    "      \"wasn't\", \"we're\", 'were', 'when', 'whereafter', 'wherever', 'who',\n",
    "      'whose', 'with', 'would', \"you'd\", 'yours', 'yourself', 'yourselves', 'zero',\n",
    "      'guy', 'day', 'great', 'thing', 'fact', 'point', 'lot']\n",
    "sw = set(sw)"
   ]
  },
  {
   "cell_type": "code",
   "execution_count": 3,
   "metadata": {
    "collapsed": true
   },
   "outputs": [],
   "source": [
    "men = pd.DataFrame(list(db[\"MensRights\"].find({}, {\"author\": 1, \"score\": 1, \"subreddit\": 1, \"_id\": 0})))\n",
    "fem = pd.DataFrame(list(db[\"Feminism\"].find({}, {\"author\": 1, \"score\": 1, \"subreddit\": 1, \"_id\": 0})))\n",
    "print men.shape, fem.shape"
   ]
  },
  {
   "cell_type": "code",
   "execution_count": 6,
   "metadata": {
    "collapsed": true
   },
   "outputs": [],
   "source": [
    "authors = pd.concat([men, fem], axis=0)"
   ]
  },
  {
   "cell_type": "code",
   "execution_count": 7,
   "metadata": {
    "collapsed": true
   },
   "outputs": [],
   "source": [
    "def agg_author(df):\n",
    "    men_score = df[df[\"subreddit\"] == \"MensRights\"][\"score\"].mean()\n",
    "    men_count = df[df[\"subreddit\"] == \"MensRights\"][\"score\"].shape[0]\n",
    "    fem_score = df[df[\"subreddit\"] == \"Feminism\"][\"score\"].mean()\n",
    "    fem_count = df[df[\"subreddit\"] == \"Feminism\"][\"score\"].shape[0]\n",
    "    return pd.Series([men_score, men_count, fem_score, fem_count], index=[\"men_score\", \"men_count\", \"fem_score\", \"fem_count\"])"
   ]
  },
  {
   "cell_type": "code",
   "execution_count": 8,
   "metadata": {
    "collapsed": true
   },
   "outputs": [],
   "source": [
    "author_profile = authors.groupby(\"author\").apply(agg_author)"
   ]
  },
  {
   "cell_type": "code",
   "execution_count": 23,
   "metadata": {
    "collapsed": false
   },
   "outputs": [
    {
     "data": {
      "text/plain": [
       "(4.541925650216907, -266.0, 838.0, 13.85009556426775)"
      ]
     },
     "execution_count": 23,
     "metadata": {},
     "output_type": "execute_result"
    }
   ],
   "source": [
    "men_score = author_profile[\"men_score\"][author_profile[\"men_score\"].notnull()]\n",
    "print men_score.mean(), men_score.min(), men_score.max(), men_score.std()"
   ]
  },
  {
   "cell_type": "code",
   "execution_count": 24,
   "metadata": {
    "collapsed": false
   },
   "outputs": [
    {
     "data": {
      "text/plain": [
       "(4.045237320018844, -94.0, 281.0, 7.291276710126762)"
      ]
     },
     "execution_count": 24,
     "metadata": {},
     "output_type": "execute_result"
    }
   ],
   "source": [
    "fem_score = author_profile[\"fem_score\"][author_profile[\"fem_score\"].notnull()]\n",
    "print fem_score.mean(), fem_score.min(), fem_score.max(), fem_score.std()"
   ]
  },
  {
   "cell_type": "code",
   "execution_count": 47,
   "metadata": {
    "collapsed": false
   },
   "outputs": [],
   "source": [
    "men_author_profile = author_profile[author_profile[\"men_score\"].notnull()][[\"men_score\", \"men_count\"]]\n",
    "men_author_profile = men_author_profile.reset_index()"
   ]
  },
  {
   "cell_type": "code",
   "execution_count": 48,
   "metadata": {
    "collapsed": true
   },
   "outputs": [],
   "source": [
    "fem_author_profile = author_profile[author_profile[\"fem_score\"].notnull()][[\"fem_score\", \"fem_count\"]]\n",
    "fem_author_profile = fem_author_profile.reset_index()"
   ]
  },
  {
   "cell_type": "code",
   "execution_count": null,
   "metadata": {
    "collapsed": true
   },
   "outputs": [],
   "source": []
  },
  {
   "cell_type": "code",
   "execution_count": 62,
   "metadata": {
    "collapsed": true
   },
   "outputs": [],
   "source": [
    "men = pd.DataFrame(list(db[\"MensRights\"].find({}, {\"score\": 1, \"tokens_njv_pos\": 1, \"_id\": 0})))\n",
    "fem = pd.DataFrame(list(db[\"Feminism\"].find({}, {\"score\": 1, \"tokens_njv_pos\": 1, \"_id\": 0})))\n",
    "print men.shape, fem.shape"
   ]
  },
  {
   "cell_type": "code",
   "execution_count": 67,
   "metadata": {
    "collapsed": true
   },
   "outputs": [],
   "source": [
    "men[\"rank\"] = men[\"score\"].rank(ascending=False)\n",
    "fem[\"rank\"] = fem[\"score\"].rank(ascending=False)"
   ]
  },
  {
   "cell_type": "code",
   "execution_count": 73,
   "metadata": {
    "collapsed": true
   },
   "outputs": [],
   "source": [
    "def pos_filter(x, keep=set(\"NJ\")):\n",
    "    if len(x) == 0:\n",
    "        return \"\"\n",
    "    \n",
    "    tokens_pos = x.split(\" \")\n",
    "    tokens_pos = map(lambda pair: pair.split(\"/\"), tokens_pos)\n",
    "    \n",
    "    tokens_pos = filter(lambda pair: pair[1] in keep, tokens_pos)\n",
    "\n",
    "    if len(tokens_pos) == 0:\n",
    "        return \"\"\n",
    "    \n",
    "    return \" \".join(zip(*tokens_pos)[0])"
   ]
  },
  {
   "cell_type": "code",
   "execution_count": 75,
   "metadata": {
    "collapsed": false
   },
   "outputs": [],
   "source": [
    "men_x_corpus = men[men[\"rank\"] <= 1000][\"tokens_njv_pos\"].map(pos_filter)"
   ]
  },
  {
   "cell_type": "code",
   "execution_count": 77,
   "metadata": {
    "collapsed": false
   },
   "outputs": [
    {
     "data": {
      "text/plain": [
       "u'child stranger infant daughter men room mall bum stall team mall security report suspicious male small child bathroom culture much stranger danger penis danger'"
      ]
     },
     "execution_count": 77,
     "metadata": {},
     "output_type": "execute_result"
    }
   ],
   "source": [
    "men_x_corpus.iloc[0]"
   ]
  },
  {
   "cell_type": "code",
   "execution_count": null,
   "metadata": {
    "collapsed": true
   },
   "outputs": [],
   "source": []
  }
 ],
 "metadata": {
  "kernelspec": {
   "display_name": "Python [conda root]",
   "language": "python",
   "name": "conda-root-py"
  },
  "language_info": {
   "codemirror_mode": {
    "name": "ipython",
    "version": 2
   },
   "file_extension": ".py",
   "mimetype": "text/x-python",
   "name": "python",
   "nbconvert_exporter": "python",
   "pygments_lexer": "ipython2",
   "version": "2.7.12"
  }
 },
 "nbformat": 4,
 "nbformat_minor": 1
}
