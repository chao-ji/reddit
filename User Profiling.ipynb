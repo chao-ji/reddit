{
 "cells": [
  {
   "cell_type": "code",
   "execution_count": 1,
   "metadata": {
    "collapsed": true
   },
   "outputs": [],
   "source": [
    "from pymongo import MongoClient\n",
    "import datetime\n",
    "import pandas as pd\n",
    "import numpy as np\n",
    "import itertools\n",
    "import pymongo\n",
    "from collections import Counter\n",
    "import pickle\n",
    "\n",
    "client = MongoClient(\"localhost\", 27017)\n",
    "db = client[\"reddit_polarization\"]\n",
    "sw = pickle.load(open(\"stoplist.pickle\"))"
   ]
  },
  {
   "cell_type": "code",
   "execution_count": 2,
   "metadata": {
    "collapsed": false
   },
   "outputs": [
    {
     "name": "stdout",
     "output_type": "stream",
     "text": [
      "(2452716, 3) (213100, 3)\n"
     ]
    }
   ],
   "source": [
    "men = pd.DataFrame(list(db[\"MensRights\"].find({}, {\"author\": 1, \"score\": 1, \"subreddit\": 1, \"_id\": 0})))\n",
    "fem = pd.DataFrame(list(db[\"Feminism\"].find({}, {\"author\": 1, \"score\": 1, \"subreddit\": 1, \"_id\": 0})))\n",
    "print men.shape, fem.shape"
   ]
  },
  {
   "cell_type": "code",
   "execution_count": 3,
   "metadata": {
    "collapsed": true
   },
   "outputs": [],
   "source": [
    "author_info = pd.concat([men, fem], axis=0)"
   ]
  },
  {
   "cell_type": "code",
   "execution_count": 4,
   "metadata": {
    "collapsed": true
   },
   "outputs": [],
   "source": [
    "def agg_author(df):\n",
    "    men_mean_score = df[df[\"subreddit\"] == \"MensRights\"][\"score\"].mean()\n",
    "    men_min_score = df[df[\"subreddit\"] == \"MensRights\"][\"score\"].min()\n",
    "    men_max_score = df[df[\"subreddit\"] == \"MensRights\"][\"score\"].max()\n",
    "    men_count = df[df[\"subreddit\"] == \"MensRights\"][\"score\"].shape[0]\n",
    "    \n",
    "    fem_mean_score = df[df[\"subreddit\"] == \"Feminism\"][\"score\"].mean()\n",
    "    fem_min_score = df[df[\"subreddit\"] == \"Feminism\"][\"score\"].min()\n",
    "    fem_max_score = df[df[\"subreddit\"] == \"Feminism\"][\"score\"].max()\n",
    "    fem_count = df[df[\"subreddit\"] == \"Feminism\"][\"score\"].shape[0]\n",
    "    \n",
    "    return pd.Series([men_mean_score, men_min_score, men_max_score, men_count,\n",
    "                      fem_mean_score, fem_min_score, fem_max_score, fem_count],\n",
    "                     index=[\"men_mean_score\", \"men_min_score\", \"men_max_score\", \"men_count\",\n",
    "                            \"fem_mean_score\", \"fem_min_score\", \"fem_max_score\", \"fem_count\"])"
   ]
  },
  {
   "cell_type": "code",
   "execution_count": 5,
   "metadata": {
    "collapsed": true
   },
   "outputs": [],
   "source": [
    "authors = author_info.groupby(\"author\").apply(agg_author)"
   ]
  },
  {
   "cell_type": "code",
   "execution_count": 6,
   "metadata": {
    "collapsed": false
   },
   "outputs": [
    {
     "data": {
      "text/html": [
       "<div>\n",
       "<table border=\"1\" class=\"dataframe\">\n",
       "  <thead>\n",
       "    <tr style=\"text-align: right;\">\n",
       "      <th></th>\n",
       "      <th>men_mean_score</th>\n",
       "      <th>men_min_score</th>\n",
       "      <th>men_max_score</th>\n",
       "      <th>men_count</th>\n",
       "      <th>fem_mean_score</th>\n",
       "      <th>fem_min_score</th>\n",
       "      <th>fem_max_score</th>\n",
       "      <th>fem_count</th>\n",
       "    </tr>\n",
       "    <tr>\n",
       "      <th>author</th>\n",
       "      <th></th>\n",
       "      <th></th>\n",
       "      <th></th>\n",
       "      <th></th>\n",
       "      <th></th>\n",
       "      <th></th>\n",
       "      <th></th>\n",
       "      <th></th>\n",
       "    </tr>\n",
       "  </thead>\n",
       "  <tbody>\n",
       "    <tr>\n",
       "      <th>---</th>\n",
       "      <td>4.74026</td>\n",
       "      <td>-10.0</td>\n",
       "      <td>30.0</td>\n",
       "      <td>77.0</td>\n",
       "      <td>-2.0</td>\n",
       "      <td>-2.0</td>\n",
       "      <td>-2.0</td>\n",
       "      <td>1.0</td>\n",
       "    </tr>\n",
       "    <tr>\n",
       "      <th>------___--___------</th>\n",
       "      <td>1.00000</td>\n",
       "      <td>1.0</td>\n",
       "      <td>1.0</td>\n",
       "      <td>3.0</td>\n",
       "      <td>NaN</td>\n",
       "      <td>NaN</td>\n",
       "      <td>NaN</td>\n",
       "      <td>0.0</td>\n",
       "    </tr>\n",
       "    <tr>\n",
       "      <th>----x----</th>\n",
       "      <td>29.00000</td>\n",
       "      <td>29.0</td>\n",
       "      <td>29.0</td>\n",
       "      <td>1.0</td>\n",
       "      <td>NaN</td>\n",
       "      <td>NaN</td>\n",
       "      <td>NaN</td>\n",
       "      <td>0.0</td>\n",
       "    </tr>\n",
       "  </tbody>\n",
       "</table>\n",
       "</div>"
      ],
      "text/plain": [
       "                      men_mean_score  men_min_score  men_max_score  men_count  \\\n",
       "author                                                                          \n",
       "---                          4.74026          -10.0           30.0       77.0   \n",
       "------___--___------         1.00000            1.0            1.0        3.0   \n",
       "----x----                   29.00000           29.0           29.0        1.0   \n",
       "\n",
       "                      fem_mean_score  fem_min_score  fem_max_score  fem_count  \n",
       "author                                                                         \n",
       "---                             -2.0           -2.0           -2.0        1.0  \n",
       "------___--___------             NaN            NaN            NaN        0.0  \n",
       "----x----                        NaN            NaN            NaN        0.0  "
      ]
     },
     "execution_count": 6,
     "metadata": {},
     "output_type": "execute_result"
    }
   ],
   "source": [
    "authors[:3]"
   ]
  },
  {
   "cell_type": "code",
   "execution_count": 7,
   "metadata": {
    "collapsed": false
   },
   "outputs": [
    {
     "data": {
      "text/plain": [
       "(138029, 8)"
      ]
     },
     "execution_count": 7,
     "metadata": {},
     "output_type": "execute_result"
    }
   ],
   "source": [
    "authors.shape"
   ]
  },
  {
   "cell_type": "code",
   "execution_count": 8,
   "metadata": {
    "collapsed": false
   },
   "outputs": [
    {
     "data": {
      "text/plain": [
       "138029"
      ]
     },
     "execution_count": 8,
     "metadata": {},
     "output_type": "execute_result"
    }
   ],
   "source": [
    "115074 + 31772 - 8817"
   ]
  },
  {
   "cell_type": "code",
   "execution_count": null,
   "metadata": {
    "collapsed": true
   },
   "outputs": [],
   "source": []
  },
  {
   "cell_type": "code",
   "execution_count": 210,
   "metadata": {
    "collapsed": false
   },
   "outputs": [],
   "source": [
    "def polarized_authors1(authors, size=2000):\n",
    "    men_author = authors[authors[\"men_mean_score\"].notnull()][[\"men_mean_score\", \"men_min_score\",\n",
    "                                                               \"men_max_score\", \"men_count\"]]\n",
    "    men_author = men_author.reset_index()\n",
    "    \n",
    "    fem_author = authors[authors[\"fem_mean_score\"].notnull()][[\"fem_mean_score\", \"fem_min_score\",\n",
    "                                                               \"fem_max_score\", \"fem_count\"]]\n",
    "    fem_author = fem_author.reset_index()\n",
    "    \n",
    "    # `men_author`: users who posted >= 1 post in `r/MensRights`\n",
    "    # `fem_author`: users who posted >= 1 post in `r/Feminism`\n",
    "    # `df`: cross-posters\n",
    "    df = men_author.merge(fem_author, left_on=\"author\", right_on=\"author\")\n",
    "    \n",
    "    men_polar = pd.DataFrame(df[(df[\"men_min_score\"] > 0) & (df[\"fem_max_score\"] <= 0)])\n",
    "    men_polar[\"men2fem_diff\"] = men_polar[\"men_mean_score\"] - men_polar[\"fem_mean_score\"]\n",
    "    men_polar = men_polar.sort_values(\"men2fem_diff\", ascending=False)\n",
    "    \n",
    "    fem_polar = pd.DataFrame(df[(df[\"fem_min_score\"] > 0) & (df[\"men_max_score\"] <= 0)])\n",
    "    fem_polar[\"fem2men_diff\"] = fem_polar[\"fem_mean_score\"] - fem_polar[\"men_mean_score\"]\n",
    "    fem_polar = fem_polar.sort_values(\"fem2men_diff\", ascending=False)\n",
    "\n",
    "    men_train = pd.DataFrame(df[(df[\"men_mean_score\"] > 0) & (df[\"fem_mean_score\"] < 0)])\n",
    "    men_train[\"men2fem_diff\"] = men_train[\"men_mean_score\"] - men_train[\"fem_mean_score\"]\n",
    "    men_train = men_train.sort_values(\"men2fem_diff\", ascending=False)\n",
    "    men_train = men_train[:size]\n",
    "    men_train = pd.concat([men_train, men_polar[~men_polar[\"author\"].isin(men_train[\"author\"])]], axis=0)\n",
    "\n",
    "    fem_train = pd.DataFrame(df[(df[\"fem_mean_score\"] > 0) & (df[\"men_mean_score\"] < 0)])\n",
    "    fem_train[\"fem2men_diff\"] = fem_train[\"fem_mean_score\"] - fem_train[\"men_mean_score\"]\n",
    "    fem_train = fem_train.sort_values(\"fem2men_diff\", ascending=False)    \n",
    "    fem_train = fem_train[:size]\n",
    "    fem_train = pd.concat([fem_train, fem_polar[~fem_polar[\"author\"].isin(fem_train[\"author\"])]], axis=0)\n",
    "    \n",
    "    return men_train, fem_train, men_polar, fem_polar"
   ]
  },
  {
   "cell_type": "code",
   "execution_count": null,
   "metadata": {
    "collapsed": true
   },
   "outputs": [],
   "source": [
    "def polarized_authors2(authors, size=2000):\n",
    "    men_author = authors[authors[\"men_mean_score\"].notnull()][[\"men_mean_score\", \"men_min_score\",\n",
    "                                                               \"men_max_score\", \"men_count\"]]\n",
    "    men_author = men_author.reset_index()\n",
    "    \n",
    "    fem_author = authors[authors[\"fem_mean_score\"].notnull()][[\"fem_mean_score\", \"fem_min_score\",\n",
    "                                                               \"fem_max_score\", \"fem_count\"]]\n",
    "    fem_author = fem_author.reset_index()\n",
    "    \n",
    "    "
   ]
  },
  {
   "cell_type": "code",
   "execution_count": 211,
   "metadata": {
    "collapsed": false
   },
   "outputs": [],
   "source": [
    "men_train, fem_train, men_polar, fem_polar = polarized_authors1(authors, size=300)"
   ]
  },
  {
   "cell_type": "code",
   "execution_count": 212,
   "metadata": {
    "collapsed": false
   },
   "outputs": [
    {
     "data": {
      "text/plain": [
       "((278, 10), (238, 10))"
      ]
     },
     "execution_count": 212,
     "metadata": {},
     "output_type": "execute_result"
    }
   ],
   "source": [
    "# men_polar.shape, fem_polar.shape\n",
    "# men_train.shape, fem_train.shape"
   ]
  },
  {
   "cell_type": "code",
   "execution_count": 213,
   "metadata": {
    "collapsed": false
   },
   "outputs": [
    {
     "data": {
      "text/plain": [
       "((492, 10), (448, 10))"
      ]
     },
     "execution_count": 213,
     "metadata": {},
     "output_type": "execute_result"
    }
   ],
   "source": []
  },
  {
   "cell_type": "code",
   "execution_count": 216,
   "metadata": {
    "collapsed": true
   },
   "outputs": [],
   "source": [
    "def pos_filter(x, keep=set(\"NJ\")):\n",
    "    if len(x) == 0:\n",
    "        return \"\"\n",
    "    \n",
    "    tokens_pos = x.split(\" \")\n",
    "    tokens_pos = map(lambda pair: pair.split(\"/\"), tokens_pos)\n",
    "    \n",
    "    tokens_pos = filter(lambda pair: pair[1] in keep, tokens_pos)\n",
    "\n",
    "    if len(tokens_pos) == 0:\n",
    "        return \"\"\n",
    "    \n",
    "    return \" \".join(zip(*tokens_pos)[0])"
   ]
  },
  {
   "cell_type": "code",
   "execution_count": 217,
   "metadata": {
    "collapsed": true
   },
   "outputs": [],
   "source": [
    "def clean_token_pos(text):\n",
    "    text = pos_filter(text)\n",
    "    out = \" \".join(filter(lambda x: x not in sw, text.split(\" \")))\n",
    "    return out"
   ]
  },
  {
   "cell_type": "code",
   "execution_count": 218,
   "metadata": {
    "collapsed": false
   },
   "outputs": [],
   "source": [
    "def get_post_of_author(row, subreddit, field, min_word):\n",
    "    author = row[\"author\"]\n",
    "    \n",
    "    post_by_author = list(db[subreddit].find({\"author\": author}, {field: 1, \"score\": 1, \"_id\": 0}))\n",
    "    post_by_author = map(lambda post: {\"score\": post[\"score\"], field: clean_token_pos(post[field])}, post_by_author)\n",
    "    post_by_author = filter(lambda post: len(post[field].split(\" \")) >= min_word, post_by_author)\n",
    "    post_by_author = sorted(post_by_author, key=lambda post: -post[\"score\"])\n",
    "    post_by_author = [(\" \".join([subreddit, author, str(i)]),\n",
    "                       post_by_author[i][\"score\"],\n",
    "                       post_by_author[i][field])\n",
    "                      for i in range(len(post_by_author))]\n",
    "    \n",
    "    return post_by_author"
   ]
  },
  {
   "cell_type": "code",
   "execution_count": 219,
   "metadata": {
    "collapsed": false
   },
   "outputs": [],
   "source": [
    "men_polar[\"post\"] = men_polar.apply(lambda row:\n",
    "                                    get_post_of_author(row, \"MensRights\", \"tokens_njv_pos\", 10), axis=1)"
   ]
  },
  {
   "cell_type": "code",
   "execution_count": 220,
   "metadata": {
    "collapsed": true
   },
   "outputs": [],
   "source": [
    "fem_polar[\"post\"] = fem_polar.apply(lambda row:\n",
    "                                    get_post_of_author(row, \"Feminism\", \"tokens_njv_pos\", 10), axis=1)"
   ]
  },
  {
   "cell_type": "code",
   "execution_count": 221,
   "metadata": {
    "collapsed": false
   },
   "outputs": [
    {
     "data": {
      "text/plain": [
       "434"
      ]
     },
     "execution_count": 221,
     "metadata": {},
     "output_type": "execute_result"
    }
   ],
   "source": [
    "# men_polar[\"post\"].map(len).sum()\n",
    "# fem_polar[\"post\"].map(len).sum()"
   ]
  },
  {
   "cell_type": "code",
   "execution_count": 222,
   "metadata": {
    "collapsed": false
   },
   "outputs": [
    {
     "data": {
      "text/plain": [
       "248"
      ]
     },
     "execution_count": 222,
     "metadata": {},
     "output_type": "execute_result"
    }
   ],
   "source": []
  },
  {
   "cell_type": "code",
   "execution_count": 223,
   "metadata": {
    "collapsed": false
   },
   "outputs": [],
   "source": [
    "men_polar = men_polar[men_polar[\"post\"].map(len) > 0]"
   ]
  },
  {
   "cell_type": "code",
   "execution_count": 224,
   "metadata": {
    "collapsed": false
   },
   "outputs": [],
   "source": [
    "fem_polar = fem_polar[fem_polar[\"post\"].map(len) > 0]"
   ]
  },
  {
   "cell_type": "code",
   "execution_count": null,
   "metadata": {
    "collapsed": true
   },
   "outputs": [],
   "source": []
  },
  {
   "cell_type": "code",
   "execution_count": 225,
   "metadata": {
    "collapsed": false
   },
   "outputs": [
    {
     "data": {
      "text/plain": [
       "((151, 11), (115, 11))"
      ]
     },
     "execution_count": 225,
     "metadata": {},
     "output_type": "execute_result"
    }
   ],
   "source": [
    "men_polar.shape, fem_polar.shape"
   ]
  },
  {
   "cell_type": "code",
   "execution_count": 226,
   "metadata": {
    "collapsed": true
   },
   "outputs": [],
   "source": [
    "men_train[\"post\"] = men_train.apply(lambda row:\n",
    "                                    get_post_of_author(row, \"MensRights\", \"tokens_njv_pos\", 10), axis=1)"
   ]
  },
  {
   "cell_type": "code",
   "execution_count": 227,
   "metadata": {
    "collapsed": true
   },
   "outputs": [],
   "source": [
    "fem_train[\"post\"] = fem_train.apply(lambda row:\n",
    "                                    get_post_of_author(row, \"Feminism\", \"tokens_njv_pos\", 10), axis=1)"
   ]
  },
  {
   "cell_type": "code",
   "execution_count": 228,
   "metadata": {
    "collapsed": true
   },
   "outputs": [],
   "source": [
    "men_train = men_train[men_train[\"post\"].map(len) > 0]\n",
    "fem_train = fem_train[fem_train[\"post\"].map(len) > 0]"
   ]
  },
  {
   "cell_type": "code",
   "execution_count": 229,
   "metadata": {
    "collapsed": false
   },
   "outputs": [
    {
     "data": {
      "text/plain": [
       "(19494, 1811)"
      ]
     },
     "execution_count": 229,
     "metadata": {},
     "output_type": "execute_result"
    }
   ],
   "source": [
    "men_train[\"post\"].map(len).sum(), fem_train[\"post\"].map(len).sum()"
   ]
  },
  {
   "cell_type": "code",
   "execution_count": 230,
   "metadata": {
    "collapsed": false
   },
   "outputs": [
    {
     "data": {
      "text/plain": [
       "((339, 11), (115, 11))"
      ]
     },
     "execution_count": 230,
     "metadata": {},
     "output_type": "execute_result"
    }
   ],
   "source": [
    "men_train.shape, fem_polar.shape"
   ]
  },
  {
   "cell_type": "code",
   "execution_count": 231,
   "metadata": {
    "collapsed": true
   },
   "outputs": [],
   "source": [
    "from gensim.models.doc2vec import Doc2Vec, LabeledSentence"
   ]
  },
  {
   "cell_type": "code",
   "execution_count": 232,
   "metadata": {
    "collapsed": true
   },
   "outputs": [],
   "source": [
    "class PolarizedPost(object):\n",
    "    def __init__(self, men_train, fem_train):\n",
    "        self.data = ((\"men\", men_train), (\"fem\", fem_train))\n",
    "    def __iter__(self):        \n",
    "        for subreddit, df in self.data:\n",
    "            for i in range(df.shape[0]):\n",
    "                posts = df.iat[i, -1]\n",
    "                for tag, _, text in posts:\n",
    "                    yield LabeledSentence(text.split(), [tag])"
   ]
  },
  {
   "cell_type": "code",
   "execution_count": 233,
   "metadata": {
    "collapsed": true
   },
   "outputs": [],
   "source": [
    "pp = PolarizedPost(men_train, fem_train)"
   ]
  },
  {
   "cell_type": "code",
   "execution_count": 234,
   "metadata": {
    "collapsed": false
   },
   "outputs": [],
   "source": [
    "lpp = list(iter(pp))"
   ]
  },
  {
   "cell_type": "code",
   "execution_count": 235,
   "metadata": {
    "collapsed": false
   },
   "outputs": [
    {
     "data": {
      "text/plain": [
       "21305"
      ]
     },
     "execution_count": 235,
     "metadata": {},
     "output_type": "execute_result"
    }
   ],
   "source": [
    "len(lpp)"
   ]
  },
  {
   "cell_type": "code",
   "execution_count": 236,
   "metadata": {
    "collapsed": false
   },
   "outputs": [
    {
     "data": {
      "text/plain": [
       "[u'MensRights AmerikanInfidel 0']"
      ]
     },
     "execution_count": 236,
     "metadata": {},
     "output_type": "execute_result"
    }
   ],
   "source": [
    "lpp[0].tags"
   ]
  },
  {
   "cell_type": "code",
   "execution_count": null,
   "metadata": {
    "collapsed": true
   },
   "outputs": [],
   "source": []
  },
  {
   "cell_type": "code",
   "execution_count": 239,
   "metadata": {
    "collapsed": true
   },
   "outputs": [],
   "source": [
    "models = [Doc2Vec(dm=0, dbow_words=1, min_count=1, window=10,\n",
    "                  size=200, sample=1e-5, iter=50, workers=4), # Distributed BOW\n",
    "          Doc2Vec(dm=1, dm_mean=1, min_count=1, window=10,\n",
    "                  size=100, sample=1e-5, iter=12, workers=4)] # Distributed Memory\n",
    "\n",
    "names = [\"Distributed BOW\", \"Distributed Memory\"]\n",
    "model = models[0]\n",
    "name = names[0]"
   ]
  },
  {
   "cell_type": "code",
   "execution_count": 240,
   "metadata": {
    "collapsed": false
   },
   "outputs": [
    {
     "name": "stdout",
     "output_type": "stream",
     "text": [
      "Distributed BOW: Doc2Vec(dbow+w,d200,n5,w10,s1e-05,t4)\n"
     ]
    },
    {
     "data": {
      "text/plain": [
       "9355967"
      ]
     },
     "execution_count": 240,
     "metadata": {},
     "output_type": "execute_result"
    }
   ],
   "source": [
    "print \"%s: %s\" % (name, str(model))\n",
    "corpus = PolarizedPost(men_train, fem_train)\n",
    "model.build_vocab(corpus)\n",
    "corpus = PolarizedPost(men_train, fem_train)\n",
    "model.train(corpus)"
   ]
  },
  {
   "cell_type": "code",
   "execution_count": 241,
   "metadata": {
    "collapsed": false
   },
   "outputs": [
    {
     "data": {
      "text/plain": [
       "<gensim.models.doc2vec.Doc2Vec at 0x7fd9f14d5a10>"
      ]
     },
     "execution_count": 241,
     "metadata": {},
     "output_type": "execute_result"
    }
   ],
   "source": [
    "model"
   ]
  },
  {
   "cell_type": "code",
   "execution_count": 242,
   "metadata": {
    "collapsed": false
   },
   "outputs": [
    {
     "data": {
      "text/plain": [
       "[TaggedDocument(words=[u'yu', u'chinese', u'citizen', u'poughkeepsie', u'york', u'school', u'federal', u'court', u'wrongful', u'expulsion', u'irreparable', u'personal', u'damage', u'sex', u'discrimination', u'complaint', u'victim', u'campus', u'judicial', u'system', u'practice', u'presumes', u'male', u'sexual', u'misconduct', u'guilty', u'good', u'luck'], tags=[u'MensRights AmerikanInfidel 0']),\n",
       " TaggedDocument(words=[u'relevant', u'quote', u'pdf', u'lazy', u'page', u'sex', u'percent', u'male', u'percent', u'female', u'poverty', u'subreddit'], tags=[u'MensRights bobotheking 0']),\n",
       " TaggedDocument(words=[u'fucking', u'video', u'actual', u'worthwhile', u'impactful', u'content', u'bunch', u'low-res', u'low', u'frame', u'rate', u'hogging', u'mute', u'gifs', u'wrong', u'internet', u'today', u'insulting', u'real', u'content', u'dozen', u'time', u'reddit'], tags=[u'MensRights HIFW_GIFs_React_ 0']),\n",
       " TaggedDocument(words=[u'man', u'weak', u'raped', u'man', u'horrible', u'line', u'thinking', u'swap', u'man', u'woman', u'sentence', u'offensive', u'statement', u'worth', u'human', u'manhood', u'womanhood', u'ability', u'attacker', u'gender', u'party'], tags=[u'MensRights HIFW_GIFs_React_ 1']),\n",
       " TaggedDocument(words=[u'experience', u'management', u'side', u'service', u'industry', u'type', u'pricing', u'ratio', u'white', u'black', u'night', u'club', u'ticket', u'price', u'black', u'people', u'white', u'people', u'bar', u'victory', u'fuck', u'white', u'free', u'care', u'racism', u'simple', u'market', u'economics', u'supply', u'demand', u'dumb'], tags=[u'MensRights HIFW_GIFs_React_ 2'])]"
      ]
     },
     "execution_count": 242,
     "metadata": {},
     "output_type": "execute_result"
    }
   ],
   "source": [
    "lpp[:5]"
   ]
  },
  {
   "cell_type": "code",
   "execution_count": 243,
   "metadata": {
    "collapsed": false
   },
   "outputs": [],
   "source": [
    "X = np.array([model.docvecs[tagged_sent.tags[0]] for tagged_sent in lpp])"
   ]
  },
  {
   "cell_type": "code",
   "execution_count": 244,
   "metadata": {
    "collapsed": false
   },
   "outputs": [
    {
     "data": {
      "text/plain": [
       "(21305, 200)"
      ]
     },
     "execution_count": 244,
     "metadata": {},
     "output_type": "execute_result"
    }
   ],
   "source": [
    "X.shape"
   ]
  },
  {
   "cell_type": "code",
   "execution_count": 245,
   "metadata": {
    "collapsed": false
   },
   "outputs": [
    {
     "data": {
      "text/plain": [
       "[(u'rape', 0.6596007347106934),\n",
       " (u'date-rape', 0.6083933711051941),\n",
       " (u'proved', 0.603354811668396),\n",
       " (u'acquit', 0.6012427806854248),\n",
       " (u'definion', 0.5995047092437744),\n",
       " (u'unconsensual', 0.5994706153869629),\n",
       " (u'unconsentual', 0.5977901816368103),\n",
       " (u'universities', 0.5968244075775146),\n",
       " (u'shittiness', 0.5951771140098572),\n",
       " (u'dowm', 0.5951663851737976)]"
      ]
     },
     "execution_count": 245,
     "metadata": {},
     "output_type": "execute_result"
    }
   ],
   "source": [
    "model.most_similar(\"rapist\")"
   ]
  },
  {
   "cell_type": "code",
   "execution_count": 246,
   "metadata": {
    "collapsed": true
   },
   "outputs": [],
   "source": [
    "def docvecs_of_author(row, subreddit):    \n",
    "    tag = row[\"post\"][0][0]\n",
    "    \n",
    "    return pd.Series([model.docvecs[tag]])"
   ]
  },
  {
   "cell_type": "code",
   "execution_count": 247,
   "metadata": {
    "collapsed": false
   },
   "outputs": [],
   "source": [
    "men_polar[\"vec\"] = men_polar.apply(lambda row: docvecs_of_author(row, \"MensRights\"), axis=1)"
   ]
  },
  {
   "cell_type": "code",
   "execution_count": 249,
   "metadata": {
    "collapsed": false
   },
   "outputs": [],
   "source": [
    "fem_polar[\"vec\"] = fem_polar.apply(lambda row: docvecs_of_author(row, \"Feminism\"), axis=1)"
   ]
  },
  {
   "cell_type": "code",
   "execution_count": 268,
   "metadata": {
    "collapsed": true
   },
   "outputs": [],
   "source": [
    "men_train[\"vec\"] = men_train.apply(lambda row: docvecs_of_author(row, \"MensRights\"), axis=1)"
   ]
  },
  {
   "cell_type": "code",
   "execution_count": 269,
   "metadata": {
    "collapsed": true
   },
   "outputs": [],
   "source": [
    "fem_train[\"vec\"] = fem_train.apply(lambda row: docvecs_of_author(row, \"Feminism\"), axis=1)"
   ]
  },
  {
   "cell_type": "code",
   "execution_count": 270,
   "metadata": {
    "collapsed": false
   },
   "outputs": [],
   "source": [
    "X_men = np.array([v for v in men_train[\"vec\"]])"
   ]
  },
  {
   "cell_type": "code",
   "execution_count": 271,
   "metadata": {
    "collapsed": false
   },
   "outputs": [],
   "source": [
    "X_fem = np.array([v for v in fem_train[\"vec\"]])"
   ]
  },
  {
   "cell_type": "code",
   "execution_count": 272,
   "metadata": {
    "collapsed": false
   },
   "outputs": [
    {
     "data": {
      "text/plain": [
       "(339, 200)"
      ]
     },
     "execution_count": 272,
     "metadata": {},
     "output_type": "execute_result"
    }
   ],
   "source": [
    "X_men.shape"
   ]
  },
  {
   "cell_type": "code",
   "execution_count": 273,
   "metadata": {
    "collapsed": false
   },
   "outputs": [
    {
     "data": {
      "text/plain": [
       "(277, 200)"
      ]
     },
     "execution_count": 273,
     "metadata": {},
     "output_type": "execute_result"
    }
   ],
   "source": [
    "X_fem.shape"
   ]
  },
  {
   "cell_type": "code",
   "execution_count": 274,
   "metadata": {
    "collapsed": false
   },
   "outputs": [],
   "source": [
    "x_men = np.array([posts[0][1] for posts in men_polar[\"post\"]])"
   ]
  },
  {
   "cell_type": "code",
   "execution_count": 275,
   "metadata": {
    "collapsed": false
   },
   "outputs": [],
   "source": [
    "x_fem = np.array([posts[0][1] for posts in fem_polar[\"post\"]])"
   ]
  },
  {
   "cell_type": "code",
   "execution_count": 276,
   "metadata": {
    "collapsed": false
   },
   "outputs": [
    {
     "data": {
      "text/plain": [
       "1"
      ]
     },
     "execution_count": 276,
     "metadata": {},
     "output_type": "execute_result"
    }
   ],
   "source": [
    "x_men.min()"
   ]
  },
  {
   "cell_type": "code",
   "execution_count": 277,
   "metadata": {
    "collapsed": false
   },
   "outputs": [
    {
     "data": {
      "text/plain": [
       "1"
      ]
     },
     "execution_count": 277,
     "metadata": {},
     "output_type": "execute_result"
    }
   ],
   "source": [
    "x_fem.min()"
   ]
  },
  {
   "cell_type": "code",
   "execution_count": null,
   "metadata": {
    "collapsed": true
   },
   "outputs": [],
   "source": []
  },
  {
   "cell_type": "code",
   "execution_count": 278,
   "metadata": {
    "collapsed": true
   },
   "outputs": [],
   "source": [
    "from sklearn.manifold import TSNE"
   ]
  },
  {
   "cell_type": "code",
   "execution_count": 279,
   "metadata": {
    "collapsed": true
   },
   "outputs": [],
   "source": [
    "tsne = TSNE(n_components=2)"
   ]
  },
  {
   "cell_type": "code",
   "execution_count": 280,
   "metadata": {
    "collapsed": false
   },
   "outputs": [],
   "source": [
    "X_tsne = tsne.fit_transform(np.r_[X_men, X_fem])"
   ]
  },
  {
   "cell_type": "code",
   "execution_count": 281,
   "metadata": {
    "collapsed": false
   },
   "outputs": [
    {
     "data": {
      "text/plain": [
       "(616, 2)"
      ]
     },
     "execution_count": 281,
     "metadata": {},
     "output_type": "execute_result"
    }
   ],
   "source": [
    "X_tsne.shape"
   ]
  },
  {
   "cell_type": "code",
   "execution_count": 282,
   "metadata": {
    "collapsed": true
   },
   "outputs": [],
   "source": [
    "import matplotlib.pyplot as plt\n",
    "import seaborn as sns"
   ]
  },
  {
   "cell_type": "code",
   "execution_count": 283,
   "metadata": {
    "collapsed": false
   },
   "outputs": [
    {
     "data": {
      "text/plain": [
       "<matplotlib.collections.PathCollection at 0x7fd9ff9ecb10>"
      ]
     },
     "execution_count": 283,
     "metadata": {},
     "output_type": "execute_result"
    }
   ],
   "source": [
    "plt.scatter(X_tsne[:151, 0], X_tsne[:151, 1], c=\"r\", alpha=0.3, linewidths=0.1)\n",
    "plt.scatter(X_tsne[151:, 0], X_tsne[151:, 1], c=\"b\", alpha=0.3, linewidths=0.1)"
   ]
  },
  {
   "cell_type": "code",
   "execution_count": 284,
   "metadata": {
    "collapsed": false
   },
   "outputs": [
    {
     "data": {
      "image/png": "[encoded data removed]",
      "text/plain": [
       "<matplotlib.figure.Figure at 0x7fd9c6338c50>"
      ]
     },
     "metadata": {},
     "output_type": "display_data"
    }
   ],
   "source": [
    "plt.show()"
   ]
  },
  {
   "cell_type": "code",
   "execution_count": null,
   "metadata": {
    "collapsed": true
   },
   "outputs": [],
   "source": []
  }
 ],
 "metadata": {
  "anaconda-cloud": {},
  "kernelspec": {
   "display_name": "Python [conda root]",
   "language": "python",
   "name": "conda-root-py"
  },
  "language_info": {
   "codemirror_mode": {
    "name": "ipython",
    "version": 2
   },
   "file_extension": ".py",
   "mimetype": "text/x-python",
   "name": "python",
   "nbconvert_exporter": "python",
   "pygments_lexer": "ipython2",
   "version": "2.7.12"
  }
 },
 "nbformat": 4,
 "nbformat_minor": 1
}
